{
 "cells": [
  {
   "cell_type": "markdown",
   "metadata": {
    "id": "UwPiqMym8LcH"
   },
   "source": [
    "# A-Team Machine Learning Project\n",
    "\n",
    "## Rayan Alghamdi, Timo Bachmann, Qing Loh, Francisco Mansilla, Albert Sehnaoui, Wilhelm Stahlke IV, Aliaa Zayed\n",
    "### Counter Strike : Global Operations"
   ]
  },
  {
   "cell_type": "markdown",
   "metadata": {
    "id": "GrTwaBHK8LcI"
   },
   "source": [
    "Quick overview of the Notebook:\n",
    "\n",
    "1. Data import & **Pre-Processing** (import / *EDA* / *factorizing* / nulls / outliers) **!!! factorize also test data**\n",
    "\n",
    "3. **Feature Engineering** (run benchmark logit & feature importance of basic model // *filtering methods* (chi^2, IG) & rerun benchmark // *embedded methods* (lasso), rerun benchmark & extract selected features\n",
    "\n",
    "2. **Train-Validation** split (one-hot-encoding of categoricals / **standardization** / split)\n",
    "\n",
    "4. First **Model**: Apply PCA & run LDA \n",
    "\n",
    "5. Challenger Models: selected ML algorithms w final df\n",
    "\n",
    "6. Final Model: **Ensemble Method** Voting/StackingClassifier\n"
   ]
  },
  {
   "cell_type": "code",
   "execution_count": 5,
   "metadata": {
    "colab": {
     "base_uri": "https://localhost:8080/"
    },
    "id": "DdYS35md8LcI",
    "outputId": "49a4668d-6ea8-4df7-a48a-9882361dd91e"
   },
   "outputs": [],
   "source": [
    "# Google Drive setup\n",
    "\n",
    "#from google.colab import drive\n",
    "#drive.mount('/content/drive')"
   ]
  },
  {
   "cell_type": "markdown",
   "metadata": {
    "id": "8dYaOPBa8LcM"
   },
   "source": [
    "# 1. Data import & Pre-Processing"
   ]
  },
  {
   "cell_type": "markdown",
   "metadata": {
    "id": "HuYktdMw8LcM"
   },
   "source": [
    "## 1.1 Import"
   ]
  },
  {
   "cell_type": "markdown",
   "metadata": {
    "id": "HxkjitgN8LcN"
   },
   "source": [
    "### 1.1.1 Import libraries"
   ]
  },
  {
   "cell_type": "code",
   "execution_count": 6,
   "metadata": {
    "id": "pv7ETiBC8LcN",
    "scrolled": true
   },
   "outputs": [],
   "source": [
    "#! conda install scikit-learn -y\n",
    "#! conda update -n base conda -y"
   ]
  },
  {
   "cell_type": "code",
   "execution_count": 33,
   "metadata": {
    "colab": {
     "base_uri": "https://localhost:8080/",
     "height": 17
    },
    "id": "QXblQY0t8LcQ",
    "outputId": "5a0361ca-7870-43c0-e4cf-d935d84e1e2c"
   },
   "outputs": [
    {
     "data": {
      "text/html": [
       "<style>.container { width:100% !important; }</style>"
      ],
      "text/plain": [
       "<IPython.core.display.HTML object>"
      ]
     },
     "metadata": {},
     "output_type": "display_data"
    },
    {
     "data": {
      "text/html": [
       "<style>.rendered_html { font-size: 16px; }</style>"
      ],
      "text/plain": [
       "<IPython.core.display.HTML object>"
      ]
     },
     "metadata": {},
     "output_type": "display_data"
    }
   ],
   "source": [
    "from IPython.core.display import display, HTML\n",
    "\n",
    "display(HTML(\"<style>.container { width:100% !important; }</style>\")) # Increase cell width\n",
    "display(HTML(\"<style>.rendered_html { font-size: 16px; }</style>\")) # Increase font size\n",
    "\n",
    "# Larger figures\n",
    "\n",
    "import matplotlib\n",
    "import matplotlib.pyplot as plt\n",
    "import seaborn as sns\n",
    "%matplotlib inline  \n",
    "\n",
    "import pandas as pd\n",
    "import numpy as np\n",
    "import math\n",
    "\n",
    "from sklearn.model_selection import train_test_split\n",
    "from sklearn import linear_model\n",
    "from sklearn.metrics import roc_curve, roc_auc_score, accuracy_score\n",
    "from sklearn.preprocessing import OneHotEncoder\n",
    "from sklearn.model_selection import train_test_split\n",
    "\n",
    "from sklearn.metrics import plot_confusion_matrix, accuracy_score"
   ]
  },
  {
   "cell_type": "markdown",
   "metadata": {
    "id": "mdpcGFnf8LcT"
   },
   "source": [
    "### 1.1.2 Load Dataset"
   ]
  },
  {
   "cell_type": "code",
   "execution_count": 34,
   "metadata": {
    "colab": {
     "base_uri": "https://localhost:8080/",
     "height": 253
    },
    "id": "UJd0HAcw8LcU",
    "outputId": "a1964b24-338b-432f-8894-64e42a1bd495",
    "scrolled": false
   },
   "outputs": [
    {
     "data": {
      "text/html": [
       "<div>\n",
       "<style scoped>\n",
       "    .dataframe tbody tr th:only-of-type {\n",
       "        vertical-align: middle;\n",
       "    }\n",
       "\n",
       "    .dataframe tbody tr th {\n",
       "        vertical-align: top;\n",
       "    }\n",
       "\n",
       "    .dataframe thead th {\n",
       "        text-align: right;\n",
       "    }\n",
       "</style>\n",
       "<table border=\"1\" class=\"dataframe\">\n",
       "  <thead>\n",
       "    <tr style=\"text-align: right;\">\n",
       "      <th></th>\n",
       "      <th>time_left</th>\n",
       "      <th>ct_score</th>\n",
       "      <th>t_score</th>\n",
       "      <th>map</th>\n",
       "      <th>bomb_planted</th>\n",
       "      <th>ct_health</th>\n",
       "      <th>t_health</th>\n",
       "      <th>ct_armor</th>\n",
       "      <th>t_armor</th>\n",
       "      <th>ct_money</th>\n",
       "      <th>...</th>\n",
       "      <th>ct_grenade_flashbang</th>\n",
       "      <th>t_grenade_flashbang</th>\n",
       "      <th>ct_grenade_smokegrenade</th>\n",
       "      <th>t_grenade_smokegrenade</th>\n",
       "      <th>ct_grenade_incendiarygrenade</th>\n",
       "      <th>t_grenade_incendiarygrenade</th>\n",
       "      <th>ct_grenade_molotovgrenade</th>\n",
       "      <th>t_grenade_molotovgrenade</th>\n",
       "      <th>ct_grenade_decoygrenade</th>\n",
       "      <th>t_grenade_decoygrenade</th>\n",
       "    </tr>\n",
       "  </thead>\n",
       "  <tbody>\n",
       "    <tr>\n",
       "      <th>0</th>\n",
       "      <td>175.00</td>\n",
       "      <td>11.0</td>\n",
       "      <td>4.0</td>\n",
       "      <td>de_vertigo</td>\n",
       "      <td>False</td>\n",
       "      <td>500.0</td>\n",
       "      <td>500.0</td>\n",
       "      <td>400.0</td>\n",
       "      <td>300.0</td>\n",
       "      <td>700.0</td>\n",
       "      <td>...</td>\n",
       "      <td>0.0</td>\n",
       "      <td>1.0</td>\n",
       "      <td>0.0</td>\n",
       "      <td>1.0</td>\n",
       "      <td>0.0</td>\n",
       "      <td>0.0</td>\n",
       "      <td>0.0</td>\n",
       "      <td>0.0</td>\n",
       "      <td>0.0</td>\n",
       "      <td>1.0</td>\n",
       "    </tr>\n",
       "    <tr>\n",
       "      <th>1</th>\n",
       "      <td>94.95</td>\n",
       "      <td>8.0</td>\n",
       "      <td>4.0</td>\n",
       "      <td>de_dust2</td>\n",
       "      <td>False</td>\n",
       "      <td>400.0</td>\n",
       "      <td>450.0</td>\n",
       "      <td>400.0</td>\n",
       "      <td>477.0</td>\n",
       "      <td>10300.0</td>\n",
       "      <td>...</td>\n",
       "      <td>4.0</td>\n",
       "      <td>2.0</td>\n",
       "      <td>2.0</td>\n",
       "      <td>2.0</td>\n",
       "      <td>3.0</td>\n",
       "      <td>0.0</td>\n",
       "      <td>0.0</td>\n",
       "      <td>0.0</td>\n",
       "      <td>0.0</td>\n",
       "      <td>0.0</td>\n",
       "    </tr>\n",
       "    <tr>\n",
       "      <th>2</th>\n",
       "      <td>14.93</td>\n",
       "      <td>14.0</td>\n",
       "      <td>10.0</td>\n",
       "      <td>de_dust2</td>\n",
       "      <td>False</td>\n",
       "      <td>366.0</td>\n",
       "      <td>100.0</td>\n",
       "      <td>395.0</td>\n",
       "      <td>98.0</td>\n",
       "      <td>2350.0</td>\n",
       "      <td>...</td>\n",
       "      <td>1.0</td>\n",
       "      <td>0.0</td>\n",
       "      <td>1.0</td>\n",
       "      <td>0.0</td>\n",
       "      <td>0.0</td>\n",
       "      <td>0.0</td>\n",
       "      <td>0.0</td>\n",
       "      <td>1.0</td>\n",
       "      <td>0.0</td>\n",
       "      <td>0.0</td>\n",
       "    </tr>\n",
       "    <tr>\n",
       "      <th>3</th>\n",
       "      <td>46.27</td>\n",
       "      <td>12.0</td>\n",
       "      <td>15.0</td>\n",
       "      <td>de_nuke</td>\n",
       "      <td>False</td>\n",
       "      <td>400.0</td>\n",
       "      <td>446.0</td>\n",
       "      <td>399.0</td>\n",
       "      <td>434.0</td>\n",
       "      <td>300.0</td>\n",
       "      <td>...</td>\n",
       "      <td>1.0</td>\n",
       "      <td>5.0</td>\n",
       "      <td>0.0</td>\n",
       "      <td>1.0</td>\n",
       "      <td>0.0</td>\n",
       "      <td>0.0</td>\n",
       "      <td>0.0</td>\n",
       "      <td>2.0</td>\n",
       "      <td>0.0</td>\n",
       "      <td>0.0</td>\n",
       "    </tr>\n",
       "    <tr>\n",
       "      <th>4</th>\n",
       "      <td>37.07</td>\n",
       "      <td>18.0</td>\n",
       "      <td>18.0</td>\n",
       "      <td>de_train</td>\n",
       "      <td>False</td>\n",
       "      <td>100.0</td>\n",
       "      <td>200.0</td>\n",
       "      <td>100.0</td>\n",
       "      <td>200.0</td>\n",
       "      <td>10100.0</td>\n",
       "      <td>...</td>\n",
       "      <td>1.0</td>\n",
       "      <td>0.0</td>\n",
       "      <td>0.0</td>\n",
       "      <td>0.0</td>\n",
       "      <td>0.0</td>\n",
       "      <td>0.0</td>\n",
       "      <td>0.0</td>\n",
       "      <td>1.0</td>\n",
       "      <td>0.0</td>\n",
       "      <td>0.0</td>\n",
       "    </tr>\n",
       "  </tbody>\n",
       "</table>\n",
       "<p>5 rows × 96 columns</p>\n",
       "</div>"
      ],
      "text/plain": [
       "   time_left  ct_score  t_score         map  bomb_planted  ct_health  \\\n",
       "0     175.00      11.0      4.0  de_vertigo         False      500.0   \n",
       "1      94.95       8.0      4.0    de_dust2         False      400.0   \n",
       "2      14.93      14.0     10.0    de_dust2         False      366.0   \n",
       "3      46.27      12.0     15.0     de_nuke         False      400.0   \n",
       "4      37.07      18.0     18.0    de_train         False      100.0   \n",
       "\n",
       "   t_health  ct_armor  t_armor  ct_money  ...  ct_grenade_flashbang  \\\n",
       "0     500.0     400.0    300.0     700.0  ...                   0.0   \n",
       "1     450.0     400.0    477.0   10300.0  ...                   4.0   \n",
       "2     100.0     395.0     98.0    2350.0  ...                   1.0   \n",
       "3     446.0     399.0    434.0     300.0  ...                   1.0   \n",
       "4     200.0     100.0    200.0   10100.0  ...                   1.0   \n",
       "\n",
       "   t_grenade_flashbang  ct_grenade_smokegrenade  t_grenade_smokegrenade  \\\n",
       "0                  1.0                      0.0                     1.0   \n",
       "1                  2.0                      2.0                     2.0   \n",
       "2                  0.0                      1.0                     0.0   \n",
       "3                  5.0                      0.0                     1.0   \n",
       "4                  0.0                      0.0                     0.0   \n",
       "\n",
       "   ct_grenade_incendiarygrenade  t_grenade_incendiarygrenade  \\\n",
       "0                           0.0                          0.0   \n",
       "1                           3.0                          0.0   \n",
       "2                           0.0                          0.0   \n",
       "3                           0.0                          0.0   \n",
       "4                           0.0                          0.0   \n",
       "\n",
       "   ct_grenade_molotovgrenade  t_grenade_molotovgrenade  \\\n",
       "0                        0.0                       0.0   \n",
       "1                        0.0                       0.0   \n",
       "2                        0.0                       1.0   \n",
       "3                        0.0                       2.0   \n",
       "4                        0.0                       1.0   \n",
       "\n",
       "   ct_grenade_decoygrenade  t_grenade_decoygrenade  \n",
       "0                      0.0                     1.0  \n",
       "1                      0.0                     0.0  \n",
       "2                      0.0                     0.0  \n",
       "3                      0.0                     0.0  \n",
       "4                      0.0                     0.0  \n",
       "\n",
       "[5 rows x 96 columns]"
      ]
     },
     "execution_count": 34,
     "metadata": {},
     "output_type": "execute_result"
    }
   ],
   "source": [
    "#df_train = pd.read_csv('/content/drive/Shared drives/ML2 project/training_set.csv') # for Collab\n",
    "#df_test = pd.read_csv('/content/drive/Shared drives/ML2 project/test_set.csv') # for Collab\n",
    "df_train = pd.read_csv('./Data/training_set.csv')\n",
    "df_test = pd.read_csv('./Data/test_set.csv')\n",
    "\n",
    "results_df = pd.DataFrame(columns=['Approach', 'Accuracy']) # create df to store results of models\n",
    "\n",
    "df_test.head()"
   ]
  },
  {
   "cell_type": "code",
   "execution_count": 35,
   "metadata": {
    "scrolled": true
   },
   "outputs": [
    {
     "data": {
      "text/html": [
       "<div>\n",
       "<style scoped>\n",
       "    .dataframe tbody tr th:only-of-type {\n",
       "        vertical-align: middle;\n",
       "    }\n",
       "\n",
       "    .dataframe tbody tr th {\n",
       "        vertical-align: top;\n",
       "    }\n",
       "\n",
       "    .dataframe thead th {\n",
       "        text-align: right;\n",
       "    }\n",
       "</style>\n",
       "<table border=\"1\" class=\"dataframe\">\n",
       "  <thead>\n",
       "    <tr style=\"text-align: right;\">\n",
       "      <th></th>\n",
       "      <th>time_left</th>\n",
       "      <th>ct_score</th>\n",
       "      <th>t_score</th>\n",
       "      <th>map</th>\n",
       "      <th>bomb_planted</th>\n",
       "      <th>ct_health</th>\n",
       "      <th>t_health</th>\n",
       "      <th>ct_armor</th>\n",
       "      <th>t_armor</th>\n",
       "      <th>ct_money</th>\n",
       "      <th>t_money</th>\n",
       "      <th>ct_helmets</th>\n",
       "      <th>t_helmets</th>\n",
       "      <th>ct_defuse_kits</th>\n",
       "      <th>ct_players_alive</th>\n",
       "      <th>t_players_alive</th>\n",
       "      <th>ct_weapon_ak47</th>\n",
       "      <th>t_weapon_ak47</th>\n",
       "      <th>ct_weapon_aug</th>\n",
       "      <th>t_weapon_aug</th>\n",
       "    </tr>\n",
       "  </thead>\n",
       "  <tbody>\n",
       "    <tr>\n",
       "      <th>count</th>\n",
       "      <td>82014.000000</td>\n",
       "      <td>82014.000000</td>\n",
       "      <td>82014.000000</td>\n",
       "      <td>82014</td>\n",
       "      <td>82014</td>\n",
       "      <td>82014.000000</td>\n",
       "      <td>82014.000000</td>\n",
       "      <td>82014.000000</td>\n",
       "      <td>82014.000000</td>\n",
       "      <td>82014.000000</td>\n",
       "      <td>82014.000000</td>\n",
       "      <td>82014.000000</td>\n",
       "      <td>82014.000000</td>\n",
       "      <td>82014.000000</td>\n",
       "      <td>82014.000000</td>\n",
       "      <td>82014.000000</td>\n",
       "      <td>82014.000000</td>\n",
       "      <td>82014.000000</td>\n",
       "      <td>82014.000000</td>\n",
       "      <td>82014.000000</td>\n",
       "    </tr>\n",
       "    <tr>\n",
       "      <th>unique</th>\n",
       "      <td>NaN</td>\n",
       "      <td>NaN</td>\n",
       "      <td>NaN</td>\n",
       "      <td>8</td>\n",
       "      <td>2</td>\n",
       "      <td>NaN</td>\n",
       "      <td>NaN</td>\n",
       "      <td>NaN</td>\n",
       "      <td>NaN</td>\n",
       "      <td>NaN</td>\n",
       "      <td>NaN</td>\n",
       "      <td>NaN</td>\n",
       "      <td>NaN</td>\n",
       "      <td>NaN</td>\n",
       "      <td>NaN</td>\n",
       "      <td>NaN</td>\n",
       "      <td>NaN</td>\n",
       "      <td>NaN</td>\n",
       "      <td>NaN</td>\n",
       "      <td>NaN</td>\n",
       "    </tr>\n",
       "    <tr>\n",
       "      <th>top</th>\n",
       "      <td>NaN</td>\n",
       "      <td>NaN</td>\n",
       "      <td>NaN</td>\n",
       "      <td>de_inferno</td>\n",
       "      <td>False</td>\n",
       "      <td>NaN</td>\n",
       "      <td>NaN</td>\n",
       "      <td>NaN</td>\n",
       "      <td>NaN</td>\n",
       "      <td>NaN</td>\n",
       "      <td>NaN</td>\n",
       "      <td>NaN</td>\n",
       "      <td>NaN</td>\n",
       "      <td>NaN</td>\n",
       "      <td>NaN</td>\n",
       "      <td>NaN</td>\n",
       "      <td>NaN</td>\n",
       "      <td>NaN</td>\n",
       "      <td>NaN</td>\n",
       "      <td>NaN</td>\n",
       "    </tr>\n",
       "    <tr>\n",
       "      <th>freq</th>\n",
       "      <td>NaN</td>\n",
       "      <td>NaN</td>\n",
       "      <td>NaN</td>\n",
       "      <td>16011</td>\n",
       "      <td>72892</td>\n",
       "      <td>NaN</td>\n",
       "      <td>NaN</td>\n",
       "      <td>NaN</td>\n",
       "      <td>NaN</td>\n",
       "      <td>NaN</td>\n",
       "      <td>NaN</td>\n",
       "      <td>NaN</td>\n",
       "      <td>NaN</td>\n",
       "      <td>NaN</td>\n",
       "      <td>NaN</td>\n",
       "      <td>NaN</td>\n",
       "      <td>NaN</td>\n",
       "      <td>NaN</td>\n",
       "      <td>NaN</td>\n",
       "      <td>NaN</td>\n",
       "    </tr>\n",
       "    <tr>\n",
       "      <th>mean</th>\n",
       "      <td>97.928760</td>\n",
       "      <td>6.696662</td>\n",
       "      <td>6.770673</td>\n",
       "      <td>NaN</td>\n",
       "      <td>NaN</td>\n",
       "      <td>412.109433</td>\n",
       "      <td>402.735070</td>\n",
       "      <td>314.020887</td>\n",
       "      <td>298.709440</td>\n",
       "      <td>9801.424147</td>\n",
       "      <td>11213.002658</td>\n",
       "      <td>2.055917</td>\n",
       "      <td>2.776258</td>\n",
       "      <td>1.618065</td>\n",
       "      <td>4.274380</td>\n",
       "      <td>4.266552</td>\n",
       "      <td>0.274831</td>\n",
       "      <td>1.247811</td>\n",
       "      <td>0.134794</td>\n",
       "      <td>0.007633</td>\n",
       "    </tr>\n",
       "    <tr>\n",
       "      <th>std</th>\n",
       "      <td>54.446979</td>\n",
       "      <td>4.787549</td>\n",
       "      <td>4.818973</td>\n",
       "      <td>NaN</td>\n",
       "      <td>NaN</td>\n",
       "      <td>132.287314</td>\n",
       "      <td>139.912569</td>\n",
       "      <td>171.082890</td>\n",
       "      <td>174.413544</td>\n",
       "      <td>11239.040402</td>\n",
       "      <td>12141.557153</td>\n",
       "      <td>1.843675</td>\n",
       "      <td>2.010132</td>\n",
       "      <td>1.609774</td>\n",
       "      <td>1.204745</td>\n",
       "      <td>1.227631</td>\n",
       "      <td>0.585192</td>\n",
       "      <td>1.365173</td>\n",
       "      <td>0.461018</td>\n",
       "      <td>0.091272</td>\n",
       "    </tr>\n",
       "    <tr>\n",
       "      <th>min</th>\n",
       "      <td>0.030000</td>\n",
       "      <td>0.000000</td>\n",
       "      <td>0.000000</td>\n",
       "      <td>NaN</td>\n",
       "      <td>NaN</td>\n",
       "      <td>0.000000</td>\n",
       "      <td>0.000000</td>\n",
       "      <td>0.000000</td>\n",
       "      <td>0.000000</td>\n",
       "      <td>0.000000</td>\n",
       "      <td>0.000000</td>\n",
       "      <td>0.000000</td>\n",
       "      <td>0.000000</td>\n",
       "      <td>0.000000</td>\n",
       "      <td>0.000000</td>\n",
       "      <td>0.000000</td>\n",
       "      <td>0.000000</td>\n",
       "      <td>0.000000</td>\n",
       "      <td>0.000000</td>\n",
       "      <td>0.000000</td>\n",
       "    </tr>\n",
       "    <tr>\n",
       "      <th>25%</th>\n",
       "      <td>54.920000</td>\n",
       "      <td>3.000000</td>\n",
       "      <td>3.000000</td>\n",
       "      <td>NaN</td>\n",
       "      <td>NaN</td>\n",
       "      <td>351.000000</td>\n",
       "      <td>322.000000</td>\n",
       "      <td>193.000000</td>\n",
       "      <td>175.000000</td>\n",
       "      <td>1300.000000</td>\n",
       "      <td>1600.000000</td>\n",
       "      <td>0.000000</td>\n",
       "      <td>0.000000</td>\n",
       "      <td>0.000000</td>\n",
       "      <td>4.000000</td>\n",
       "      <td>4.000000</td>\n",
       "      <td>0.000000</td>\n",
       "      <td>0.000000</td>\n",
       "      <td>0.000000</td>\n",
       "      <td>0.000000</td>\n",
       "    </tr>\n",
       "    <tr>\n",
       "      <th>50%</th>\n",
       "      <td>94.910000</td>\n",
       "      <td>6.000000</td>\n",
       "      <td>6.000000</td>\n",
       "      <td>NaN</td>\n",
       "      <td>NaN</td>\n",
       "      <td>500.000000</td>\n",
       "      <td>500.000000</td>\n",
       "      <td>377.000000</td>\n",
       "      <td>333.000000</td>\n",
       "      <td>5500.000000</td>\n",
       "      <td>7100.000000</td>\n",
       "      <td>2.000000</td>\n",
       "      <td>3.000000</td>\n",
       "      <td>1.000000</td>\n",
       "      <td>5.000000</td>\n",
       "      <td>5.000000</td>\n",
       "      <td>0.000000</td>\n",
       "      <td>1.000000</td>\n",
       "      <td>0.000000</td>\n",
       "      <td>0.000000</td>\n",
       "    </tr>\n",
       "    <tr>\n",
       "      <th>75%</th>\n",
       "      <td>166.920000</td>\n",
       "      <td>10.000000</td>\n",
       "      <td>10.000000</td>\n",
       "      <td>NaN</td>\n",
       "      <td>NaN</td>\n",
       "      <td>500.000000</td>\n",
       "      <td>500.000000</td>\n",
       "      <td>486.000000</td>\n",
       "      <td>468.000000</td>\n",
       "      <td>14600.000000</td>\n",
       "      <td>18000.000000</td>\n",
       "      <td>4.000000</td>\n",
       "      <td>5.000000</td>\n",
       "      <td>3.000000</td>\n",
       "      <td>5.000000</td>\n",
       "      <td>5.000000</td>\n",
       "      <td>0.000000</td>\n",
       "      <td>2.000000</td>\n",
       "      <td>0.000000</td>\n",
       "      <td>0.000000</td>\n",
       "    </tr>\n",
       "    <tr>\n",
       "      <th>max</th>\n",
       "      <td>175.000000</td>\n",
       "      <td>32.000000</td>\n",
       "      <td>33.000000</td>\n",
       "      <td>NaN</td>\n",
       "      <td>NaN</td>\n",
       "      <td>500.000000</td>\n",
       "      <td>600.000000</td>\n",
       "      <td>500.000000</td>\n",
       "      <td>500.000000</td>\n",
       "      <td>80000.000000</td>\n",
       "      <td>80000.000000</td>\n",
       "      <td>5.000000</td>\n",
       "      <td>5.000000</td>\n",
       "      <td>5.000000</td>\n",
       "      <td>5.000000</td>\n",
       "      <td>6.000000</td>\n",
       "      <td>4.000000</td>\n",
       "      <td>5.000000</td>\n",
       "      <td>5.000000</td>\n",
       "      <td>3.000000</td>\n",
       "    </tr>\n",
       "  </tbody>\n",
       "</table>\n",
       "</div>"
      ],
      "text/plain": [
       "           time_left      ct_score       t_score         map bomb_planted  \\\n",
       "count   82014.000000  82014.000000  82014.000000       82014        82014   \n",
       "unique           NaN           NaN           NaN           8            2   \n",
       "top              NaN           NaN           NaN  de_inferno        False   \n",
       "freq             NaN           NaN           NaN       16011        72892   \n",
       "mean       97.928760      6.696662      6.770673         NaN          NaN   \n",
       "std        54.446979      4.787549      4.818973         NaN          NaN   \n",
       "min         0.030000      0.000000      0.000000         NaN          NaN   \n",
       "25%        54.920000      3.000000      3.000000         NaN          NaN   \n",
       "50%        94.910000      6.000000      6.000000         NaN          NaN   \n",
       "75%       166.920000     10.000000     10.000000         NaN          NaN   \n",
       "max       175.000000     32.000000     33.000000         NaN          NaN   \n",
       "\n",
       "           ct_health      t_health      ct_armor       t_armor      ct_money  \\\n",
       "count   82014.000000  82014.000000  82014.000000  82014.000000  82014.000000   \n",
       "unique           NaN           NaN           NaN           NaN           NaN   \n",
       "top              NaN           NaN           NaN           NaN           NaN   \n",
       "freq             NaN           NaN           NaN           NaN           NaN   \n",
       "mean      412.109433    402.735070    314.020887    298.709440   9801.424147   \n",
       "std       132.287314    139.912569    171.082890    174.413544  11239.040402   \n",
       "min         0.000000      0.000000      0.000000      0.000000      0.000000   \n",
       "25%       351.000000    322.000000    193.000000    175.000000   1300.000000   \n",
       "50%       500.000000    500.000000    377.000000    333.000000   5500.000000   \n",
       "75%       500.000000    500.000000    486.000000    468.000000  14600.000000   \n",
       "max       500.000000    600.000000    500.000000    500.000000  80000.000000   \n",
       "\n",
       "             t_money    ct_helmets     t_helmets  ct_defuse_kits  \\\n",
       "count   82014.000000  82014.000000  82014.000000    82014.000000   \n",
       "unique           NaN           NaN           NaN             NaN   \n",
       "top              NaN           NaN           NaN             NaN   \n",
       "freq             NaN           NaN           NaN             NaN   \n",
       "mean    11213.002658      2.055917      2.776258        1.618065   \n",
       "std     12141.557153      1.843675      2.010132        1.609774   \n",
       "min         0.000000      0.000000      0.000000        0.000000   \n",
       "25%      1600.000000      0.000000      0.000000        0.000000   \n",
       "50%      7100.000000      2.000000      3.000000        1.000000   \n",
       "75%     18000.000000      4.000000      5.000000        3.000000   \n",
       "max     80000.000000      5.000000      5.000000        5.000000   \n",
       "\n",
       "        ct_players_alive  t_players_alive  ct_weapon_ak47  t_weapon_ak47  \\\n",
       "count       82014.000000     82014.000000    82014.000000   82014.000000   \n",
       "unique               NaN              NaN             NaN            NaN   \n",
       "top                  NaN              NaN             NaN            NaN   \n",
       "freq                 NaN              NaN             NaN            NaN   \n",
       "mean            4.274380         4.266552        0.274831       1.247811   \n",
       "std             1.204745         1.227631        0.585192       1.365173   \n",
       "min             0.000000         0.000000        0.000000       0.000000   \n",
       "25%             4.000000         4.000000        0.000000       0.000000   \n",
       "50%             5.000000         5.000000        0.000000       1.000000   \n",
       "75%             5.000000         5.000000        0.000000       2.000000   \n",
       "max             5.000000         6.000000        4.000000       5.000000   \n",
       "\n",
       "        ct_weapon_aug  t_weapon_aug  \n",
       "count    82014.000000  82014.000000  \n",
       "unique            NaN           NaN  \n",
       "top               NaN           NaN  \n",
       "freq              NaN           NaN  \n",
       "mean         0.134794      0.007633  \n",
       "std          0.461018      0.091272  \n",
       "min          0.000000      0.000000  \n",
       "25%          0.000000      0.000000  \n",
       "50%          0.000000      0.000000  \n",
       "75%          0.000000      0.000000  \n",
       "max          5.000000      3.000000  "
      ]
     },
     "execution_count": 35,
     "metadata": {},
     "output_type": "execute_result"
    }
   ],
   "source": [
    "df_train.iloc[:,:20].describe(include='all')"
   ]
  },
  {
   "cell_type": "markdown",
   "metadata": {},
   "source": [
    "After the description of the variables, we will convert the categorical variables into boolean\n"
   ]
  },
  {
   "cell_type": "code",
   "execution_count": 36,
   "metadata": {
    "id": "LN5l9kSc8LcW"
   },
   "outputs": [],
   "source": [
    "df_train['round_winner'].replace(['CT','T'],[1.0,0.0],inplace=True)\n",
    "\n",
    "df_train['bomb_planted'].replace([True,False],[1.0,0.0],inplace=True)\n",
    "df_test['bomb_planted'].replace([True,False],[1.0,0.0],inplace=True)"
   ]
  },
  {
   "cell_type": "markdown",
   "metadata": {},
   "source": [
    "We observe many \"0\" in certain columns"
   ]
  },
  {
   "cell_type": "code",
   "execution_count": 37,
   "metadata": {
    "colab": {
     "base_uri": "https://localhost:8080/"
    },
    "id": "4CHliroK8LcZ",
    "outputId": "d75bbe4a-d273-4c1c-efe9-ddb3f378ba2f"
   },
   "outputs": [
    {
     "name": "stderr",
     "output_type": "stream",
     "text": [
      "/Users/franciscomansillanavarro/opt/anaconda3/lib/python3.7/site-packages/pandas/core/indexes/base.py:4107: FutureWarning: Using a non-tuple sequence for multidimensional indexing is deprecated; use `arr[tuple(seq)]` instead of `arr[seq]`. In the future this will be interpreted as an array index, `arr[np.array(seq)]`, which will result either in an error or a different result.\n",
      "  result = getitem(key)\n"
     ]
    },
    {
     "data": {
      "text/plain": [
       "Index(['ct_weapon_bizon', 'ct_weapon_g3sg1', 'ct_weapon_m249', 't_weapon_m249',\n",
       "       'ct_weapon_negev', 'ct_weapon_r8revolver', 'ct_weapon_sawedoff'],\n",
       "      dtype='object')"
      ]
     },
     "execution_count": 37,
     "metadata": {},
     "output_type": "execute_result"
    }
   ],
   "source": [
    "array_zeros= np.where(df_train.sum()==0)\n",
    "list_only_zero = df_train.columns[list(array_zeros)]\n",
    "list_only_zero"
   ]
  },
  {
   "cell_type": "markdown",
   "metadata": {},
   "source": [
    "We will remove the variables that contain unique values, since they will not have an influence on the performance of the model and it will only increase the computation time."
   ]
  },
  {
   "cell_type": "code",
   "execution_count": 38,
   "metadata": {
    "colab": {
     "base_uri": "https://localhost:8080/"
    },
    "id": "Y6dPTArQ8Lcc",
    "outputId": "86999d3d-9dc8-4803-a105-a3fa2dec0c6f"
   },
   "outputs": [
    {
     "name": "stdout",
     "output_type": "stream",
     "text": [
      "There are 7 columns to be removed\n",
      "Columns Index(['ct_weapon_bizon', 'ct_weapon_g3sg1', 'ct_weapon_m249', 't_weapon_m249',\n",
      "       'ct_weapon_negev', 'ct_weapon_r8revolver', 'ct_weapon_sawedoff'],\n",
      "      dtype='object')\n"
     ]
    }
   ],
   "source": [
    "# Check all the columns with unique values\n",
    "lista = []\n",
    "for col in df_train.columns:\n",
    "    lista.append(len(df_train.loc[:,col].unique()))\n",
    "\n",
    "print(\"There are %d columns to be removed\" %sum(pd.Series(lista) == 1.0))\n",
    "filter_unique= pd.Series(lista) != 1.0\n",
    "print(\"Columns %s\" %df_train.columns[~filter_unique])\n",
    "\n",
    "variables_exclude = df_train.columns[~filter_unique]"
   ]
  },
  {
   "cell_type": "code",
   "execution_count": 39,
   "metadata": {
    "id": "vdP8tRnR8Lce"
   },
   "outputs": [],
   "source": [
    "# For test set, since we do not have the last column round_winner\n",
    "filter_unique2 = filter_unique[:-1]"
   ]
  },
  {
   "cell_type": "code",
   "execution_count": 40,
   "metadata": {
    "id": "PXpMi8KG8Lcg"
   },
   "outputs": [],
   "source": [
    "# We remove those unique values columns\n",
    "df_train = df_train.loc[:,df_train.columns[filter_unique]]\n",
    "\n",
    "df_test = df_test.loc[:,df_test.columns[filter_unique2]]"
   ]
  },
  {
   "cell_type": "markdown",
   "metadata": {
    "id": "J41fR7CD8Lcl"
   },
   "source": [
    "## 1.2 Exploratory Data Analysis // ALIA in review not final "
   ]
  },
  {
   "cell_type": "code",
   "execution_count": 41,
   "metadata": {
    "colab": {
     "base_uri": "https://localhost:8080/"
    },
    "id": "fuX3oldp8Lcl",
    "outputId": "21bd42ef-dfad-493e-deb5-c3e3603e796c"
   },
   "outputs": [
    {
     "data": {
      "text/plain": [
       "time_left                    float64\n",
       "ct_score                     float64\n",
       "t_score                      float64\n",
       "map                           object\n",
       "bomb_planted                 float64\n",
       "                              ...   \n",
       "ct_grenade_molotovgrenade    float64\n",
       "t_grenade_molotovgrenade     float64\n",
       "ct_grenade_decoygrenade      float64\n",
       "t_grenade_decoygrenade       float64\n",
       "round_winner                 float64\n",
       "Length: 90, dtype: object"
      ]
     },
     "execution_count": 41,
     "metadata": {},
     "output_type": "execute_result"
    }
   ],
   "source": [
    "df_train.dtypes"
   ]
  },
  {
   "cell_type": "code",
   "execution_count": 42,
   "metadata": {
    "colab": {
     "base_uri": "https://localhost:8080/",
     "height": 346
    },
    "id": "vwCzPdIL8Lcn",
    "outputId": "45fadbf4-23b2-4fff-d065-f713d87232a5",
    "scrolled": true
   },
   "outputs": [
    {
     "data": {
      "text/html": [
       "<div>\n",
       "<style scoped>\n",
       "    .dataframe tbody tr th:only-of-type {\n",
       "        vertical-align: middle;\n",
       "    }\n",
       "\n",
       "    .dataframe tbody tr th {\n",
       "        vertical-align: top;\n",
       "    }\n",
       "\n",
       "    .dataframe thead th {\n",
       "        text-align: right;\n",
       "    }\n",
       "</style>\n",
       "<table border=\"1\" class=\"dataframe\">\n",
       "  <thead>\n",
       "    <tr style=\"text-align: right;\">\n",
       "      <th></th>\n",
       "      <th>time_left</th>\n",
       "      <th>ct_score</th>\n",
       "      <th>t_score</th>\n",
       "      <th>bomb_planted</th>\n",
       "      <th>ct_health</th>\n",
       "      <th>t_health</th>\n",
       "      <th>ct_armor</th>\n",
       "      <th>t_armor</th>\n",
       "      <th>ct_money</th>\n",
       "      <th>t_money</th>\n",
       "      <th>...</th>\n",
       "      <th>t_grenade_flashbang</th>\n",
       "      <th>ct_grenade_smokegrenade</th>\n",
       "      <th>t_grenade_smokegrenade</th>\n",
       "      <th>ct_grenade_incendiarygrenade</th>\n",
       "      <th>t_grenade_incendiarygrenade</th>\n",
       "      <th>ct_grenade_molotovgrenade</th>\n",
       "      <th>t_grenade_molotovgrenade</th>\n",
       "      <th>ct_grenade_decoygrenade</th>\n",
       "      <th>t_grenade_decoygrenade</th>\n",
       "      <th>round_winner</th>\n",
       "    </tr>\n",
       "  </thead>\n",
       "  <tbody>\n",
       "    <tr>\n",
       "      <th>count</th>\n",
       "      <td>82014.000000</td>\n",
       "      <td>82014.000000</td>\n",
       "      <td>82014.000000</td>\n",
       "      <td>82014.000000</td>\n",
       "      <td>82014.000000</td>\n",
       "      <td>82014.000000</td>\n",
       "      <td>82014.000000</td>\n",
       "      <td>82014.000000</td>\n",
       "      <td>82014.000000</td>\n",
       "      <td>82014.000000</td>\n",
       "      <td>...</td>\n",
       "      <td>82014.000000</td>\n",
       "      <td>82014.000000</td>\n",
       "      <td>82014.000000</td>\n",
       "      <td>82014.000000</td>\n",
       "      <td>82014.000000</td>\n",
       "      <td>82014.000000</td>\n",
       "      <td>82014.000000</td>\n",
       "      <td>82014.000000</td>\n",
       "      <td>82014.000000</td>\n",
       "      <td>82014.000000</td>\n",
       "    </tr>\n",
       "    <tr>\n",
       "      <th>mean</th>\n",
       "      <td>97.928760</td>\n",
       "      <td>6.696662</td>\n",
       "      <td>6.770673</td>\n",
       "      <td>0.111225</td>\n",
       "      <td>412.109433</td>\n",
       "      <td>402.735070</td>\n",
       "      <td>314.020887</td>\n",
       "      <td>298.709440</td>\n",
       "      <td>9801.424147</td>\n",
       "      <td>11213.002658</td>\n",
       "      <td>...</td>\n",
       "      <td>1.860841</td>\n",
       "      <td>1.540664</td>\n",
       "      <td>1.630124</td>\n",
       "      <td>1.003536</td>\n",
       "      <td>0.020216</td>\n",
       "      <td>0.047785</td>\n",
       "      <td>1.352159</td>\n",
       "      <td>0.027995</td>\n",
       "      <td>0.025691</td>\n",
       "      <td>0.489185</td>\n",
       "    </tr>\n",
       "    <tr>\n",
       "      <th>std</th>\n",
       "      <td>54.446979</td>\n",
       "      <td>4.787549</td>\n",
       "      <td>4.818973</td>\n",
       "      <td>0.314412</td>\n",
       "      <td>132.287314</td>\n",
       "      <td>139.912569</td>\n",
       "      <td>171.082890</td>\n",
       "      <td>174.413544</td>\n",
       "      <td>11239.040402</td>\n",
       "      <td>12141.557153</td>\n",
       "      <td>...</td>\n",
       "      <td>1.794955</td>\n",
       "      <td>1.739206</td>\n",
       "      <td>1.829472</td>\n",
       "      <td>1.460326</td>\n",
       "      <td>0.144754</td>\n",
       "      <td>0.227260</td>\n",
       "      <td>1.662723</td>\n",
       "      <td>0.170270</td>\n",
       "      <td>0.163965</td>\n",
       "      <td>0.499886</td>\n",
       "    </tr>\n",
       "    <tr>\n",
       "      <th>min</th>\n",
       "      <td>0.030000</td>\n",
       "      <td>0.000000</td>\n",
       "      <td>0.000000</td>\n",
       "      <td>0.000000</td>\n",
       "      <td>0.000000</td>\n",
       "      <td>0.000000</td>\n",
       "      <td>0.000000</td>\n",
       "      <td>0.000000</td>\n",
       "      <td>0.000000</td>\n",
       "      <td>0.000000</td>\n",
       "      <td>...</td>\n",
       "      <td>0.000000</td>\n",
       "      <td>0.000000</td>\n",
       "      <td>0.000000</td>\n",
       "      <td>0.000000</td>\n",
       "      <td>0.000000</td>\n",
       "      <td>0.000000</td>\n",
       "      <td>0.000000</td>\n",
       "      <td>0.000000</td>\n",
       "      <td>0.000000</td>\n",
       "      <td>0.000000</td>\n",
       "    </tr>\n",
       "    <tr>\n",
       "      <th>25%</th>\n",
       "      <td>54.920000</td>\n",
       "      <td>3.000000</td>\n",
       "      <td>3.000000</td>\n",
       "      <td>0.000000</td>\n",
       "      <td>351.000000</td>\n",
       "      <td>322.000000</td>\n",
       "      <td>193.000000</td>\n",
       "      <td>175.000000</td>\n",
       "      <td>1300.000000</td>\n",
       "      <td>1600.000000</td>\n",
       "      <td>...</td>\n",
       "      <td>0.000000</td>\n",
       "      <td>0.000000</td>\n",
       "      <td>0.000000</td>\n",
       "      <td>0.000000</td>\n",
       "      <td>0.000000</td>\n",
       "      <td>0.000000</td>\n",
       "      <td>0.000000</td>\n",
       "      <td>0.000000</td>\n",
       "      <td>0.000000</td>\n",
       "      <td>0.000000</td>\n",
       "    </tr>\n",
       "    <tr>\n",
       "      <th>50%</th>\n",
       "      <td>94.910000</td>\n",
       "      <td>6.000000</td>\n",
       "      <td>6.000000</td>\n",
       "      <td>0.000000</td>\n",
       "      <td>500.000000</td>\n",
       "      <td>500.000000</td>\n",
       "      <td>377.000000</td>\n",
       "      <td>333.000000</td>\n",
       "      <td>5500.000000</td>\n",
       "      <td>7100.000000</td>\n",
       "      <td>...</td>\n",
       "      <td>1.000000</td>\n",
       "      <td>1.000000</td>\n",
       "      <td>1.000000</td>\n",
       "      <td>0.000000</td>\n",
       "      <td>0.000000</td>\n",
       "      <td>0.000000</td>\n",
       "      <td>1.000000</td>\n",
       "      <td>0.000000</td>\n",
       "      <td>0.000000</td>\n",
       "      <td>0.000000</td>\n",
       "    </tr>\n",
       "    <tr>\n",
       "      <th>75%</th>\n",
       "      <td>166.920000</td>\n",
       "      <td>10.000000</td>\n",
       "      <td>10.000000</td>\n",
       "      <td>0.000000</td>\n",
       "      <td>500.000000</td>\n",
       "      <td>500.000000</td>\n",
       "      <td>486.000000</td>\n",
       "      <td>468.000000</td>\n",
       "      <td>14600.000000</td>\n",
       "      <td>18000.000000</td>\n",
       "      <td>...</td>\n",
       "      <td>3.000000</td>\n",
       "      <td>3.000000</td>\n",
       "      <td>3.000000</td>\n",
       "      <td>2.000000</td>\n",
       "      <td>0.000000</td>\n",
       "      <td>0.000000</td>\n",
       "      <td>2.000000</td>\n",
       "      <td>0.000000</td>\n",
       "      <td>0.000000</td>\n",
       "      <td>1.000000</td>\n",
       "    </tr>\n",
       "    <tr>\n",
       "      <th>max</th>\n",
       "      <td>175.000000</td>\n",
       "      <td>32.000000</td>\n",
       "      <td>33.000000</td>\n",
       "      <td>1.000000</td>\n",
       "      <td>500.000000</td>\n",
       "      <td>600.000000</td>\n",
       "      <td>500.000000</td>\n",
       "      <td>500.000000</td>\n",
       "      <td>80000.000000</td>\n",
       "      <td>80000.000000</td>\n",
       "      <td>...</td>\n",
       "      <td>5.000000</td>\n",
       "      <td>5.000000</td>\n",
       "      <td>5.000000</td>\n",
       "      <td>5.000000</td>\n",
       "      <td>3.000000</td>\n",
       "      <td>3.000000</td>\n",
       "      <td>5.000000</td>\n",
       "      <td>3.000000</td>\n",
       "      <td>2.000000</td>\n",
       "      <td>1.000000</td>\n",
       "    </tr>\n",
       "  </tbody>\n",
       "</table>\n",
       "<p>8 rows × 89 columns</p>\n",
       "</div>"
      ],
      "text/plain": [
       "          time_left      ct_score       t_score  bomb_planted     ct_health  \\\n",
       "count  82014.000000  82014.000000  82014.000000  82014.000000  82014.000000   \n",
       "mean      97.928760      6.696662      6.770673      0.111225    412.109433   \n",
       "std       54.446979      4.787549      4.818973      0.314412    132.287314   \n",
       "min        0.030000      0.000000      0.000000      0.000000      0.000000   \n",
       "25%       54.920000      3.000000      3.000000      0.000000    351.000000   \n",
       "50%       94.910000      6.000000      6.000000      0.000000    500.000000   \n",
       "75%      166.920000     10.000000     10.000000      0.000000    500.000000   \n",
       "max      175.000000     32.000000     33.000000      1.000000    500.000000   \n",
       "\n",
       "           t_health      ct_armor       t_armor      ct_money       t_money  \\\n",
       "count  82014.000000  82014.000000  82014.000000  82014.000000  82014.000000   \n",
       "mean     402.735070    314.020887    298.709440   9801.424147  11213.002658   \n",
       "std      139.912569    171.082890    174.413544  11239.040402  12141.557153   \n",
       "min        0.000000      0.000000      0.000000      0.000000      0.000000   \n",
       "25%      322.000000    193.000000    175.000000   1300.000000   1600.000000   \n",
       "50%      500.000000    377.000000    333.000000   5500.000000   7100.000000   \n",
       "75%      500.000000    486.000000    468.000000  14600.000000  18000.000000   \n",
       "max      600.000000    500.000000    500.000000  80000.000000  80000.000000   \n",
       "\n",
       "       ...  t_grenade_flashbang  ct_grenade_smokegrenade  \\\n",
       "count  ...         82014.000000             82014.000000   \n",
       "mean   ...             1.860841                 1.540664   \n",
       "std    ...             1.794955                 1.739206   \n",
       "min    ...             0.000000                 0.000000   \n",
       "25%    ...             0.000000                 0.000000   \n",
       "50%    ...             1.000000                 1.000000   \n",
       "75%    ...             3.000000                 3.000000   \n",
       "max    ...             5.000000                 5.000000   \n",
       "\n",
       "       t_grenade_smokegrenade  ct_grenade_incendiarygrenade  \\\n",
       "count            82014.000000                  82014.000000   \n",
       "mean                 1.630124                      1.003536   \n",
       "std                  1.829472                      1.460326   \n",
       "min                  0.000000                      0.000000   \n",
       "25%                  0.000000                      0.000000   \n",
       "50%                  1.000000                      0.000000   \n",
       "75%                  3.000000                      2.000000   \n",
       "max                  5.000000                      5.000000   \n",
       "\n",
       "       t_grenade_incendiarygrenade  ct_grenade_molotovgrenade  \\\n",
       "count                 82014.000000               82014.000000   \n",
       "mean                      0.020216                   0.047785   \n",
       "std                       0.144754                   0.227260   \n",
       "min                       0.000000                   0.000000   \n",
       "25%                       0.000000                   0.000000   \n",
       "50%                       0.000000                   0.000000   \n",
       "75%                       0.000000                   0.000000   \n",
       "max                       3.000000                   3.000000   \n",
       "\n",
       "       t_grenade_molotovgrenade  ct_grenade_decoygrenade  \\\n",
       "count              82014.000000             82014.000000   \n",
       "mean                   1.352159                 0.027995   \n",
       "std                    1.662723                 0.170270   \n",
       "min                    0.000000                 0.000000   \n",
       "25%                    0.000000                 0.000000   \n",
       "50%                    1.000000                 0.000000   \n",
       "75%                    2.000000                 0.000000   \n",
       "max                    5.000000                 3.000000   \n",
       "\n",
       "       t_grenade_decoygrenade  round_winner  \n",
       "count            82014.000000  82014.000000  \n",
       "mean                 0.025691      0.489185  \n",
       "std                  0.163965      0.499886  \n",
       "min                  0.000000      0.000000  \n",
       "25%                  0.000000      0.000000  \n",
       "50%                  0.000000      0.000000  \n",
       "75%                  0.000000      1.000000  \n",
       "max                  2.000000      1.000000  \n",
       "\n",
       "[8 rows x 89 columns]"
      ]
     },
     "execution_count": 42,
     "metadata": {},
     "output_type": "execute_result"
    }
   ],
   "source": [
    "# df_train\n",
    "df_train.describe()"
   ]
  },
  {
   "cell_type": "markdown",
   "metadata": {
    "id": "7g1e0cuZ8Lcp"
   },
   "source": [
    "The number of wins is almost equal for both sides"
   ]
  },
  {
   "cell_type": "code",
   "execution_count": 11,
   "metadata": {
    "colab": {
     "base_uri": "https://localhost:8080/",
     "height": 410
    },
    "id": "zFnLUYeY8Lcs",
    "outputId": "5d8b15f8-f7e9-43dc-8684-0c2a8112d6a3"
   },
   "outputs": [
    {
     "data": {
      "image/png": "[encoded data removed]",
      "text/plain": [
       "<Figure size 576x432 with 1 Axes>"
      ]
     },
     "metadata": {
      "needs_background": "light"
     },
     "output_type": "display_data"
    }
   ],
   "source": [
    "plt.figure(figsize=(8,6))\n",
    "ax = sns.barplot(x=df_train['round_winner'].unique(), y=df_train['round_winner'].value_counts())\n",
    "ax.set(title='Total wins per side', xlabel='Side', ylabel='Wins')\n",
    "plt.show()"
   ]
  },
  {
   "cell_type": "markdown",
   "metadata": {},
   "source": [
    "We can observe how popular each map is on the game, where CT beats T in maps such as train and nuke. T has a better performance in maps such as inferno and dust2"
   ]
  },
  {
   "cell_type": "code",
   "execution_count": 15,
   "metadata": {},
   "outputs": [
    {
     "data": {
      "text/plain": [
       "de_inferno     16011\n",
       "de_dust2       14771\n",
       "de_nuke        12717\n",
       "de_mirage      12445\n",
       "de_overpass     9514\n",
       "de_train        9021\n",
       "de_vertigo      7432\n",
       "de_cache         103\n",
       "Name: map, dtype: int64"
      ]
     },
     "execution_count": 15,
     "metadata": {},
     "output_type": "execute_result"
    }
   ],
   "source": [
    "df_train.loc[:,'map'].value_counts()"
   ]
  },
  {
   "cell_type": "code",
   "execution_count": 16,
   "metadata": {
    "colab": {
     "base_uri": "https://localhost:8080/",
     "height": 410
    },
    "id": "LZ0DLWZ68Lcv",
    "outputId": "67ac2db2-6e84-4e55-81ae-4561c40039c4",
    "scrolled": false
   },
   "outputs": [
    {
     "data": {
      "image/png": "[encoded data removed]",
      "text/plain": [
       "<Figure size 720x432 with 1 Axes>"
      ]
     },
     "metadata": {
      "needs_background": "light"
     },
     "output_type": "display_data"
    }
   ],
   "source": [
    "plt.figure(figsize=(10,6))\n",
    "ax = sns.countplot(x=\"map\", hue=\"round_winner\", data=df_train)\n",
    "ax.set(title='Round winners for each map')\n",
    "plt.show()"
   ]
  },
  {
   "cell_type": "markdown",
   "metadata": {},
   "source": [
    "We can plot the distribution of certain variables of interest"
   ]
  },
  {
   "cell_type": "code",
   "execution_count": 17,
   "metadata": {
    "colab": {
     "base_uri": "https://localhost:8080/",
     "height": 1000
    },
    "id": "hcbd1k768Lc3",
    "outputId": "13c448b7-0869-4c88-99cb-9783c7bffefa"
   },
   "outputs": [
    {
     "name": "stderr",
     "output_type": "stream",
     "text": [
      "/Users/franciscomansillanavarro/opt/anaconda3/lib/python3.7/site-packages/seaborn/distributions.py:2551: FutureWarning: `distplot` is a deprecated function and will be removed in a future version. Please adapt your code to use either `displot` (a figure-level function with similar flexibility) or `histplot` (an axes-level function for histograms).\n",
      "  warnings.warn(msg, FutureWarning)\n",
      "/Users/franciscomansillanavarro/opt/anaconda3/lib/python3.7/site-packages/seaborn/distributions.py:2551: FutureWarning: `distplot` is a deprecated function and will be removed in a future version. Please adapt your code to use either `displot` (a figure-level function with similar flexibility) or `histplot` (an axes-level function for histograms).\n",
      "  warnings.warn(msg, FutureWarning)\n",
      "/Users/franciscomansillanavarro/opt/anaconda3/lib/python3.7/site-packages/seaborn/distributions.py:2551: FutureWarning: `distplot` is a deprecated function and will be removed in a future version. Please adapt your code to use either `displot` (a figure-level function with similar flexibility) or `histplot` (an axes-level function for histograms).\n",
      "  warnings.warn(msg, FutureWarning)\n",
      "/Users/franciscomansillanavarro/opt/anaconda3/lib/python3.7/site-packages/seaborn/distributions.py:2551: FutureWarning: `distplot` is a deprecated function and will be removed in a future version. Please adapt your code to use either `displot` (a figure-level function with similar flexibility) or `histplot` (an axes-level function for histograms).\n",
      "  warnings.warn(msg, FutureWarning)\n"
     ]
    },
    {
     "data": {
      "text/plain": [
       "<AxesSubplot:xlabel='time_left', ylabel='Density'>"
      ]
     },
     "execution_count": 17,
     "metadata": {},
     "output_type": "execute_result"
    },
    {
     "data": {
      "image/png": "[encoded data removed]",
      "text/plain": [
       "<Figure size 864x360 with 2 Axes>"
      ]
     },
     "metadata": {
      "needs_background": "light"
     },
     "output_type": "display_data"
    },
    {
     "data": {
      "image/png": "[encoded data removed]",
      "text/plain": [
       "<Figure size 864x360 with 2 Axes>"
      ]
     },
     "metadata": {
      "needs_background": "light"
     },
     "output_type": "display_data"
    },
    {
     "data": {
      "image/png": "[encoded data removed]",
      "text/plain": [
       "<Figure size 864x360 with 2 Axes>"
      ]
     },
     "metadata": {
      "needs_background": "light"
     },
     "output_type": "display_data"
    },
    {
     "data": {
      "image/png": "[encoded data removed]",
      "text/plain": [
       "<Figure size 576x432 with 1 Axes>"
      ]
     },
     "metadata": {
      "needs_background": "light"
     },
     "output_type": "display_data"
    }
   ],
   "source": [
    "\n",
    "fig, (ax1, ax2) = plt.subplots(ncols=2, sharey=True, figsize=(12,5))\n",
    "sns.distplot(df_train['ct_health'], bins=10, ax=ax1);\n",
    "sns.distplot(df_train['t_health'], bins=10, ax=ax2);\n",
    "\n",
    "# Plot the distribution of money\n",
    "fig, (ax1, ax2) = plt.subplots(ncols=2, sharey=True, figsize=(12,5))\n",
    "sns.distplot(df_train['ct_money'], bins=10, ax=ax1);\n",
    "sns.distplot(df_train['t_money'], bins=10, ax=ax2);\n",
    "\n",
    "fig, (ax1, ax2) = plt.subplots(ncols=2, sharey=True, figsize=(12,5))\n",
    "sns.kdeplot(df_train['ct_score'], shade=True, ax=ax1)\n",
    "sns.kdeplot(df_train['t_score'], shade=True, ax=ax2)\n",
    "\n",
    "# Plot the distribution of time left\n",
    "plt.figure(figsize=(8,6))\n",
    "sns.kdeplot(df_train['time_left'], shade=True)"
   ]
  },
  {
   "cell_type": "markdown",
   "metadata": {
    "id": "mEWRXobi8Lc7"
   },
   "source": [
    "### Correlation of Variables"
   ]
  },
  {
   "cell_type": "markdown",
   "metadata": {
    "id": "XIGP6vZ08LdD"
   },
   "source": [
    "## 1.3 Factorization of variables"
   ]
  },
  {
   "cell_type": "markdown",
   "metadata": {},
   "source": [
    "We decided to group the different guns available as it could lead to a better performance of the models to be trained.\n",
    "While creating the different groups, the guns with unique values had to be excluded"
   ]
  },
  {
   "cell_type": "code",
   "execution_count": 43,
   "metadata": {
    "colab": {
     "base_uri": "https://localhost:8080/"
    },
    "id": "AScXdRml8LdI",
    "outputId": "915e3fc7-c4bb-495c-c0e0-6925ddfbb97a"
   },
   "outputs": [
    {
     "data": {
      "text/plain": [
       "Index(['ct_weapon_bizon', 'ct_weapon_g3sg1', 'ct_weapon_m249', 't_weapon_m249',\n",
       "       'ct_weapon_negev', 'ct_weapon_r8revolver', 'ct_weapon_sawedoff'],\n",
       "      dtype='object')"
      ]
     },
     "execution_count": 43,
     "metadata": {},
     "output_type": "execute_result"
    }
   ],
   "source": [
    "variables_exclude #variables previously excluded"
   ]
  },
  {
   "cell_type": "code",
   "execution_count": 44,
   "metadata": {
    "id": "Q2T-jtED8LdK"
   },
   "outputs": [],
   "source": [
    "# Create weapon classes (pistol / assault / SMG / sniper / shotgun)\n",
    "# Commented are the variables from the list variables_exclude\n",
    "\n",
    "t_pistols = df_train['t_weapon_deagle'] + df_train['t_weapon_cz75auto'] + df_train['t_weapon_glock'] + df_train['t_weapon_r8revolver']\\\n",
    "+ df_train['t_weapon_fiveseven'] + df_train['t_weapon_usps'] + df_train['t_weapon_p250'] + df_train['t_weapon_p2000']\n",
    "\n",
    "\n",
    "ct_pistols = df_train['ct_weapon_deagle'] + df_train['ct_weapon_cz75auto'] + df_train['ct_weapon_glock']\\\n",
    "+ df_train['ct_weapon_fiveseven'] + df_train['ct_weapon_usps'] + df_train['ct_weapon_p250'] + df_train['ct_weapon_p2000']\n",
    "#+ df_train['ct_weapon_r8revolver']\n",
    "\n",
    "\n",
    "t_assault = df_train['t_weapon_ak47'] +df_train ['t_weapon_aug'] + df_train['t_weapon_bizon'] +df_train['t_weapon_famas'] + df_train['t_weapon_galilar']\\\n",
    "+ df_train['t_weapon_m4a1s'] + df_train['t_weapon_m4a4'] + df_train['t_weapon_negev'] + df_train['t_weapon_sg553']\\\n",
    "+ df_train['t_weapon_ump45'] + df_train['t_weapon_tec9']\n",
    "#+ df_train['t_weapon_m249']\n",
    "\n",
    "ct_assault = df_train['ct_weapon_ak47'] +df_train ['ct_weapon_aug'] +df_train['ct_weapon_famas'] + df_train['ct_weapon_galilar']\\\n",
    "+ df_train['ct_weapon_m4a1s'] + df_train['ct_weapon_m4a4'] + df_train['ct_weapon_sg553']\\\n",
    "+ df_train['ct_weapon_ump45'] + df_train['ct_weapon_tec9']\n",
    "#+ df_train['ct_weapon_m249'] + df_train['ct_weapon_bizon'] + df_train['ct_weapon_negev'] \n",
    "\n",
    "\n",
    "t_smg = df_train['t_weapon_mac10'] + df_train['t_weapon_mag7'] + df_train['t_weapon_mp5sd'] + df_train['t_weapon_mp7'] \\\n",
    "+ df_train['t_weapon_mp9']+ df_train['t_weapon_p90']\n",
    "\n",
    "\n",
    "ct_smg = df_train['ct_weapon_mac10'] + df_train['ct_weapon_mag7'] + df_train['ct_weapon_mp5sd'] + df_train['ct_weapon_mp7'] \\\n",
    "+ df_train['ct_weapon_mp9']+ df_train['ct_weapon_p90']\n",
    "\n",
    "\n",
    "t_sniper = df_train['t_weapon_awp'] + df_train['t_weapon_g3sg1'] + df_train['t_weapon_scar20'] + df_train['t_weapon_ssg08']\n",
    "\n",
    "ct_sniper = df_train['ct_weapon_awp'] + df_train['ct_weapon_scar20'] + df_train['ct_weapon_ssg08']\n",
    "#+ df_train['ct_weapon_g3sg1'] \n",
    "\n",
    "t_shotgun = df_train['t_weapon_nova'] + df_train['t_weapon_sawedoff'] + df_train['t_weapon_xm1014']\n",
    "\n",
    "ct_shotgun = df_train['ct_weapon_nova'] + df_train['ct_weapon_xm1014']\n",
    "# + df_train['ct_weapon_sawedoff']\n",
    "\n",
    "t_explosives = df_train['t_grenade_hegrenade'] + df_train['t_grenade_molotovgrenade'] + df_train['t_grenade_smokegrenade']\\\n",
    " + df_train['t_grenade_flashbang'] + df_train['t_grenade_incendiarygrenade'] + df_train['t_grenade_decoygrenade']\n",
    "\n",
    "ct_explosives = df_train['ct_grenade_hegrenade'] + df_train['ct_grenade_molotovgrenade'] + df_train['ct_grenade_smokegrenade']\\\n",
    "+ df_train['ct_grenade_flashbang'] + df_train['ct_grenade_incendiarygrenade'] + df_train['ct_grenade_decoygrenade']"
   ]
  },
  {
   "cell_type": "markdown",
   "metadata": {},
   "source": [
    "We include all the variables in our dataframe"
   ]
  },
  {
   "cell_type": "code",
   "execution_count": 45,
   "metadata": {
    "id": "5i-x9KY_8LdL"
   },
   "outputs": [],
   "source": [
    "new_categorizations = {\"t_pistols\":t_pistols,\"ct_pistols\":ct_pistols,\"t_assault\":t_assault,\"ct_assault\":ct_assault,\"t_smg\":t_smg,\n",
    "                       \"ct_smg\":ct_smg,\"t_assault\":t_assault,\"ct_assault\":ct_assault,\"t_sniper\":t_sniper,\"ct_sniper\":ct_sniper,\n",
    "                       \"t_shotgun\":t_shotgun,\"ct_shotgun\":ct_shotgun,\"t_explosives\":t_explosives,\"ct_explosives\":ct_explosives}\n",
    "\n",
    "new_variables = pd.DataFrame.from_dict(new_categorizations)\n",
    "\n",
    "\n",
    "df_train = pd.concat([df_train,new_variables],axis=1)"
   ]
  },
  {
   "cell_type": "markdown",
   "metadata": {},
   "source": [
    "We repeat the same steps for the test set"
   ]
  },
  {
   "cell_type": "code",
   "execution_count": 46,
   "metadata": {},
   "outputs": [],
   "source": [
    "t_pistols = df_test['t_weapon_deagle'] + df_test['t_weapon_cz75auto'] + df_test['t_weapon_glock'] + df_test['t_weapon_r8revolver']\\\n",
    "+ df_test['t_weapon_fiveseven'] + df_test['t_weapon_usps'] + df_test['t_weapon_p250'] + df_test['t_weapon_p2000']\n",
    "\n",
    "\n",
    "ct_pistols = df_test['ct_weapon_deagle'] + df_test['ct_weapon_cz75auto'] + df_test['ct_weapon_glock']\\\n",
    "+ df_test['ct_weapon_fiveseven'] + df_test['ct_weapon_usps'] + df_test['ct_weapon_p250'] + df_test['ct_weapon_p2000']\n",
    "#+ df_test['ct_weapon_r8revolver']\n",
    "\n",
    "\n",
    "t_assault = df_test['t_weapon_ak47'] +df_test ['t_weapon_aug'] + df_test['t_weapon_bizon'] +df_test['t_weapon_famas'] + df_test['t_weapon_galilar']\\\n",
    "+ df_test['t_weapon_m4a1s'] + df_test['t_weapon_m4a4'] + df_test['t_weapon_negev'] + df_test['t_weapon_sg553']\\\n",
    "+ df_test['t_weapon_ump45'] + df_test['t_weapon_tec9']\n",
    "#+ df_test['t_weapon_m249']\n",
    "\n",
    "ct_assault = df_test['ct_weapon_ak47'] +df_test ['ct_weapon_aug'] +df_test['ct_weapon_famas'] + df_test['ct_weapon_galilar']\\\n",
    "+ df_test['ct_weapon_m4a1s'] + df_test['ct_weapon_m4a4'] + df_test['ct_weapon_sg553']\\\n",
    "+ df_test['ct_weapon_ump45'] + df_test['ct_weapon_tec9']\n",
    "#+ df_test['ct_weapon_m249'] + df_test['ct_weapon_bizon'] + df_test['ct_weapon_negev'] \n",
    "\n",
    "\n",
    "t_smg = df_test['t_weapon_mac10'] + df_test['t_weapon_mag7'] + df_test['t_weapon_mp5sd'] + df_test['t_weapon_mp7'] \\\n",
    "+ df_test['t_weapon_mp9']+ df_test['t_weapon_p90']\n",
    "\n",
    "\n",
    "ct_smg = df_test['ct_weapon_mac10'] + df_test['ct_weapon_mag7'] + df_test['ct_weapon_mp5sd'] + df_test['ct_weapon_mp7'] \\\n",
    "+ df_test['ct_weapon_mp9']+ df_test['ct_weapon_p90']\n",
    "\n",
    "\n",
    "t_sniper = df_test['t_weapon_awp'] + df_test['t_weapon_g3sg1'] + df_test['t_weapon_scar20'] + df_test['t_weapon_ssg08']\n",
    "\n",
    "ct_sniper = df_test['ct_weapon_awp'] + df_test['ct_weapon_scar20'] + df_test['ct_weapon_ssg08']\n",
    "#+ df_test['ct_weapon_g3sg1'] \n",
    "\n",
    "t_shotgun = df_test['t_weapon_nova'] + df_test['t_weapon_sawedoff'] + df_test['t_weapon_xm1014']\n",
    "\n",
    "ct_shotgun = df_test['ct_weapon_nova'] + df_test['ct_weapon_xm1014']\n",
    "# + df_test['ct_weapon_sawedoff']\n",
    "\n",
    "t_explosives = df_test['t_grenade_hegrenade'] + df_test['t_grenade_molotovgrenade'] + df_test['t_grenade_smokegrenade']\\\n",
    " + df_test['t_grenade_flashbang'] + df_test['t_grenade_incendiarygrenade'] + df_test['t_grenade_decoygrenade']\n",
    "\n",
    "ct_explosives = df_test['ct_grenade_hegrenade'] + df_test['ct_grenade_molotovgrenade'] + df_test['ct_grenade_smokegrenade']\\\n",
    "+ df_test['ct_grenade_flashbang'] + df_test['ct_grenade_incendiarygrenade'] + df_test['ct_grenade_decoygrenade']"
   ]
  },
  {
   "cell_type": "code",
   "execution_count": 47,
   "metadata": {},
   "outputs": [],
   "source": [
    "new_categorizations = {\"t_pistols\":t_pistols,\"ct_pistols\":ct_pistols,\"t_assault\":t_assault,\"ct_assault\":ct_assault,\"t_smg\":t_smg,\n",
    "                       \"ct_smg\":ct_smg,\"t_assault\":t_assault,\"ct_assault\":ct_assault,\"t_sniper\":t_sniper,\"ct_sniper\":ct_sniper,\n",
    "                       \"t_shotgun\":t_shotgun,\"ct_shotgun\":ct_shotgun,\"t_explosives\":t_explosives,\"ct_explosives\":ct_explosives}\n",
    "\n",
    "new_variables2 = pd.DataFrame.from_dict(new_categorizations)\n",
    "df_test = pd.concat([df_test,new_variables2],axis=1)"
   ]
  },
  {
   "cell_type": "markdown",
   "metadata": {},
   "source": [
    "We proceed with the bucketing of money and time left to find a more valuable variable"
   ]
  },
  {
   "cell_type": "code",
   "execution_count": 48,
   "metadata": {
    "id": "x99GUYjc8LdN"
   },
   "outputs": [],
   "source": [
    "# Bucketing money into 4 new columns 20,000 range\n",
    "\n",
    "bins= ['low', 'midlow','midhigh','high']\n",
    "\n",
    "df_train['t_money_cat'] = pd.cut(df_train['t_money'], bins=[0, 20000, 40000, 60000, 80000], labels=bins, include_lowest=True).astype('category')\n",
    "df_train['ct_money_cat'] = pd.cut(df_train['ct_money'], bins=[0, 20000, 40000, 60000, 80000], labels=bins, include_lowest=True).astype('category')\n",
    "\n",
    "df_test['t_money_cat'] = pd.cut(df_test['t_money'], bins=[0, 20000, 40000, 60000, 80000], labels=bins, include_lowest=True).astype('category')\n",
    "df_test['ct_money_cat'] = pd.cut(df_test['ct_money'], bins=[0, 20000, 40000, 60000, 80000], labels=bins, include_lowest=True).astype('category')"
   ]
  },
  {
   "cell_type": "code",
   "execution_count": 49,
   "metadata": {
    "colab": {
     "base_uri": "https://localhost:8080/",
     "height": 204
    },
    "id": "X9UpFcBZ8LdQ",
    "outputId": "0832b999-f233-4190-c704-1650f911ddab"
   },
   "outputs": [
    {
     "data": {
      "text/html": [
       "<div>\n",
       "<style scoped>\n",
       "    .dataframe tbody tr th:only-of-type {\n",
       "        vertical-align: middle;\n",
       "    }\n",
       "\n",
       "    .dataframe tbody tr th {\n",
       "        vertical-align: top;\n",
       "    }\n",
       "\n",
       "    .dataframe thead th {\n",
       "        text-align: right;\n",
       "    }\n",
       "</style>\n",
       "<table border=\"1\" class=\"dataframe\">\n",
       "  <thead>\n",
       "    <tr style=\"text-align: right;\">\n",
       "      <th></th>\n",
       "      <th>ct_explosives</th>\n",
       "      <th>t_money_cat</th>\n",
       "      <th>ct_money_cat</th>\n",
       "      <th>time_quarter</th>\n",
       "    </tr>\n",
       "  </thead>\n",
       "  <tbody>\n",
       "    <tr>\n",
       "      <th>0</th>\n",
       "      <td>6.0</td>\n",
       "      <td>low</td>\n",
       "      <td>midlow</td>\n",
       "      <td>Q2</td>\n",
       "    </tr>\n",
       "    <tr>\n",
       "      <th>1</th>\n",
       "      <td>0.0</td>\n",
       "      <td>midhigh</td>\n",
       "      <td>midlow</td>\n",
       "      <td>Q4</td>\n",
       "    </tr>\n",
       "    <tr>\n",
       "      <th>2</th>\n",
       "      <td>18.0</td>\n",
       "      <td>low</td>\n",
       "      <td>low</td>\n",
       "      <td>Q4</td>\n",
       "    </tr>\n",
       "    <tr>\n",
       "      <th>3</th>\n",
       "      <td>12.0</td>\n",
       "      <td>low</td>\n",
       "      <td>low</td>\n",
       "      <td>Q2</td>\n",
       "    </tr>\n",
       "    <tr>\n",
       "      <th>4</th>\n",
       "      <td>0.0</td>\n",
       "      <td>low</td>\n",
       "      <td>low</td>\n",
       "      <td>Q3</td>\n",
       "    </tr>\n",
       "  </tbody>\n",
       "</table>\n",
       "</div>"
      ],
      "text/plain": [
       "   ct_explosives t_money_cat ct_money_cat time_quarter\n",
       "0            6.0         low       midlow           Q2\n",
       "1            0.0     midhigh       midlow           Q4\n",
       "2           18.0         low          low           Q4\n",
       "3           12.0         low          low           Q2\n",
       "4            0.0         low          low           Q3"
      ]
     },
     "execution_count": 49,
     "metadata": {},
     "output_type": "execute_result"
    }
   ],
   "source": [
    "# Time left binned into quarters\n",
    "\n",
    "time_bins= ['Q1','Q2','Q3','Q4']\n",
    "\n",
    "df_train['time_quarter'] = pd.cut(df_train['time_left'], bins=[0, 55, 95, 167, 175], labels=time_bins, include_lowest=True)\n",
    "df_test['time_quarter'] = pd.cut(df_test['time_left'], bins=[0, 55, 95, 167, 175], labels=time_bins, include_lowest=True)\n",
    "\n",
    "df_train.iloc[:,-4:].head()"
   ]
  },
  {
   "cell_type": "code",
   "execution_count": 50,
   "metadata": {
    "id": "Y-CIzFtJ8LdR"
   },
   "outputs": [],
   "source": [
    "# diversity of weapon choice\n",
    "\n",
    "#df_train['t_all_weapons'] = np.where((df_train['t_sniper'] > 0) & (df_train['t_shotgun'] > 0) & (df_train['t_assault'] > 0) &\\\n",
    "#                              (df_train['t_smg'] > 0) & (df_train['t_pistols'] > 0), 1, 0 )\n",
    "\n",
    "df_train['ct_all_weapons'] = np.where((df_train['ct_sniper'] > 0) & (df_train['ct_shotgun'] > 0) & (df_train['ct_assault'] > 0) &\\\n",
    "                              (df_train['ct_smg'] > 0) & (df_train['ct_pistols'] > 0), 1, 0 )\n",
    "\n",
    "\n",
    "df_train['t_all_assaults'] = np.where((df_train['t_assault'] > 0) & (df_train['t_smg'] > 0), 1, 0 )\n",
    "\n",
    "df_train['ct_all_assaults'] = np.where((df_train['ct_assault'] > 0) & (df_train['ct_smg'] > 0), 1, 0 )\n",
    "\n",
    "\n",
    "\n",
    "df_test['ct_all_weapons'] = np.where((df_test['ct_sniper'] > 0) & (df_test['ct_shotgun'] > 0) & (df_test['ct_assault'] > 0) &\\\n",
    "                              (df_test['ct_smg'] > 0) & (df_test['ct_pistols'] > 0), 1, 0 )\n",
    "df_test['t_all_assaults'] = np.where((df_test['t_assault'] > 0) & (df_test['t_smg'] > 0), 1, 0 )\n",
    "\n",
    "df_test['ct_all_assaults'] = np.where((df_test['ct_assault'] > 0) & (df_test['ct_smg'] > 0), 1, 0 )"
   ]
  },
  {
   "cell_type": "code",
   "execution_count": 51,
   "metadata": {
    "id": "_4kF8AlY8LdT"
   },
   "outputs": [],
   "source": [
    "#df_train['t_all_weapons'].sum() ## == 0; turns out the full combination was never reached"
   ]
  },
  {
   "cell_type": "markdown",
   "metadata": {},
   "source": [
    "Interaction terms of bomb & time quarter appears to be redundant.\n",
    "After running the categorization, we realized only the q1&bomb had values different from zero. Hence, we dropped that new feature.\n"
   ]
  },
  {
   "cell_type": "code",
   "execution_count": 52,
   "metadata": {
    "id": "P3VyOIp38LdV"
   },
   "outputs": [],
   "source": [
    "###### NON-RELEVANT FEATURE\n",
    "\n",
    "# # Time left & bomb planted interaction\n",
    "\n",
    "# df_train['t_bomb_q1'] = np.where((df_train['time_quarter'] == 'Q1') & (df_train['bomb_planted'] > 0) , 1, 0 ) #### identical to bomb_planted\n",
    "# df_train['t_bomb_q2'] = np.where((df_train['time_quarter'] == 'Q2') & (df_train['bomb_planted'] > 0) , 1, 0 ) ## == 0\n",
    "# df_train['t_bomb_q3'] = np.where((df_train['time_quarter'] == 'Q3') & (df_train['bomb_planted'] > 0) , 1, 0 ) ## == 0\n",
    "# df_train['t_bomb_q4'] = np.where((df_train['time_quarter'] == 'Q4') & (df_train['bomb_planted'] > 0) , 1, 0 ) ## == 0"
   ]
  },
  {
   "cell_type": "code",
   "execution_count": 53,
   "metadata": {
    "id": "zE6qlEJw8LdX"
   },
   "outputs": [],
   "source": [
    "# Map size & gun types interactions\n",
    "# Given that Cache3, Nuke, Overpass & Dust2 are the largest maps respectively\n",
    "# Vertigo and Train the smallest maps\n",
    "\n",
    "df_train['t_largemap_sniper'] = np.where((df_train['map'] == 'de_nuke') |(df_train['map'] == 'de_cache')\\\n",
    "                                         | (df_train['map'] == 'de_overpass') | (df_train['map'] == 'de_dust2')\\\n",
    "                                         & (df_train['t_sniper'] > 0) , 1, 0 )\n",
    "\n",
    "df_train['ct_largemap_sniper'] = np.where((df_train['map'] == 'de_nuke') |(df_train['map'] == 'de_cache')\\\n",
    "                                         | (df_train['map'] == 'de_overpass') | (df_train['map'] == 'de_dust2')\\\n",
    "                                         & (df_train['ct_sniper'] > 0), 1, 0 )\n",
    "\n",
    "\n",
    "df_train['t_smallmap_sniper'] = np.where((df_train['map'] == 'de_vertigo') | (df_train['map'] == 'de_train') \\\n",
    "                                       & (df_train['t_assault'] > 0) | (df_train['t_smg'] > 0) , 1, 0 )\n",
    "\n",
    "df_train['ct_smallmap_sniper'] = np.where((df_train['map'] == 'de_vertigo') | (df_train['map'] == 'de_train') \\\n",
    "                                       & (df_train['ct_assault'] > 0) | (df_train['ct_smg'] > 0) , 1, 0 )\n",
    "\n",
    "\n",
    "\n",
    "\n",
    "df_test['t_largemap_sniper'] = np.where((df_test['map'] == 'de_nuke') |(df_test['map'] == 'de_cache')\\\n",
    "                                         | (df_test['map'] == 'de_overpass') | (df_test['map'] == 'de_dust2')\\\n",
    "                                         & (df_test['t_sniper'] > 0) , 1, 0 )\n",
    "\n",
    "df_test['ct_largemap_sniper'] = np.where((df_test['map'] == 'de_nuke') |(df_test['map'] == 'de_cache')\\\n",
    "                                         | (df_test['map'] == 'de_overpass') | (df_test['map'] == 'de_dust2')\\\n",
    "                                         & (df_test['ct_sniper'] > 0), 1, 0 )\n",
    "\n",
    "\n",
    "df_test['t_smallmap_sniper'] = np.where((df_test['map'] == 'de_vertigo') | (df_test['map'] == 'de_train') \\\n",
    "                                       & (df_test['t_assault'] > 0) | (df_test['t_smg'] > 0) , 1, 0 )\n",
    "\n",
    "df_test['ct_smallmap_sniper'] = np.where((df_test['map'] == 'de_vertigo') | (df_test['map'] == 'de_train') \\\n",
    "                                       & (df_test['ct_assault'] > 0) | (df_test['ct_smg'] > 0) , 1, 0 )"
   ]
  },
  {
   "cell_type": "markdown",
   "metadata": {},
   "source": [
    "One interesting feature would be round_count as a result from the scores of both teams"
   ]
  },
  {
   "cell_type": "code",
   "execution_count": 54,
   "metadata": {
    "id": "9K193-qC8LdY"
   },
   "outputs": [],
   "source": [
    "# Create round count\n",
    "\n",
    "df_train['round_count'] = df_train['ct_score']+df_train['t_score']+1\n",
    "\n",
    "df_test['round_count'] = df_test['ct_score']+df_test['t_score']+1"
   ]
  },
  {
   "cell_type": "markdown",
   "metadata": {},
   "source": [
    "All alive feature would determine if all members all alive or not"
   ]
  },
  {
   "cell_type": "code",
   "execution_count": 55,
   "metadata": {
    "id": "vxqFBl1A8Lda"
   },
   "outputs": [],
   "source": [
    "# ALL ALIVE >400 health points\n",
    "\n",
    "df_train['t_all_alive'] = (df_train['t_health']>400).astype('float')\n",
    "df_train['ct_all_alive'] = (df_train['ct_health']>400).astype('float')\n",
    "\n",
    "df_test['t_all_alive'] = (df_test['t_health']>400).astype('float')\n",
    "df_test['ct_all_alive'] = (df_test['ct_health']>400).astype('float')"
   ]
  },
  {
   "cell_type": "markdown",
   "metadata": {
    "id": "RdS_J9Wx8Ldd"
   },
   "source": [
    "### Exploration of new categories"
   ]
  },
  {
   "cell_type": "code",
   "execution_count": 114,
   "metadata": {
    "colab": {
     "base_uri": "https://localhost:8080/",
     "height": 570
    },
    "id": "6gsrXhTN8Ldd",
    "outputId": "65eea44a-5258-4d79-ecff-51a6c6d84559",
    "scrolled": true
   },
   "outputs": [
    {
     "data": {
      "text/plain": [
       "<matplotlib.axes._subplots.AxesSubplot at 0x7fd42da3e048>"
      ]
     },
     "execution_count": 114,
     "metadata": {
      "tags": []
     },
     "output_type": "execute_result"
    },
    {
     "data": {
      "image/png": "[encoded data removed]",
      "text/plain": [
       "<Figure size 720x576 with 2 Axes>"
      ]
     },
     "metadata": {
      "needs_background": "light",
      "tags": []
     },
     "output_type": "display_data"
    }
   ],
   "source": [
    "#Corr between bucketed weapons \n",
    "from pandas import DataFrame\n",
    "corr_data3 = DataFrame (df_train, columns=[\"ct_explosives\",\"t_explosives\",\"ct_shotgun\",\"t_shotgun\",\"t_sniper\",\n",
    "                                           \"ct_sniper\",\"t_smg\",\"ct_smg\",\"t_assault\",\n",
    "                                           \"ct_assault\",\"ct_pistols\",\"t_pistols\"])\n",
    "\n",
    "f, ax = plt.subplots(figsize=(10, 8))\n",
    "corr_all = corr_data3.corr()\n",
    "sns.heatmap(corr_all, mask=np.zeros_like(corr_all, dtype=np.bool), cmap=sns.diverging_palette(220, 10, as_cmap=True),\n",
    "            square=True, ax=ax)\n"
   ]
  },
  {
   "cell_type": "markdown",
   "metadata": {},
   "source": [
    "We can have a complete overview of the correlation matrix to check how our target variable is related to the rest"
   ]
  },
  {
   "cell_type": "code",
   "execution_count": 115,
   "metadata": {
    "colab": {
     "base_uri": "https://localhost:8080/",
     "height": 890
    },
    "id": "maVnunOX8Ldf",
    "outputId": "6f2c12b6-3a0e-4bc7-e65f-d21a451e868f",
    "scrolled": false
   },
   "outputs": [
    {
     "data": {
      "image/png": "[encoded data removed]",
      "text/plain": [
       "<Figure size 1368x1080 with 2 Axes>"
      ]
     },
     "metadata": {
      "needs_background": "light",
      "tags": []
     },
     "output_type": "display_data"
    }
   ],
   "source": [
    "f = plt.figure(figsize=(19, 15))\n",
    "plt.matshow(df_train.corr(), fignum=f.number)\n",
    "plt.xticks(range(df_train.shape[1]), df_train.columns, fontsize=9, rotation=45)\n",
    "plt.yticks(range(df_train.shape[1]), df_train.columns, fontsize=9)\n",
    "cb = plt.colorbar()\n",
    "cb.ax.tick_params(labelsize=3)\n",
    "plt.title('Correlation Matrix', fontsize=16);"
   ]
  },
  {
   "cell_type": "markdown",
   "metadata": {
    "id": "DbjSPW5-8Ldh"
   },
   "source": [
    "## 1.3 Impute Null Values, Check Outliers"
   ]
  },
  {
   "cell_type": "markdown",
   "metadata": {
    "id": "G1ayvip98Ldi"
   },
   "source": [
    "### 1.3.1 Null Values"
   ]
  },
  {
   "cell_type": "markdown",
   "metadata": {},
   "source": [
    "We checked that we do not have null values on the dataset"
   ]
  },
  {
   "cell_type": "code",
   "execution_count": 57,
   "metadata": {
    "colab": {
     "base_uri": "https://localhost:8080/"
    },
    "id": "tq3_Gp5E8Ldi",
    "outputId": "5910f3a2-5a60-4814-fa72-304605018f92",
    "scrolled": false
   },
   "outputs": [
    {
     "data": {
      "text/plain": [
       "time_left             0\n",
       "ct_score              0\n",
       "t_score               0\n",
       "map                   0\n",
       "bomb_planted          0\n",
       "                     ..\n",
       "t_smallmap_sniper     0\n",
       "ct_smallmap_sniper    0\n",
       "round_count           0\n",
       "t_all_alive           0\n",
       "ct_all_alive          0\n",
       "Length: 115, dtype: int64"
      ]
     },
     "execution_count": 57,
     "metadata": {},
     "output_type": "execute_result"
    }
   ],
   "source": [
    "#check for nulls \n",
    "missing_values = df_train.isnull().sum()\n",
    "missing_values[0:]"
   ]
  },
  {
   "cell_type": "code",
   "execution_count": 58,
   "metadata": {
    "colab": {
     "base_uri": "https://localhost:8080/"
    },
    "id": "m4VOfpTW8Ldl",
    "outputId": "6509483c-380a-4e2b-f3f7-7228a9b77a1b"
   },
   "outputs": [
    {
     "data": {
      "text/plain": [
       "0"
      ]
     },
     "execution_count": 58,
     "metadata": {},
     "output_type": "execute_result"
    }
   ],
   "source": [
    "df_train.isnull().sum().sum() # zero null values"
   ]
  },
  {
   "cell_type": "code",
   "execution_count": 59,
   "metadata": {},
   "outputs": [
    {
     "data": {
      "text/plain": [
       "0"
      ]
     },
     "execution_count": 59,
     "metadata": {},
     "output_type": "execute_result"
    }
   ],
   "source": [
    "df_test.isnull().sum().sum()"
   ]
  },
  {
   "cell_type": "markdown",
   "metadata": {
    "id": "ZZPERkHw8Ldn"
   },
   "source": [
    "### 1.3.2 Outlier Detection"
   ]
  },
  {
   "cell_type": "code",
   "execution_count": 120,
   "metadata": {
    "colab": {
     "base_uri": "https://localhost:8080/",
     "height": 302
    },
    "id": "icIJa8CC8Ldr",
    "outputId": "5264d568-0937-4f28-ddb9-f8ef1dc2ee42"
   },
   "outputs": [
    {
     "data": {
      "text/plain": [
       "<matplotlib.axes._subplots.AxesSubplot at 0x7fd42df2e7b8>"
      ]
     },
     "execution_count": 120,
     "metadata": {
      "tags": []
     },
     "output_type": "execute_result"
    },
    {
     "data": {
      "image/png": "[encoded data removed]",
      "text/plain": [
       "<Figure size 432x288 with 1 Axes>"
      ]
     },
     "metadata": {
      "needs_background": "light",
      "tags": []
     },
     "output_type": "display_data"
    }
   ],
   "source": [
    "import seaborn as sns\n",
    "sns.boxplot(data=df_train,x=df_train['ct_health'])"
   ]
  },
  {
   "cell_type": "markdown",
   "metadata": {},
   "source": [
    "We have detected an invalid outlier on the health of the teams, that will be removed, since the instance detects 6 players in \"T\" team vs 4 players in \"CT\" team"
   ]
  },
  {
   "cell_type": "code",
   "execution_count": 121,
   "metadata": {
    "colab": {
     "base_uri": "https://localhost:8080/",
     "height": 302
    },
    "id": "qqG8APGy8Ldu",
    "outputId": "8ef58546-4d39-4583-b9d5-f75825543003",
    "scrolled": true
   },
   "outputs": [
    {
     "data": {
      "text/plain": [
       "<matplotlib.axes._subplots.AxesSubplot at 0x7fd42db69780>"
      ]
     },
     "execution_count": 121,
     "metadata": {
      "tags": []
     },
     "output_type": "execute_result"
    },
    {
     "data": {
      "image/png": "[encoded data removed]",
      "text/plain": [
       "<Figure size 432x288 with 1 Axes>"
      ]
     },
     "metadata": {
      "needs_background": "light",
      "tags": []
     },
     "output_type": "display_data"
    }
   ],
   "source": [
    "sns.boxplot(data=df_train,x=df_train['t_health'])"
   ]
  },
  {
   "cell_type": "code",
   "execution_count": 61,
   "metadata": {
    "colab": {
     "base_uri": "https://localhost:8080/",
     "height": 129
    },
    "id": "UCxiI-NR8Ldy",
    "outputId": "a9ecc9b8-d4e4-4f2c-dafd-eb2009a0167f"
   },
   "outputs": [
    {
     "data": {
      "text/html": [
       "<div>\n",
       "<style scoped>\n",
       "    .dataframe tbody tr th:only-of-type {\n",
       "        vertical-align: middle;\n",
       "    }\n",
       "\n",
       "    .dataframe tbody tr th {\n",
       "        vertical-align: top;\n",
       "    }\n",
       "\n",
       "    .dataframe thead th {\n",
       "        text-align: right;\n",
       "    }\n",
       "</style>\n",
       "<table border=\"1\" class=\"dataframe\">\n",
       "  <thead>\n",
       "    <tr style=\"text-align: right;\">\n",
       "      <th></th>\n",
       "      <th>time_left</th>\n",
       "      <th>ct_score</th>\n",
       "      <th>t_score</th>\n",
       "      <th>map</th>\n",
       "      <th>bomb_planted</th>\n",
       "      <th>ct_health</th>\n",
       "      <th>t_health</th>\n",
       "      <th>ct_armor</th>\n",
       "      <th>t_armor</th>\n",
       "      <th>ct_money</th>\n",
       "      <th>...</th>\n",
       "      <th>ct_all_weapons</th>\n",
       "      <th>t_all_assaults</th>\n",
       "      <th>ct_all_assaults</th>\n",
       "      <th>t_largemap_sniper</th>\n",
       "      <th>ct_largemap_sniper</th>\n",
       "      <th>t_smallmap_sniper</th>\n",
       "      <th>ct_smallmap_sniper</th>\n",
       "      <th>round_count</th>\n",
       "      <th>t_all_alive</th>\n",
       "      <th>ct_all_alive</th>\n",
       "    </tr>\n",
       "  </thead>\n",
       "  <tbody>\n",
       "  </tbody>\n",
       "</table>\n",
       "<p>0 rows × 115 columns</p>\n",
       "</div>"
      ],
      "text/plain": [
       "Empty DataFrame\n",
       "Columns: [time_left, ct_score, t_score, map, bomb_planted, ct_health, t_health, ct_armor, t_armor, ct_money, t_money, ct_helmets, t_helmets, ct_defuse_kits, ct_players_alive, t_players_alive, ct_weapon_ak47, t_weapon_ak47, ct_weapon_aug, t_weapon_aug, ct_weapon_awp, t_weapon_awp, t_weapon_bizon, ct_weapon_cz75auto, t_weapon_cz75auto, ct_weapon_elite, t_weapon_elite, ct_weapon_famas, t_weapon_famas, t_weapon_g3sg1, ct_weapon_galilar, t_weapon_galilar, ct_weapon_glock, t_weapon_glock, ct_weapon_m4a1s, t_weapon_m4a1s, ct_weapon_m4a4, t_weapon_m4a4, ct_weapon_mac10, t_weapon_mac10, ct_weapon_mag7, t_weapon_mag7, ct_weapon_mp5sd, t_weapon_mp5sd, ct_weapon_mp7, t_weapon_mp7, ct_weapon_mp9, t_weapon_mp9, t_weapon_negev, ct_weapon_nova, t_weapon_nova, ct_weapon_p90, t_weapon_p90, t_weapon_r8revolver, t_weapon_sawedoff, ct_weapon_scar20, t_weapon_scar20, ct_weapon_sg553, t_weapon_sg553, ct_weapon_ssg08, t_weapon_ssg08, ct_weapon_ump45, t_weapon_ump45, ct_weapon_xm1014, t_weapon_xm1014, ct_weapon_deagle, t_weapon_deagle, ct_weapon_fiveseven, t_weapon_fiveseven, ct_weapon_usps, t_weapon_usps, ct_weapon_p250, t_weapon_p250, ct_weapon_p2000, t_weapon_p2000, ct_weapon_tec9, t_weapon_tec9, ct_grenade_hegrenade, t_grenade_hegrenade, ct_grenade_flashbang, t_grenade_flashbang, ct_grenade_smokegrenade, t_grenade_smokegrenade, ct_grenade_incendiarygrenade, t_grenade_incendiarygrenade, ct_grenade_molotovgrenade, t_grenade_molotovgrenade, ct_grenade_decoygrenade, t_grenade_decoygrenade, round_winner, t_pistols, ct_pistols, t_assault, ct_assault, t_smg, ct_smg, t_sniper, ct_sniper, t_shotgun, ct_shotgun, ...]\n",
       "Index: []\n",
       "\n",
       "[0 rows x 115 columns]"
      ]
     },
     "execution_count": 61,
     "metadata": {},
     "output_type": "execute_result"
    }
   ],
   "source": [
    "df_train.loc[df_train['t_health']>500,:]"
   ]
  },
  {
   "cell_type": "code",
   "execution_count": 60,
   "metadata": {
    "id": "M3nuiPd48Ldz"
   },
   "outputs": [],
   "source": [
    "# Delete outlier w row index 46347\n",
    "df_train = df_train.drop(df_train.index[46347])"
   ]
  },
  {
   "cell_type": "code",
   "execution_count": 125,
   "metadata": {
    "colab": {
     "base_uri": "https://localhost:8080/",
     "height": 302
    },
    "id": "JONJs8GU8Ld2",
    "outputId": "49487039-ddbf-4a30-d1ac-ef4e1ea00f47",
    "scrolled": false
   },
   "outputs": [
    {
     "data": {
      "text/plain": [
       "<matplotlib.axes._subplots.AxesSubplot at 0x7fd42db11ef0>"
      ]
     },
     "execution_count": 125,
     "metadata": {
      "tags": []
     },
     "output_type": "execute_result"
    },
    {
     "data": {
      "image/png": "[encoded data removed]",
      "text/plain": [
       "<Figure size 432x288 with 1 Axes>"
      ]
     },
     "metadata": {
      "needs_background": "light",
      "tags": []
     },
     "output_type": "display_data"
    }
   ],
   "source": [
    "sns.boxplot(data=df_train,x=df_train['t_health'])"
   ]
  },
  {
   "cell_type": "code",
   "execution_count": 126,
   "metadata": {
    "colab": {
     "base_uri": "https://localhost:8080/",
     "height": 302
    },
    "id": "3eQbnb278Ld4",
    "outputId": "186f320e-8377-4b08-d1b7-ba98c0a99f48"
   },
   "outputs": [
    {
     "data": {
      "text/plain": [
       "<matplotlib.axes._subplots.AxesSubplot at 0x7fd42dcd6c88>"
      ]
     },
     "execution_count": 126,
     "metadata": {
      "tags": []
     },
     "output_type": "execute_result"
    },
    {
     "data": {
      "image/png": "[encoded data removed]",
      "text/plain": [
       "<Figure size 432x288 with 1 Axes>"
      ]
     },
     "metadata": {
      "needs_background": "light",
      "tags": []
     },
     "output_type": "display_data"
    }
   ],
   "source": [
    "sns.boxplot(data=df_train,x=df_train['t_armor']) # conclusion no outlier no atcion needed"
   ]
  },
  {
   "cell_type": "code",
   "execution_count": 127,
   "metadata": {
    "colab": {
     "base_uri": "https://localhost:8080/",
     "height": 302
    },
    "id": "7oLZn9ln8Ld6",
    "outputId": "4ce78c89-b2ec-4ac2-98b8-aaaff0d156a8"
   },
   "outputs": [
    {
     "data": {
      "text/plain": [
       "<matplotlib.axes._subplots.AxesSubplot at 0x7fd42dcdfc88>"
      ]
     },
     "execution_count": 127,
     "metadata": {
      "tags": []
     },
     "output_type": "execute_result"
    },
    {
     "data": {
      "image/png": "[encoded data removed]",
      "text/plain": [
       "<Figure size 432x288 with 1 Axes>"
      ]
     },
     "metadata": {
      "needs_background": "light",
      "tags": []
     },
     "output_type": "display_data"
    }
   ],
   "source": [
    "sns.boxplot(data=df_train,x=df_train['ct_armor']) # conclusion no outlier no atcion needed"
   ]
  },
  {
   "cell_type": "code",
   "execution_count": 128,
   "metadata": {
    "colab": {
     "base_uri": "https://localhost:8080/",
     "height": 302
    },
    "id": "tQK6LOMp8Ld-",
    "outputId": "18f4655a-c7c1-428e-c223-04775a20e57d"
   },
   "outputs": [
    {
     "data": {
      "text/plain": [
       "<matplotlib.axes._subplots.AxesSubplot at 0x7fd42e081710>"
      ]
     },
     "execution_count": 128,
     "metadata": {
      "tags": []
     },
     "output_type": "execute_result"
    },
    {
     "data": {
      "image/png": "[encoded data removed]",
      "text/plain": [
       "<Figure size 432x288 with 1 Axes>"
      ]
     },
     "metadata": {
      "needs_background": "light",
      "tags": []
     },
     "output_type": "display_data"
    }
   ],
   "source": [
    "sns.boxplot(data=df_train,x=df_train['ct_money'])"
   ]
  },
  {
   "cell_type": "code",
   "execution_count": 129,
   "metadata": {
    "colab": {
     "base_uri": "https://localhost:8080/",
     "height": 302
    },
    "id": "nITtgTlW8Ld_",
    "outputId": "5a5afb08-452a-466d-9ef5-b5736796840c"
   },
   "outputs": [
    {
     "data": {
      "text/plain": [
       "<matplotlib.axes._subplots.AxesSubplot at 0x7fd42de6bf98>"
      ]
     },
     "execution_count": 129,
     "metadata": {
      "tags": []
     },
     "output_type": "execute_result"
    },
    {
     "data": {
      "image/png": "[encoded data removed]",
      "text/plain": [
       "<Figure size 432x288 with 1 Axes>"
      ]
     },
     "metadata": {
      "needs_background": "light",
      "tags": []
     },
     "output_type": "display_data"
    }
   ],
   "source": [
    "sns.boxplot(data=df_train,x=df_train['t_money'])"
   ]
  },
  {
   "cell_type": "markdown",
   "metadata": {
    "id": "-AuFEob28LeB"
   },
   "source": [
    "# 2. Train-test Split"
   ]
  },
  {
   "cell_type": "markdown",
   "metadata": {
    "id": "V8IyaTwi8LeB"
   },
   "source": [
    "## 2.1 One-Hot-Encoding of Categorical Variables"
   ]
  },
  {
   "cell_type": "markdown",
   "metadata": {
    "id": "EdHj4e8S8LeC"
   },
   "source": [
    "As we have created various categoricals, we have to apply one-hot-encoding now to create dummy variables for the respective features. "
   ]
  },
  {
   "cell_type": "code",
   "execution_count": 62,
   "metadata": {
    "colab": {
     "base_uri": "https://localhost:8080/"
    },
    "id": "EGhtDsWS8LeC",
    "outputId": "baaadbdd-4313-44d0-937b-b4f428541c19",
    "scrolled": true
   },
   "outputs": [
    {
     "name": "stdout",
     "output_type": "stream",
     "text": [
      "Loaded dataset\n",
      "   Rows: 82013\n",
      "   Columns: 115 (111 num, 4 cat, 0 date)\n",
      "Dummy-encoded feature map\n",
      "Dummy-encoded feature t_money_cat\n",
      "Dummy-encoded feature ct_money_cat\n",
      "Dummy-encoded feature time_quarter\n",
      "Loaded dataset\n",
      "   Rows: 40396\n",
      "   Columns: 114 (110 num, 4 cat, 0 date)\n",
      "Dummy-encoded feature map\n",
      "Dummy-encoded feature t_money_cat\n",
      "Dummy-encoded feature ct_money_cat\n",
      "Dummy-encoded feature time_quarter\n"
     ]
    }
   ],
   "source": [
    "from collections import defaultdict, Counter # Utils\n",
    "sns.set(style=\"white\")                       # Tuning the style of charts\n",
    "import warnings                              # Disable some warnings\n",
    "\n",
    "warnings.filterwarnings(\"ignore\",category=DeprecationWarning)\n",
    "\n",
    "\n",
    "#### create Loop to run one-hot-encoding for both train & test data\n",
    "\n",
    "X_sets = [df_train, df_test]\n",
    "columns_to_drop = [] # if any columns should be excluded\n",
    "LIMIT_DUMMIES = 100 # for categorical variables with more than that many values, we only keep the more frequent ones\n",
    "\n",
    "# define functions for Loop\n",
    "\n",
    "def select_dummy_values(train, features):\n",
    "    dummy_values = {}\n",
    "    for feature in features:\n",
    "        values = [\n",
    "            value\n",
    "            for (value, _) in Counter(train[feature]).most_common(LIMIT_DUMMIES)\n",
    "        ]\n",
    "        dummy_values[feature] = values\n",
    "    return dummy_values\n",
    "\n",
    "def dummy_encode_dataframe(df):\n",
    "    for (feature, dummy_values) in DUMMY_VALUES.items():\n",
    "        for dummy_value in dummy_values:\n",
    "            dummy_name = u'%s_value_%s' % (feature, dummy_value)\n",
    "            df[dummy_name] = (df[feature] == dummy_value).astype(float)\n",
    "        del df[feature]\n",
    "        print('Dummy-encoded feature %s' % feature)\n",
    "\n",
    "\n",
    "for df in X_sets:\n",
    "    \n",
    "    # Get the column names\n",
    "    numerical_columns = list(df.select_dtypes(include=[np.number]).columns)\n",
    "    categorical_columns = list(df.select_dtypes(include=[object,'category']).columns)\n",
    "    date_columns = list(df.select_dtypes(include=['<M8[ns]']).columns)\n",
    "\n",
    "    # Print a quick summary of what we just loaded\n",
    "    print(\"Loaded dataset\")\n",
    "    print(\"   Rows: %s\" % df.shape[0])\n",
    "    print(\"   Columns: %s (%s num, %s cat, %s date)\" % (df.shape[1], \n",
    "                                                        len(numerical_columns), len(categorical_columns),\n",
    "                                                        len(date_columns)))\n",
    "    \n",
    "    # Limit number of distinct values for selected categoricals\n",
    "    DUMMY_VALUES = select_dummy_values(df, [x for x in categorical_columns if not x in columns_to_drop])\n",
    "    \n",
    "    # Add dummy columns to df\n",
    "    dummy_encode_dataframe(df)\n",
    "    "
   ]
  },
  {
   "cell_type": "markdown",
   "metadata": {
    "id": "hxe6ZVMM8LeG"
   },
   "source": [
    "## 2.2 Feature Scaling (Normalization)"
   ]
  },
  {
   "cell_type": "code",
   "execution_count": 63,
   "metadata": {
    "id": "BMFh7K_B8LeG"
   },
   "outputs": [],
   "source": [
    "# Compute scaled values for our data \n",
    "\n",
    "df_train = df_train.reset_index() # to assure sklearn runs smoothly\n",
    "df_train.pop('index')\n",
    "\n",
    "from sklearn.preprocessing import StandardScaler\n",
    "\n",
    "X1 = df_train.drop(columns='round_winner').values\n",
    "df_train_std = StandardScaler().fit(X1).transform(X1)\n",
    "\n",
    "X2 = df_test.values\n",
    "test_X_std = StandardScaler().fit(X2).transform(X2)"
   ]
  },
  {
   "cell_type": "code",
   "execution_count": 64,
   "metadata": {
    "id": "c4ho8un98LeI"
   },
   "outputs": [],
   "source": [
    "#df_train['round_winner'].replace([1.0,0.0],[1,0],inplace=True)"
   ]
  },
  {
   "cell_type": "code",
   "execution_count": 65,
   "metadata": {
    "id": "9mTBFHiI8LeJ",
    "scrolled": true
   },
   "outputs": [],
   "source": [
    "# Establish dataframe structure with respective feature names\n",
    "\n",
    "df_train_std = pd.DataFrame(df_train_std)\n",
    "df_train_std.columns = df_train.columns[df_train.columns != 'round_winner']\n",
    "df_train_std['round_winner'] = df_train['round_winner']\n",
    "\n",
    "test_X_std = pd.DataFrame(test_X_std)\n",
    "test_X_std.columns = df_test.columns"
   ]
  },
  {
   "cell_type": "markdown",
   "metadata": {
    "id": "1OP--HWh8LeL"
   },
   "source": [
    "## 2.3 Performing our TRAIN / VALIDATION / TEST split"
   ]
  },
  {
   "cell_type": "markdown",
   "metadata": {},
   "source": [
    "We set the logical structure in order to automate the feature selection and dimensionality reduction techniques and further train our models."
   ]
  },
  {
   "cell_type": "code",
   "execution_count": 66,
   "metadata": {
    "id": "WS31H0338LeM"
   },
   "outputs": [],
   "source": [
    "## SET SWITCHES FOR BELOW VARIATIONS\n",
    "\n",
    "set_standardize = True # if set true, we scale our variables // else no\n",
    "\n",
    "set_PCA = False # if set true, we apply PCA to our variables // else no\n",
    "\n",
    "\n",
    "## FEATURE SELECTION - ONLY ONE CAN BE TRUE\n",
    "\n",
    "set_Chi2 = False # if set true, we apply Chi2 feature selection to our variables // else no\n",
    "\n",
    "set_IG = False # if set true, we apply Chi2 feature selection to our variables // else no\n",
    "\n",
    "set_Lasso = True # if set true, we apply Lasso feature selection to our variables // else no\n",
    "\n",
    "set_Corr = False # if set true, we apply feature selection based on absolute correlation to our variables // else no\n",
    "\n",
    "\n",
    "## LOGIC RULES FOR PRE-PROCESSING\n",
    "\n",
    "if set_standardize == False:\n",
    "    set_PCA = False\n",
    "    \n",
    "elif set_standardize == True:\n",
    "    set_Chi2 = False\n",
    "    \n",
    "elif sum([set_Chi2,set_IG,set_Lasso,set_Corr]) != 1:\n",
    "    [set_Chi2,set_IG,set_Lasso,set_Corr] = [False]*4"
   ]
  },
  {
   "cell_type": "code",
   "execution_count": 67,
   "metadata": {
    "id": "4XEWSta_8LeN"
   },
   "outputs": [],
   "source": [
    "from sklearn.model_selection import train_test_split\n",
    "\n",
    "def split_df(dataframe, seed=None, percentage=0.8):\n",
    "    \n",
    "    X = dataframe.loc[:, dataframe.columns != 'round_winner']\n",
    "    y = dataframe['round_winner']\n",
    "\n",
    "    return train_test_split(X, y, test_size=1-percentage, random_state=seed)\n",
    "\n",
    "\n",
    "if set_standardize:\n",
    "    \n",
    "    train_X, val_X, train_y, val_y = split_df(df_train_std, seed=42, percentage=0.8)\n",
    "    test_X = test_X_std\n",
    "\n",
    "else:\n",
    "    \n",
    "    train_X, val_X, train_y, val_y = split_df(df_train, seed=42, percentage=0.8)\n",
    "    test_X = df_test\n"
   ]
  },
  {
   "cell_type": "markdown",
   "metadata": {
    "id": "93NwewvI8LeQ"
   },
   "source": [
    "# 3. Feature Engineering"
   ]
  },
  {
   "cell_type": "markdown",
   "metadata": {
    "id": "Rfi6e7j28LeR"
   },
   "source": [
    "## 3.1 Benchmark model [BM]"
   ]
  },
  {
   "cell_type": "markdown",
   "metadata": {
    "id": "yMocpV5g8LeR"
   },
   "source": [
    "### 3.1.1 Basic Logistic Regression"
   ]
  },
  {
   "cell_type": "code",
   "execution_count": 68,
   "metadata": {
    "colab": {
     "base_uri": "https://localhost:8080/"
    },
    "id": "PnHlY5dV8LeR",
    "outputId": "196db43a-da92-46c3-e8bf-35b8fd45e1d6",
    "scrolled": true
   },
   "outputs": [
    {
     "data": {
      "text/plain": [
       "LogisticRegression(max_iter=1000, penalty='none')"
      ]
     },
     "execution_count": 68,
     "metadata": {},
     "output_type": "execute_result"
    }
   ],
   "source": [
    "from sklearn import linear_model\n",
    "\n",
    "first_lm = linear_model.LogisticRegression(max_iter=1000, penalty='none')\n",
    "first_lm.fit(train_X, train_y)"
   ]
  },
  {
   "cell_type": "code",
   "execution_count": 69,
   "metadata": {
    "colab": {
     "base_uri": "https://localhost:8080/",
     "height": 319
    },
    "id": "4OmHK1nN8LeT",
    "outputId": "2c0313ab-053e-4e6d-c472-dce4b02cbee3",
    "scrolled": true
   },
   "outputs": [
    {
     "name": "stdout",
     "output_type": "stream",
     "text": [
      "Accuracy = 0.7510\n"
     ]
    },
    {
     "name": "stderr",
     "output_type": "stream",
     "text": [
      "/Users/franciscomansillanavarro/opt/anaconda3/lib/python3.7/site-packages/sklearn/utils/validation.py:70: FutureWarning: Pass labels=[0. 1.] as keyword args. From version 0.25 passing these as positional arguments will result in an error\n",
      "  FutureWarning)\n"
     ]
    },
    {
     "data": {
      "text/plain": [
       "<sklearn.metrics._plot.confusion_matrix.ConfusionMatrixDisplay at 0x7fa2dec13f50>"
      ]
     },
     "execution_count": 69,
     "metadata": {},
     "output_type": "execute_result"
    },
    {
     "data": {
      "image/png": "[encoded data removed]",
      "text/plain": [
       "<Figure size 432x288 with 2 Axes>"
      ]
     },
     "metadata": {},
     "output_type": "display_data"
    }
   ],
   "source": [
    "# show confusion matrix of benchmark prediction\n",
    "from sklearn.metrics import plot_confusion_matrix, accuracy_score\n",
    "\n",
    "print(\"Accuracy = {0:.4f}\".format(accuracy_score(val_y,first_lm.predict(val_X))))\n",
    "plot_confusion_matrix(first_lm, val_X, val_y, val_y.unique(), cmap=plt.cm.Blues)"
   ]
  },
  {
   "cell_type": "code",
   "execution_count": 70,
   "metadata": {
    "colab": {
     "base_uri": "https://localhost:8080/",
     "height": 80
    },
    "id": "SHlvKYna8LeU",
    "outputId": "837dec93-235f-4527-b6cf-c9a52c0bd2b1"
   },
   "outputs": [
    {
     "data": {
      "text/html": [
       "<div>\n",
       "<style scoped>\n",
       "    .dataframe tbody tr th:only-of-type {\n",
       "        vertical-align: middle;\n",
       "    }\n",
       "\n",
       "    .dataframe tbody tr th {\n",
       "        vertical-align: top;\n",
       "    }\n",
       "\n",
       "    .dataframe thead th {\n",
       "        text-align: right;\n",
       "    }\n",
       "</style>\n",
       "<table border=\"1\" class=\"dataframe\">\n",
       "  <thead>\n",
       "    <tr style=\"text-align: right;\">\n",
       "      <th></th>\n",
       "      <th>Approach</th>\n",
       "      <th>Accuracy</th>\n",
       "    </tr>\n",
       "  </thead>\n",
       "  <tbody>\n",
       "    <tr>\n",
       "      <th>0</th>\n",
       "      <td>Logistic Model - STD</td>\n",
       "      <td>0.75096</td>\n",
       "    </tr>\n",
       "  </tbody>\n",
       "</table>\n",
       "</div>"
      ],
      "text/plain": [
       "               Approach  Accuracy\n",
       "0  Logistic Model - STD   0.75096"
      ]
     },
     "execution_count": 70,
     "metadata": {},
     "output_type": "execute_result"
    }
   ],
   "source": [
    "if set_standardize:\n",
    "    results_df.loc[len(results_df)] = ['Logistic Model - STD', accuracy_score(val_y,first_lm.predict(val_X))]\n",
    "else:\n",
    "    results_df.loc[len(results_df)] = ['Logistic Model', accuracy_score(val_y,first_lm.predict(val_X))]\n",
    "    \n",
    "results_df"
   ]
  },
  {
   "cell_type": "markdown",
   "metadata": {
    "id": "XTj21ekN8LeW"
   },
   "source": [
    "### 3.1.2 Feature importance of basic model"
   ]
  },
  {
   "cell_type": "code",
   "execution_count": 71,
   "metadata": {
    "code_folding": [],
    "colab": {
     "base_uri": "https://localhost:8080/",
     "height": 1000
    },
    "id": "B0vLMpSc8LeW",
    "outputId": "a4cab455-ca51-41c8-c381-1ff2be2b9d4f"
   },
   "outputs": [
    {
     "data": {
      "text/html": [
       "<style  type=\"text/css\" >\n",
       "#T_4a48ce92_0beb_11eb_96a0_acde48001122row0_col1{\n",
       "            width:  10em;\n",
       "             height:  80%;\n",
       "            background:  linear-gradient(90deg, transparent 50.0%, green 50.0%, green 96.8%, transparent 96.8%);\n",
       "        }#T_4a48ce92_0beb_11eb_96a0_acde48001122row1_col1{\n",
       "            width:  10em;\n",
       "             height:  80%;\n",
       "            background:  linear-gradient(90deg, transparent 50.0%, green 50.0%, green 83.1%, transparent 83.1%);\n",
       "        }#T_4a48ce92_0beb_11eb_96a0_acde48001122row2_col1{\n",
       "            width:  10em;\n",
       "             height:  80%;\n",
       "            background:  linear-gradient(90deg, transparent 50.0%, green 50.0%, green 81.2%, transparent 81.2%);\n",
       "        }#T_4a48ce92_0beb_11eb_96a0_acde48001122row3_col1{\n",
       "            width:  10em;\n",
       "             height:  80%;\n",
       "            background:  linear-gradient(90deg, transparent 50.0%, green 50.0%, green 75.3%, transparent 75.3%);\n",
       "        }#T_4a48ce92_0beb_11eb_96a0_acde48001122row4_col1{\n",
       "            width:  10em;\n",
       "             height:  80%;\n",
       "            background:  linear-gradient(90deg, transparent 50.0%, green 50.0%, green 71.4%, transparent 71.4%);\n",
       "        }#T_4a48ce92_0beb_11eb_96a0_acde48001122row5_col1{\n",
       "            width:  10em;\n",
       "             height:  80%;\n",
       "            background:  linear-gradient(90deg, transparent 50.0%, green 50.0%, green 66.9%, transparent 66.9%);\n",
       "        }#T_4a48ce92_0beb_11eb_96a0_acde48001122row6_col1{\n",
       "            width:  10em;\n",
       "             height:  80%;\n",
       "            background:  linear-gradient(90deg, transparent 50.0%, green 50.0%, green 65.6%, transparent 65.6%);\n",
       "        }#T_4a48ce92_0beb_11eb_96a0_acde48001122row7_col1{\n",
       "            width:  10em;\n",
       "             height:  80%;\n",
       "            background:  linear-gradient(90deg, transparent 50.0%, green 50.0%, green 62.3%, transparent 62.3%);\n",
       "        }#T_4a48ce92_0beb_11eb_96a0_acde48001122row8_col1{\n",
       "            width:  10em;\n",
       "             height:  80%;\n",
       "            background:  linear-gradient(90deg, transparent 50.0%, green 50.0%, green 61.7%, transparent 61.7%);\n",
       "        }#T_4a48ce92_0beb_11eb_96a0_acde48001122row9_col1{\n",
       "            width:  10em;\n",
       "             height:  80%;\n",
       "            background:  linear-gradient(90deg, transparent 50.0%, green 50.0%, green 61.0%, transparent 61.0%);\n",
       "        }#T_4a48ce92_0beb_11eb_96a0_acde48001122row10_col1{\n",
       "            width:  10em;\n",
       "             height:  80%;\n",
       "            background:  linear-gradient(90deg, transparent 50.0%, green 50.0%, green 59.7%, transparent 59.7%);\n",
       "        }#T_4a48ce92_0beb_11eb_96a0_acde48001122row11_col1{\n",
       "            width:  10em;\n",
       "             height:  80%;\n",
       "            background:  linear-gradient(90deg, transparent 50.0%, green 50.0%, green 59.1%, transparent 59.1%);\n",
       "        }#T_4a48ce92_0beb_11eb_96a0_acde48001122row12_col1,#T_4a48ce92_0beb_11eb_96a0_acde48001122row13_col1{\n",
       "            width:  10em;\n",
       "             height:  80%;\n",
       "            background:  linear-gradient(90deg, transparent 50.0%, green 50.0%, green 58.4%, transparent 58.4%);\n",
       "        }#T_4a48ce92_0beb_11eb_96a0_acde48001122row14_col1{\n",
       "            width:  10em;\n",
       "             height:  80%;\n",
       "            background:  linear-gradient(90deg, transparent 50.0%, green 50.0%, green 57.8%, transparent 57.8%);\n",
       "        }#T_4a48ce92_0beb_11eb_96a0_acde48001122row15_col1{\n",
       "            width:  10em;\n",
       "             height:  80%;\n",
       "            background:  linear-gradient(90deg, transparent 50.0%, green 50.0%, green 57.1%, transparent 57.1%);\n",
       "        }#T_4a48ce92_0beb_11eb_96a0_acde48001122row16_col1{\n",
       "            width:  10em;\n",
       "             height:  80%;\n",
       "            background:  linear-gradient(90deg, transparent 50.0%, green 50.0%, green 56.5%, transparent 56.5%);\n",
       "        }#T_4a48ce92_0beb_11eb_96a0_acde48001122row17_col1{\n",
       "            width:  10em;\n",
       "             height:  80%;\n",
       "            background:  linear-gradient(90deg, transparent 50.0%, green 50.0%, green 55.2%, transparent 55.2%);\n",
       "        }#T_4a48ce92_0beb_11eb_96a0_acde48001122row18_col1,#T_4a48ce92_0beb_11eb_96a0_acde48001122row19_col1,#T_4a48ce92_0beb_11eb_96a0_acde48001122row20_col1,#T_4a48ce92_0beb_11eb_96a0_acde48001122row21_col1,#T_4a48ce92_0beb_11eb_96a0_acde48001122row22_col1,#T_4a48ce92_0beb_11eb_96a0_acde48001122row23_col1,#T_4a48ce92_0beb_11eb_96a0_acde48001122row24_col1{\n",
       "            width:  10em;\n",
       "             height:  80%;\n",
       "            background:  linear-gradient(90deg, transparent 50.0%, green 50.0%, green 53.9%, transparent 53.9%);\n",
       "        }#T_4a48ce92_0beb_11eb_96a0_acde48001122row25_col1,#T_4a48ce92_0beb_11eb_96a0_acde48001122row26_col1{\n",
       "            width:  10em;\n",
       "             height:  80%;\n",
       "            background:  linear-gradient(90deg, transparent 50.0%, green 50.0%, green 53.2%, transparent 53.2%);\n",
       "        }#T_4a48ce92_0beb_11eb_96a0_acde48001122row27_col1,#T_4a48ce92_0beb_11eb_96a0_acde48001122row28_col1,#T_4a48ce92_0beb_11eb_96a0_acde48001122row29_col1,#T_4a48ce92_0beb_11eb_96a0_acde48001122row30_col1{\n",
       "            width:  10em;\n",
       "             height:  80%;\n",
       "            background:  linear-gradient(90deg, transparent 50.0%, green 50.0%, green 52.6%, transparent 52.6%);\n",
       "        }#T_4a48ce92_0beb_11eb_96a0_acde48001122row31_col1,#T_4a48ce92_0beb_11eb_96a0_acde48001122row32_col1,#T_4a48ce92_0beb_11eb_96a0_acde48001122row33_col1,#T_4a48ce92_0beb_11eb_96a0_acde48001122row34_col1{\n",
       "            width:  10em;\n",
       "             height:  80%;\n",
       "            background:  linear-gradient(90deg, transparent 50.0%, green 50.0%, green 51.9%, transparent 51.9%);\n",
       "        }#T_4a48ce92_0beb_11eb_96a0_acde48001122row35_col1,#T_4a48ce92_0beb_11eb_96a0_acde48001122row36_col1,#T_4a48ce92_0beb_11eb_96a0_acde48001122row37_col1,#T_4a48ce92_0beb_11eb_96a0_acde48001122row38_col1,#T_4a48ce92_0beb_11eb_96a0_acde48001122row39_col1,#T_4a48ce92_0beb_11eb_96a0_acde48001122row40_col1,#T_4a48ce92_0beb_11eb_96a0_acde48001122row41_col1,#T_4a48ce92_0beb_11eb_96a0_acde48001122row42_col1,#T_4a48ce92_0beb_11eb_96a0_acde48001122row43_col1,#T_4a48ce92_0beb_11eb_96a0_acde48001122row44_col1{\n",
       "            width:  10em;\n",
       "             height:  80%;\n",
       "            background:  linear-gradient(90deg, transparent 50.0%, green 50.0%, green 51.3%, transparent 51.3%);\n",
       "        }#T_4a48ce92_0beb_11eb_96a0_acde48001122row45_col1,#T_4a48ce92_0beb_11eb_96a0_acde48001122row46_col1,#T_4a48ce92_0beb_11eb_96a0_acde48001122row47_col1,#T_4a48ce92_0beb_11eb_96a0_acde48001122row48_col1,#T_4a48ce92_0beb_11eb_96a0_acde48001122row49_col1,#T_4a48ce92_0beb_11eb_96a0_acde48001122row50_col1,#T_4a48ce92_0beb_11eb_96a0_acde48001122row51_col1,#T_4a48ce92_0beb_11eb_96a0_acde48001122row52_col1,#T_4a48ce92_0beb_11eb_96a0_acde48001122row53_col1{\n",
       "            width:  10em;\n",
       "             height:  80%;\n",
       "            background:  linear-gradient(90deg, transparent 50.0%, green 50.0%, green 50.6%, transparent 50.6%);\n",
       "        }#T_4a48ce92_0beb_11eb_96a0_acde48001122row54_col1,#T_4a48ce92_0beb_11eb_96a0_acde48001122row55_col1,#T_4a48ce92_0beb_11eb_96a0_acde48001122row56_col1,#T_4a48ce92_0beb_11eb_96a0_acde48001122row57_col1,#T_4a48ce92_0beb_11eb_96a0_acde48001122row58_col1,#T_4a48ce92_0beb_11eb_96a0_acde48001122row59_col1,#T_4a48ce92_0beb_11eb_96a0_acde48001122row60_col1,#T_4a48ce92_0beb_11eb_96a0_acde48001122row61_col1,#T_4a48ce92_0beb_11eb_96a0_acde48001122row62_col1,#T_4a48ce92_0beb_11eb_96a0_acde48001122row63_col1,#T_4a48ce92_0beb_11eb_96a0_acde48001122row64_col1,#T_4a48ce92_0beb_11eb_96a0_acde48001122row65_col1{\n",
       "            width:  10em;\n",
       "             height:  80%;\n",
       "        }#T_4a48ce92_0beb_11eb_96a0_acde48001122row66_col1,#T_4a48ce92_0beb_11eb_96a0_acde48001122row67_col1,#T_4a48ce92_0beb_11eb_96a0_acde48001122row68_col1,#T_4a48ce92_0beb_11eb_96a0_acde48001122row69_col1,#T_4a48ce92_0beb_11eb_96a0_acde48001122row70_col1,#T_4a48ce92_0beb_11eb_96a0_acde48001122row71_col1,#T_4a48ce92_0beb_11eb_96a0_acde48001122row72_col1,#T_4a48ce92_0beb_11eb_96a0_acde48001122row73_col1,#T_4a48ce92_0beb_11eb_96a0_acde48001122row74_col1,#T_4a48ce92_0beb_11eb_96a0_acde48001122row75_col1,#T_4a48ce92_0beb_11eb_96a0_acde48001122row76_col1,#T_4a48ce92_0beb_11eb_96a0_acde48001122row77_col1,#T_4a48ce92_0beb_11eb_96a0_acde48001122row78_col1,#T_4a48ce92_0beb_11eb_96a0_acde48001122row79_col1{\n",
       "            width:  10em;\n",
       "             height:  80%;\n",
       "            background:  linear-gradient(90deg, transparent 49.4%, red 49.4%, red 50.0%, transparent 50.0%);\n",
       "        }#T_4a48ce92_0beb_11eb_96a0_acde48001122row80_col1,#T_4a48ce92_0beb_11eb_96a0_acde48001122row81_col1,#T_4a48ce92_0beb_11eb_96a0_acde48001122row82_col1,#T_4a48ce92_0beb_11eb_96a0_acde48001122row83_col1,#T_4a48ce92_0beb_11eb_96a0_acde48001122row84_col1,#T_4a48ce92_0beb_11eb_96a0_acde48001122row85_col1,#T_4a48ce92_0beb_11eb_96a0_acde48001122row86_col1,#T_4a48ce92_0beb_11eb_96a0_acde48001122row87_col1,#T_4a48ce92_0beb_11eb_96a0_acde48001122row88_col1,#T_4a48ce92_0beb_11eb_96a0_acde48001122row89_col1,#T_4a48ce92_0beb_11eb_96a0_acde48001122row90_col1,#T_4a48ce92_0beb_11eb_96a0_acde48001122row91_col1,#T_4a48ce92_0beb_11eb_96a0_acde48001122row92_col1{\n",
       "            width:  10em;\n",
       "             height:  80%;\n",
       "            background:  linear-gradient(90deg, transparent 48.7%, red 48.7%, red 50.0%, transparent 50.0%);\n",
       "        }#T_4a48ce92_0beb_11eb_96a0_acde48001122row93_col1,#T_4a48ce92_0beb_11eb_96a0_acde48001122row94_col1,#T_4a48ce92_0beb_11eb_96a0_acde48001122row95_col1,#T_4a48ce92_0beb_11eb_96a0_acde48001122row96_col1,#T_4a48ce92_0beb_11eb_96a0_acde48001122row97_col1,#T_4a48ce92_0beb_11eb_96a0_acde48001122row98_col1,#T_4a48ce92_0beb_11eb_96a0_acde48001122row99_col1,#T_4a48ce92_0beb_11eb_96a0_acde48001122row100_col1,#T_4a48ce92_0beb_11eb_96a0_acde48001122row101_col1{\n",
       "            width:  10em;\n",
       "             height:  80%;\n",
       "            background:  linear-gradient(90deg, transparent 48.1%, red 48.1%, red 50.0%, transparent 50.0%);\n",
       "        }#T_4a48ce92_0beb_11eb_96a0_acde48001122row102_col1,#T_4a48ce92_0beb_11eb_96a0_acde48001122row103_col1,#T_4a48ce92_0beb_11eb_96a0_acde48001122row104_col1,#T_4a48ce92_0beb_11eb_96a0_acde48001122row105_col1,#T_4a48ce92_0beb_11eb_96a0_acde48001122row106_col1,#T_4a48ce92_0beb_11eb_96a0_acde48001122row107_col1{\n",
       "            width:  10em;\n",
       "             height:  80%;\n",
       "            background:  linear-gradient(90deg, transparent 47.4%, red 47.4%, red 50.0%, transparent 50.0%);\n",
       "        }#T_4a48ce92_0beb_11eb_96a0_acde48001122row108_col1{\n",
       "            width:  10em;\n",
       "             height:  80%;\n",
       "            background:  linear-gradient(90deg, transparent 46.8%, red 46.8%, red 50.0%, transparent 50.0%);\n",
       "        }#T_4a48ce92_0beb_11eb_96a0_acde48001122row109_col1,#T_4a48ce92_0beb_11eb_96a0_acde48001122row110_col1,#T_4a48ce92_0beb_11eb_96a0_acde48001122row111_col1,#T_4a48ce92_0beb_11eb_96a0_acde48001122row112_col1{\n",
       "            width:  10em;\n",
       "             height:  80%;\n",
       "            background:  linear-gradient(90deg, transparent 46.1%, red 46.1%, red 50.0%, transparent 50.0%);\n",
       "        }#T_4a48ce92_0beb_11eb_96a0_acde48001122row113_col1,#T_4a48ce92_0beb_11eb_96a0_acde48001122row114_col1{\n",
       "            width:  10em;\n",
       "             height:  80%;\n",
       "            background:  linear-gradient(90deg, transparent 45.5%, red 45.5%, red 50.0%, transparent 50.0%);\n",
       "        }#T_4a48ce92_0beb_11eb_96a0_acde48001122row115_col1{\n",
       "            width:  10em;\n",
       "             height:  80%;\n",
       "            background:  linear-gradient(90deg, transparent 44.8%, red 44.8%, red 50.0%, transparent 50.0%);\n",
       "        }#T_4a48ce92_0beb_11eb_96a0_acde48001122row116_col1{\n",
       "            width:  10em;\n",
       "             height:  80%;\n",
       "            background:  linear-gradient(90deg, transparent 44.2%, red 44.2%, red 50.0%, transparent 50.0%);\n",
       "        }#T_4a48ce92_0beb_11eb_96a0_acde48001122row117_col1{\n",
       "            width:  10em;\n",
       "             height:  80%;\n",
       "            background:  linear-gradient(90deg, transparent 41.6%, red 41.6%, red 50.0%, transparent 50.0%);\n",
       "        }#T_4a48ce92_0beb_11eb_96a0_acde48001122row118_col1{\n",
       "            width:  10em;\n",
       "             height:  80%;\n",
       "            background:  linear-gradient(90deg, transparent 40.9%, red 40.9%, red 50.0%, transparent 50.0%);\n",
       "        }#T_4a48ce92_0beb_11eb_96a0_acde48001122row119_col1{\n",
       "            width:  10em;\n",
       "             height:  80%;\n",
       "            background:  linear-gradient(90deg, transparent 39.0%, red 39.0%, red 50.0%, transparent 50.0%);\n",
       "        }#T_4a48ce92_0beb_11eb_96a0_acde48001122row120_col1{\n",
       "            width:  10em;\n",
       "             height:  80%;\n",
       "            background:  linear-gradient(90deg, transparent 38.3%, red 38.3%, red 50.0%, transparent 50.0%);\n",
       "        }#T_4a48ce92_0beb_11eb_96a0_acde48001122row121_col1,#T_4a48ce92_0beb_11eb_96a0_acde48001122row122_col1,#T_4a48ce92_0beb_11eb_96a0_acde48001122row123_col1{\n",
       "            width:  10em;\n",
       "             height:  80%;\n",
       "            background:  linear-gradient(90deg, transparent 33.8%, red 33.8%, red 50.0%, transparent 50.0%);\n",
       "        }#T_4a48ce92_0beb_11eb_96a0_acde48001122row124_col1{\n",
       "            width:  10em;\n",
       "             height:  80%;\n",
       "            background:  linear-gradient(90deg, transparent 29.9%, red 29.9%, red 50.0%, transparent 50.0%);\n",
       "        }#T_4a48ce92_0beb_11eb_96a0_acde48001122row125_col1{\n",
       "            width:  10em;\n",
       "             height:  80%;\n",
       "            background:  linear-gradient(90deg, transparent 27.3%, red 27.3%, red 50.0%, transparent 50.0%);\n",
       "        }#T_4a48ce92_0beb_11eb_96a0_acde48001122row126_col1{\n",
       "            width:  10em;\n",
       "             height:  80%;\n",
       "            background:  linear-gradient(90deg, transparent 26.6%, red 26.6%, red 50.0%, transparent 50.0%);\n",
       "        }#T_4a48ce92_0beb_11eb_96a0_acde48001122row127_col1{\n",
       "            width:  10em;\n",
       "             height:  80%;\n",
       "            background:  linear-gradient(90deg, transparent 16.9%, red 16.9%, red 50.0%, transparent 50.0%);\n",
       "        }#T_4a48ce92_0beb_11eb_96a0_acde48001122row128_col1{\n",
       "            width:  10em;\n",
       "             height:  80%;\n",
       "            background:  linear-gradient(90deg, transparent 6.5%, red 6.5%, red 50.0%, transparent 50.0%);\n",
       "        }#T_4a48ce92_0beb_11eb_96a0_acde48001122row129_col1{\n",
       "            width:  10em;\n",
       "             height:  80%;\n",
       "            background:  linear-gradient(90deg,red 50.0%, transparent 50.0%);\n",
       "        }</style><table id=\"T_4a48ce92_0beb_11eb_96a0_acde48001122\" ><thead>    <tr>        <th class=\"blank level0\" ></th>        <th class=\"col_heading level0 col0\" >variable</th>        <th class=\"col_heading level0 col1\" >coefficient</th>    </tr></thead><tbody>\n",
       "                <tr>\n",
       "                        <th id=\"T_4a48ce92_0beb_11eb_96a0_acde48001122level0_row0\" class=\"row_heading level0 row0\" >4</th>\n",
       "                        <td id=\"T_4a48ce92_0beb_11eb_96a0_acde48001122row0_col0\" class=\"data row0 col0\" >ct_health</td>\n",
       "                        <td id=\"T_4a48ce92_0beb_11eb_96a0_acde48001122row0_col1\" class=\"data row0 col1\" >0.720000</td>\n",
       "            </tr>\n",
       "            <tr>\n",
       "                        <th id=\"T_4a48ce92_0beb_11eb_96a0_acde48001122level0_row1\" class=\"row_heading level0 row1\" >6</th>\n",
       "                        <td id=\"T_4a48ce92_0beb_11eb_96a0_acde48001122row1_col0\" class=\"data row1 col0\" >ct_armor</td>\n",
       "                        <td id=\"T_4a48ce92_0beb_11eb_96a0_acde48001122row1_col1\" class=\"data row1 col1\" >0.510000</td>\n",
       "            </tr>\n",
       "            <tr>\n",
       "                        <th id=\"T_4a48ce92_0beb_11eb_96a0_acde48001122level0_row2\" class=\"row_heading level0 row2\" >13</th>\n",
       "                        <td id=\"T_4a48ce92_0beb_11eb_96a0_acde48001122row2_col0\" class=\"data row2 col0\" >ct_players_alive</td>\n",
       "                        <td id=\"T_4a48ce92_0beb_11eb_96a0_acde48001122row2_col1\" class=\"data row2 col1\" >0.480000</td>\n",
       "            </tr>\n",
       "            <tr>\n",
       "                        <th id=\"T_4a48ce92_0beb_11eb_96a0_acde48001122level0_row3\" class=\"row_heading level0 row3\" >108</th>\n",
       "                        <td id=\"T_4a48ce92_0beb_11eb_96a0_acde48001122row3_col0\" class=\"data row3 col0\" >t_all_alive</td>\n",
       "                        <td id=\"T_4a48ce92_0beb_11eb_96a0_acde48001122row3_col1\" class=\"data row3 col1\" >0.390000</td>\n",
       "            </tr>\n",
       "            <tr>\n",
       "                        <th id=\"T_4a48ce92_0beb_11eb_96a0_acde48001122level0_row4\" class=\"row_heading level0 row4\" >91</th>\n",
       "                        <td id=\"T_4a48ce92_0beb_11eb_96a0_acde48001122row4_col0\" class=\"data row4 col0\" >ct_assault</td>\n",
       "                        <td id=\"T_4a48ce92_0beb_11eb_96a0_acde48001122row4_col1\" class=\"data row4 col1\" >0.330000</td>\n",
       "            </tr>\n",
       "            <tr>\n",
       "                        <th id=\"T_4a48ce92_0beb_11eb_96a0_acde48001122level0_row5\" class=\"row_heading level0 row5\" >35</th>\n",
       "                        <td id=\"T_4a48ce92_0beb_11eb_96a0_acde48001122row5_col0\" class=\"data row5 col0\" >ct_weapon_m4a4</td>\n",
       "                        <td id=\"T_4a48ce92_0beb_11eb_96a0_acde48001122row5_col1\" class=\"data row5 col1\" >0.260000</td>\n",
       "            </tr>\n",
       "            <tr>\n",
       "                        <th id=\"T_4a48ce92_0beb_11eb_96a0_acde48001122level0_row6\" class=\"row_heading level0 row6\" >81</th>\n",
       "                        <td id=\"T_4a48ce92_0beb_11eb_96a0_acde48001122row6_col0\" class=\"data row6 col0\" >t_grenade_smokegrenade</td>\n",
       "                        <td id=\"T_4a48ce92_0beb_11eb_96a0_acde48001122row6_col1\" class=\"data row6 col1\" >0.240000</td>\n",
       "            </tr>\n",
       "            <tr>\n",
       "                        <th id=\"T_4a48ce92_0beb_11eb_96a0_acde48001122level0_row7\" class=\"row_heading level0 row7\" >8</th>\n",
       "                        <td id=\"T_4a48ce92_0beb_11eb_96a0_acde48001122row7_col0\" class=\"data row7 col0\" >ct_money</td>\n",
       "                        <td id=\"T_4a48ce92_0beb_11eb_96a0_acde48001122row7_col1\" class=\"data row7 col1\" >0.190000</td>\n",
       "            </tr>\n",
       "            <tr>\n",
       "                        <th id=\"T_4a48ce92_0beb_11eb_96a0_acde48001122level0_row8\" class=\"row_heading level0 row8\" >95</th>\n",
       "                        <td id=\"T_4a48ce92_0beb_11eb_96a0_acde48001122row8_col0\" class=\"data row8 col0\" >ct_sniper</td>\n",
       "                        <td id=\"T_4a48ce92_0beb_11eb_96a0_acde48001122row8_col1\" class=\"data row8 col1\" >0.180000</td>\n",
       "            </tr>\n",
       "            <tr>\n",
       "                        <th id=\"T_4a48ce92_0beb_11eb_96a0_acde48001122level0_row9\" class=\"row_heading level0 row9\" >19</th>\n",
       "                        <td id=\"T_4a48ce92_0beb_11eb_96a0_acde48001122row9_col0\" class=\"data row9 col0\" >ct_weapon_awp</td>\n",
       "                        <td id=\"T_4a48ce92_0beb_11eb_96a0_acde48001122row9_col1\" class=\"data row9 col1\" >0.170000</td>\n",
       "            </tr>\n",
       "            <tr>\n",
       "                        <th id=\"T_4a48ce92_0beb_11eb_96a0_acde48001122level0_row10\" class=\"row_heading level0 row10\" >112</th>\n",
       "                        <td id=\"T_4a48ce92_0beb_11eb_96a0_acde48001122row10_col0\" class=\"data row10 col0\" >map_value_de_nuke</td>\n",
       "                        <td id=\"T_4a48ce92_0beb_11eb_96a0_acde48001122row10_col1\" class=\"data row10 col1\" >0.150000</td>\n",
       "            </tr>\n",
       "            <tr>\n",
       "                        <th id=\"T_4a48ce92_0beb_11eb_96a0_acde48001122level0_row11\" class=\"row_heading level0 row11\" >98</th>\n",
       "                        <td id=\"T_4a48ce92_0beb_11eb_96a0_acde48001122row11_col0\" class=\"data row11 col0\" >t_explosives</td>\n",
       "                        <td id=\"T_4a48ce92_0beb_11eb_96a0_acde48001122row11_col1\" class=\"data row11 col1\" >0.140000</td>\n",
       "            </tr>\n",
       "            <tr>\n",
       "                        <th id=\"T_4a48ce92_0beb_11eb_96a0_acde48001122level0_row12\" class=\"row_heading level0 row12\" >56</th>\n",
       "                        <td id=\"T_4a48ce92_0beb_11eb_96a0_acde48001122row12_col0\" class=\"data row12 col0\" >ct_weapon_sg553</td>\n",
       "                        <td id=\"T_4a48ce92_0beb_11eb_96a0_acde48001122row12_col1\" class=\"data row12 col1\" >0.130000</td>\n",
       "            </tr>\n",
       "            <tr>\n",
       "                        <th id=\"T_4a48ce92_0beb_11eb_96a0_acde48001122level0_row13\" class=\"row_heading level0 row13\" >114</th>\n",
       "                        <td id=\"T_4a48ce92_0beb_11eb_96a0_acde48001122row13_col0\" class=\"data row13 col0\" >map_value_de_overpass</td>\n",
       "                        <td id=\"T_4a48ce92_0beb_11eb_96a0_acde48001122row13_col1\" class=\"data row13 col1\" >0.130000</td>\n",
       "            </tr>\n",
       "            <tr>\n",
       "                        <th id=\"T_4a48ce92_0beb_11eb_96a0_acde48001122level0_row14\" class=\"row_heading level0 row14\" >85</th>\n",
       "                        <td id=\"T_4a48ce92_0beb_11eb_96a0_acde48001122row14_col0\" class=\"data row14 col0\" >t_grenade_molotovgrenade</td>\n",
       "                        <td id=\"T_4a48ce92_0beb_11eb_96a0_acde48001122row14_col1\" class=\"data row14 col1\" >0.120000</td>\n",
       "            </tr>\n",
       "            <tr>\n",
       "                        <th id=\"T_4a48ce92_0beb_11eb_96a0_acde48001122level0_row15\" class=\"row_heading level0 row15\" >17</th>\n",
       "                        <td id=\"T_4a48ce92_0beb_11eb_96a0_acde48001122row15_col0\" class=\"data row15 col0\" >ct_weapon_aug</td>\n",
       "                        <td id=\"T_4a48ce92_0beb_11eb_96a0_acde48001122row15_col1\" class=\"data row15 col1\" >0.110000</td>\n",
       "            </tr>\n",
       "            <tr>\n",
       "                        <th id=\"T_4a48ce92_0beb_11eb_96a0_acde48001122level0_row16\" class=\"row_heading level0 row16\" >79</th>\n",
       "                        <td id=\"T_4a48ce92_0beb_11eb_96a0_acde48001122row16_col0\" class=\"data row16 col0\" >t_grenade_flashbang</td>\n",
       "                        <td id=\"T_4a48ce92_0beb_11eb_96a0_acde48001122row16_col1\" class=\"data row16 col1\" >0.100000</td>\n",
       "            </tr>\n",
       "            <tr>\n",
       "                        <th id=\"T_4a48ce92_0beb_11eb_96a0_acde48001122level0_row17\" class=\"row_heading level0 row17\" >15</th>\n",
       "                        <td id=\"T_4a48ce92_0beb_11eb_96a0_acde48001122row17_col0\" class=\"data row17 col0\" >ct_weapon_ak47</td>\n",
       "                        <td id=\"T_4a48ce92_0beb_11eb_96a0_acde48001122row17_col1\" class=\"data row17 col1\" >0.080000</td>\n",
       "            </tr>\n",
       "            <tr>\n",
       "                        <th id=\"T_4a48ce92_0beb_11eb_96a0_acde48001122level0_row18\" class=\"row_heading level0 row18\" >33</th>\n",
       "                        <td id=\"T_4a48ce92_0beb_11eb_96a0_acde48001122row18_col0\" class=\"data row18 col0\" >ct_weapon_m4a1s</td>\n",
       "                        <td id=\"T_4a48ce92_0beb_11eb_96a0_acde48001122row18_col1\" class=\"data row18 col1\" >0.060000</td>\n",
       "            </tr>\n",
       "            <tr>\n",
       "                        <th id=\"T_4a48ce92_0beb_11eb_96a0_acde48001122level0_row19\" class=\"row_heading level0 row19\" >26</th>\n",
       "                        <td id=\"T_4a48ce92_0beb_11eb_96a0_acde48001122row19_col0\" class=\"data row19 col0\" >ct_weapon_famas</td>\n",
       "                        <td id=\"T_4a48ce92_0beb_11eb_96a0_acde48001122row19_col1\" class=\"data row19 col1\" >0.060000</td>\n",
       "            </tr>\n",
       "            <tr>\n",
       "                        <th id=\"T_4a48ce92_0beb_11eb_96a0_acde48001122level0_row20\" class=\"row_heading level0 row20\" >64</th>\n",
       "                        <td id=\"T_4a48ce92_0beb_11eb_96a0_acde48001122row20_col0\" class=\"data row20 col0\" >ct_weapon_deagle</td>\n",
       "                        <td id=\"T_4a48ce92_0beb_11eb_96a0_acde48001122row20_col1\" class=\"data row20 col1\" >0.060000</td>\n",
       "            </tr>\n",
       "            <tr>\n",
       "                        <th id=\"T_4a48ce92_0beb_11eb_96a0_acde48001122level0_row21\" class=\"row_heading level0 row21\" >45</th>\n",
       "                        <td id=\"T_4a48ce92_0beb_11eb_96a0_acde48001122row21_col0\" class=\"data row21 col0\" >ct_weapon_mp9</td>\n",
       "                        <td id=\"T_4a48ce92_0beb_11eb_96a0_acde48001122row21_col1\" class=\"data row21 col1\" >0.060000</td>\n",
       "            </tr>\n",
       "            <tr>\n",
       "                        <th id=\"T_4a48ce92_0beb_11eb_96a0_acde48001122level0_row22\" class=\"row_heading level0 row22\" >93</th>\n",
       "                        <td id=\"T_4a48ce92_0beb_11eb_96a0_acde48001122row22_col0\" class=\"data row22 col0\" >ct_smg</td>\n",
       "                        <td id=\"T_4a48ce92_0beb_11eb_96a0_acde48001122row22_col1\" class=\"data row22 col1\" >0.060000</td>\n",
       "            </tr>\n",
       "            <tr>\n",
       "                        <th id=\"T_4a48ce92_0beb_11eb_96a0_acde48001122level0_row23\" class=\"row_heading level0 row23\" >126</th>\n",
       "                        <td id=\"T_4a48ce92_0beb_11eb_96a0_acde48001122row23_col0\" class=\"data row23 col0\" >time_quarter_value_Q1</td>\n",
       "                        <td id=\"T_4a48ce92_0beb_11eb_96a0_acde48001122row23_col1\" class=\"data row23 col1\" >0.060000</td>\n",
       "            </tr>\n",
       "            <tr>\n",
       "                        <th id=\"T_4a48ce92_0beb_11eb_96a0_acde48001122level0_row24\" class=\"row_heading level0 row24\" >120</th>\n",
       "                        <td id=\"T_4a48ce92_0beb_11eb_96a0_acde48001122row24_col0\" class=\"data row24 col0\" >t_money_cat_value_midhigh</td>\n",
       "                        <td id=\"T_4a48ce92_0beb_11eb_96a0_acde48001122row24_col1\" class=\"data row24 col1\" >0.060000</td>\n",
       "            </tr>\n",
       "            <tr>\n",
       "                        <th id=\"T_4a48ce92_0beb_11eb_96a0_acde48001122level0_row25\" class=\"row_heading level0 row25\" >32</th>\n",
       "                        <td id=\"T_4a48ce92_0beb_11eb_96a0_acde48001122row25_col0\" class=\"data row25 col0\" >t_weapon_glock</td>\n",
       "                        <td id=\"T_4a48ce92_0beb_11eb_96a0_acde48001122row25_col1\" class=\"data row25 col1\" >0.050000</td>\n",
       "            </tr>\n",
       "            <tr>\n",
       "                        <th id=\"T_4a48ce92_0beb_11eb_96a0_acde48001122level0_row26\" class=\"row_heading level0 row26\" >52</th>\n",
       "                        <td id=\"T_4a48ce92_0beb_11eb_96a0_acde48001122row26_col0\" class=\"data row26 col0\" >t_weapon_r8revolver</td>\n",
       "                        <td id=\"T_4a48ce92_0beb_11eb_96a0_acde48001122row26_col1\" class=\"data row26 col1\" >0.050000</td>\n",
       "            </tr>\n",
       "            <tr>\n",
       "                        <th id=\"T_4a48ce92_0beb_11eb_96a0_acde48001122level0_row27\" class=\"row_heading level0 row27\" >58</th>\n",
       "                        <td id=\"T_4a48ce92_0beb_11eb_96a0_acde48001122row27_col0\" class=\"data row27 col0\" >ct_weapon_ssg08</td>\n",
       "                        <td id=\"T_4a48ce92_0beb_11eb_96a0_acde48001122row27_col1\" class=\"data row27 col1\" >0.040000</td>\n",
       "            </tr>\n",
       "            <tr>\n",
       "                        <th id=\"T_4a48ce92_0beb_11eb_96a0_acde48001122level0_row28\" class=\"row_heading level0 row28\" >125</th>\n",
       "                        <td id=\"T_4a48ce92_0beb_11eb_96a0_acde48001122row28_col0\" class=\"data row28 col0\" >ct_money_cat_value_high</td>\n",
       "                        <td id=\"T_4a48ce92_0beb_11eb_96a0_acde48001122row28_col1\" class=\"data row28 col1\" >0.040000</td>\n",
       "            </tr>\n",
       "            <tr>\n",
       "                        <th id=\"T_4a48ce92_0beb_11eb_96a0_acde48001122level0_row29\" class=\"row_heading level0 row29\" >117</th>\n",
       "                        <td id=\"T_4a48ce92_0beb_11eb_96a0_acde48001122row29_col0\" class=\"data row29 col0\" >map_value_de_cache</td>\n",
       "                        <td id=\"T_4a48ce92_0beb_11eb_96a0_acde48001122row29_col1\" class=\"data row29 col1\" >0.040000</td>\n",
       "            </tr>\n",
       "            <tr>\n",
       "                        <th id=\"T_4a48ce92_0beb_11eb_96a0_acde48001122level0_row30\" class=\"row_heading level0 row30\" >106</th>\n",
       "                        <td id=\"T_4a48ce92_0beb_11eb_96a0_acde48001122row30_col0\" class=\"data row30 col0\" >ct_smallmap_sniper</td>\n",
       "                        <td id=\"T_4a48ce92_0beb_11eb_96a0_acde48001122row30_col1\" class=\"data row30 col1\" >0.040000</td>\n",
       "            </tr>\n",
       "            <tr>\n",
       "                        <th id=\"T_4a48ce92_0beb_11eb_96a0_acde48001122level0_row31\" class=\"row_heading level0 row31\" >22</th>\n",
       "                        <td id=\"T_4a48ce92_0beb_11eb_96a0_acde48001122row31_col0\" class=\"data row31 col0\" >ct_weapon_cz75auto</td>\n",
       "                        <td id=\"T_4a48ce92_0beb_11eb_96a0_acde48001122row31_col1\" class=\"data row31 col1\" >0.030000</td>\n",
       "            </tr>\n",
       "            <tr>\n",
       "                        <th id=\"T_4a48ce92_0beb_11eb_96a0_acde48001122level0_row32\" class=\"row_heading level0 row32\" >47</th>\n",
       "                        <td id=\"T_4a48ce92_0beb_11eb_96a0_acde48001122row32_col0\" class=\"data row32 col0\" >t_weapon_negev</td>\n",
       "                        <td id=\"T_4a48ce92_0beb_11eb_96a0_acde48001122row32_col1\" class=\"data row32 col1\" >0.030000</td>\n",
       "            </tr>\n",
       "            <tr>\n",
       "                        <th id=\"T_4a48ce92_0beb_11eb_96a0_acde48001122level0_row33\" class=\"row_heading level0 row33\" >75</th>\n",
       "                        <td id=\"T_4a48ce92_0beb_11eb_96a0_acde48001122row33_col0\" class=\"data row33 col0\" >t_weapon_tec9</td>\n",
       "                        <td id=\"T_4a48ce92_0beb_11eb_96a0_acde48001122row33_col1\" class=\"data row33 col1\" >0.030000</td>\n",
       "            </tr>\n",
       "            <tr>\n",
       "                        <th id=\"T_4a48ce92_0beb_11eb_96a0_acde48001122level0_row34\" class=\"row_heading level0 row34\" >102</th>\n",
       "                        <td id=\"T_4a48ce92_0beb_11eb_96a0_acde48001122row34_col0\" class=\"data row34 col0\" >ct_all_assaults</td>\n",
       "                        <td id=\"T_4a48ce92_0beb_11eb_96a0_acde48001122row34_col1\" class=\"data row34 col1\" >0.030000</td>\n",
       "            </tr>\n",
       "            <tr>\n",
       "                        <th id=\"T_4a48ce92_0beb_11eb_96a0_acde48001122level0_row35\" class=\"row_heading level0 row35\" >1</th>\n",
       "                        <td id=\"T_4a48ce92_0beb_11eb_96a0_acde48001122row35_col0\" class=\"data row35 col0\" >ct_score</td>\n",
       "                        <td id=\"T_4a48ce92_0beb_11eb_96a0_acde48001122row35_col1\" class=\"data row35 col1\" >0.020000</td>\n",
       "            </tr>\n",
       "            <tr>\n",
       "                        <th id=\"T_4a48ce92_0beb_11eb_96a0_acde48001122level0_row36\" class=\"row_heading level0 row36\" >67</th>\n",
       "                        <td id=\"T_4a48ce92_0beb_11eb_96a0_acde48001122row36_col0\" class=\"data row36 col0\" >t_weapon_fiveseven</td>\n",
       "                        <td id=\"T_4a48ce92_0beb_11eb_96a0_acde48001122row36_col1\" class=\"data row36 col1\" >0.020000</td>\n",
       "            </tr>\n",
       "            <tr>\n",
       "                        <th id=\"T_4a48ce92_0beb_11eb_96a0_acde48001122level0_row37\" class=\"row_heading level0 row37\" >39</th>\n",
       "                        <td id=\"T_4a48ce92_0beb_11eb_96a0_acde48001122row37_col0\" class=\"data row37 col0\" >ct_weapon_mag7</td>\n",
       "                        <td id=\"T_4a48ce92_0beb_11eb_96a0_acde48001122row37_col1\" class=\"data row37 col1\" >0.020000</td>\n",
       "            </tr>\n",
       "            <tr>\n",
       "                        <th id=\"T_4a48ce92_0beb_11eb_96a0_acde48001122level0_row38\" class=\"row_heading level0 row38\" >48</th>\n",
       "                        <td id=\"T_4a48ce92_0beb_11eb_96a0_acde48001122row38_col0\" class=\"data row38 col0\" >ct_weapon_nova</td>\n",
       "                        <td id=\"T_4a48ce92_0beb_11eb_96a0_acde48001122row38_col1\" class=\"data row38 col1\" >0.020000</td>\n",
       "            </tr>\n",
       "            <tr>\n",
       "                        <th id=\"T_4a48ce92_0beb_11eb_96a0_acde48001122level0_row39\" class=\"row_heading level0 row39\" >59</th>\n",
       "                        <td id=\"T_4a48ce92_0beb_11eb_96a0_acde48001122row39_col0\" class=\"data row39 col0\" >t_weapon_ssg08</td>\n",
       "                        <td id=\"T_4a48ce92_0beb_11eb_96a0_acde48001122row39_col1\" class=\"data row39 col1\" >0.020000</td>\n",
       "            </tr>\n",
       "            <tr>\n",
       "                        <th id=\"T_4a48ce92_0beb_11eb_96a0_acde48001122level0_row40\" class=\"row_heading level0 row40\" >119</th>\n",
       "                        <td id=\"T_4a48ce92_0beb_11eb_96a0_acde48001122row40_col0\" class=\"data row40 col0\" >t_money_cat_value_midlow</td>\n",
       "                        <td id=\"T_4a48ce92_0beb_11eb_96a0_acde48001122row40_col1\" class=\"data row40 col1\" >0.020000</td>\n",
       "            </tr>\n",
       "            <tr>\n",
       "                        <th id=\"T_4a48ce92_0beb_11eb_96a0_acde48001122level0_row41\" class=\"row_heading level0 row41\" >97</th>\n",
       "                        <td id=\"T_4a48ce92_0beb_11eb_96a0_acde48001122row41_col0\" class=\"data row41 col0\" >ct_shotgun</td>\n",
       "                        <td id=\"T_4a48ce92_0beb_11eb_96a0_acde48001122row41_col1\" class=\"data row41 col1\" >0.020000</td>\n",
       "            </tr>\n",
       "            <tr>\n",
       "                        <th id=\"T_4a48ce92_0beb_11eb_96a0_acde48001122level0_row42\" class=\"row_heading level0 row42\" >24</th>\n",
       "                        <td id=\"T_4a48ce92_0beb_11eb_96a0_acde48001122row42_col0\" class=\"data row42 col0\" >ct_weapon_elite</td>\n",
       "                        <td id=\"T_4a48ce92_0beb_11eb_96a0_acde48001122row42_col1\" class=\"data row42 col1\" >0.020000</td>\n",
       "            </tr>\n",
       "            <tr>\n",
       "                        <th id=\"T_4a48ce92_0beb_11eb_96a0_acde48001122level0_row43\" class=\"row_heading level0 row43\" >29</th>\n",
       "                        <td id=\"T_4a48ce92_0beb_11eb_96a0_acde48001122row43_col0\" class=\"data row43 col0\" >ct_weapon_galilar</td>\n",
       "                        <td id=\"T_4a48ce92_0beb_11eb_96a0_acde48001122row43_col1\" class=\"data row43 col1\" >0.020000</td>\n",
       "            </tr>\n",
       "            <tr>\n",
       "                        <th id=\"T_4a48ce92_0beb_11eb_96a0_acde48001122level0_row44\" class=\"row_heading level0 row44\" >50</th>\n",
       "                        <td id=\"T_4a48ce92_0beb_11eb_96a0_acde48001122row44_col0\" class=\"data row44 col0\" >ct_weapon_p90</td>\n",
       "                        <td id=\"T_4a48ce92_0beb_11eb_96a0_acde48001122row44_col1\" class=\"data row44 col1\" >0.020000</td>\n",
       "            </tr>\n",
       "            <tr>\n",
       "                        <th id=\"T_4a48ce92_0beb_11eb_96a0_acde48001122level0_row45\" class=\"row_heading level0 row45\" >60</th>\n",
       "                        <td id=\"T_4a48ce92_0beb_11eb_96a0_acde48001122row45_col0\" class=\"data row45 col0\" >ct_weapon_ump45</td>\n",
       "                        <td id=\"T_4a48ce92_0beb_11eb_96a0_acde48001122row45_col1\" class=\"data row45 col1\" >0.010000</td>\n",
       "            </tr>\n",
       "            <tr>\n",
       "                        <th id=\"T_4a48ce92_0beb_11eb_96a0_acde48001122level0_row46\" class=\"row_heading level0 row46\" >49</th>\n",
       "                        <td id=\"T_4a48ce92_0beb_11eb_96a0_acde48001122row46_col0\" class=\"data row46 col0\" >t_weapon_nova</td>\n",
       "                        <td id=\"T_4a48ce92_0beb_11eb_96a0_acde48001122row46_col1\" class=\"data row46 col1\" >0.010000</td>\n",
       "            </tr>\n",
       "            <tr>\n",
       "                        <th id=\"T_4a48ce92_0beb_11eb_96a0_acde48001122level0_row47\" class=\"row_heading level0 row47\" >62</th>\n",
       "                        <td id=\"T_4a48ce92_0beb_11eb_96a0_acde48001122row47_col0\" class=\"data row47 col0\" >ct_weapon_xm1014</td>\n",
       "                        <td id=\"T_4a48ce92_0beb_11eb_96a0_acde48001122row47_col1\" class=\"data row47 col1\" >0.010000</td>\n",
       "            </tr>\n",
       "            <tr>\n",
       "                        <th id=\"T_4a48ce92_0beb_11eb_96a0_acde48001122level0_row48\" class=\"row_heading level0 row48\" >63</th>\n",
       "                        <td id=\"T_4a48ce92_0beb_11eb_96a0_acde48001122row48_col0\" class=\"data row48 col0\" >t_weapon_xm1014</td>\n",
       "                        <td id=\"T_4a48ce92_0beb_11eb_96a0_acde48001122row48_col1\" class=\"data row48 col1\" >0.010000</td>\n",
       "            </tr>\n",
       "            <tr>\n",
       "                        <th id=\"T_4a48ce92_0beb_11eb_96a0_acde48001122level0_row49\" class=\"row_heading level0 row49\" >37</th>\n",
       "                        <td id=\"T_4a48ce92_0beb_11eb_96a0_acde48001122row49_col0\" class=\"data row49 col0\" >ct_weapon_mac10</td>\n",
       "                        <td id=\"T_4a48ce92_0beb_11eb_96a0_acde48001122row49_col1\" class=\"data row49 col1\" >0.010000</td>\n",
       "            </tr>\n",
       "            <tr>\n",
       "                        <th id=\"T_4a48ce92_0beb_11eb_96a0_acde48001122level0_row50\" class=\"row_heading level0 row50\" >44</th>\n",
       "                        <td id=\"T_4a48ce92_0beb_11eb_96a0_acde48001122row50_col0\" class=\"data row50 col0\" >t_weapon_mp7</td>\n",
       "                        <td id=\"T_4a48ce92_0beb_11eb_96a0_acde48001122row50_col1\" class=\"data row50 col1\" >0.010000</td>\n",
       "            </tr>\n",
       "            <tr>\n",
       "                        <th id=\"T_4a48ce92_0beb_11eb_96a0_acde48001122level0_row51\" class=\"row_heading level0 row51\" >124</th>\n",
       "                        <td id=\"T_4a48ce92_0beb_11eb_96a0_acde48001122row51_col0\" class=\"data row51 col0\" >ct_money_cat_value_midhigh</td>\n",
       "                        <td id=\"T_4a48ce92_0beb_11eb_96a0_acde48001122row51_col1\" class=\"data row51 col1\" >0.010000</td>\n",
       "            </tr>\n",
       "            <tr>\n",
       "                        <th id=\"T_4a48ce92_0beb_11eb_96a0_acde48001122level0_row52\" class=\"row_heading level0 row52\" >83</th>\n",
       "                        <td id=\"T_4a48ce92_0beb_11eb_96a0_acde48001122row52_col0\" class=\"data row52 col0\" >t_grenade_incendiarygrenade</td>\n",
       "                        <td id=\"T_4a48ce92_0beb_11eb_96a0_acde48001122row52_col1\" class=\"data row52 col1\" >0.010000</td>\n",
       "            </tr>\n",
       "            <tr>\n",
       "                        <th id=\"T_4a48ce92_0beb_11eb_96a0_acde48001122level0_row53\" class=\"row_heading level0 row53\" >88</th>\n",
       "                        <td id=\"T_4a48ce92_0beb_11eb_96a0_acde48001122row53_col0\" class=\"data row53 col0\" >t_pistols</td>\n",
       "                        <td id=\"T_4a48ce92_0beb_11eb_96a0_acde48001122row53_col1\" class=\"data row53 col1\" >0.010000</td>\n",
       "            </tr>\n",
       "            <tr>\n",
       "                        <th id=\"T_4a48ce92_0beb_11eb_96a0_acde48001122level0_row54\" class=\"row_heading level0 row54\" >78</th>\n",
       "                        <td id=\"T_4a48ce92_0beb_11eb_96a0_acde48001122row54_col0\" class=\"data row54 col0\" >ct_grenade_flashbang</td>\n",
       "                        <td id=\"T_4a48ce92_0beb_11eb_96a0_acde48001122row54_col1\" class=\"data row54 col1\" >0.000000</td>\n",
       "            </tr>\n",
       "            <tr>\n",
       "                        <th id=\"T_4a48ce92_0beb_11eb_96a0_acde48001122level0_row55\" class=\"row_heading level0 row55\" >86</th>\n",
       "                        <td id=\"T_4a48ce92_0beb_11eb_96a0_acde48001122row55_col0\" class=\"data row55 col0\" >ct_grenade_decoygrenade</td>\n",
       "                        <td id=\"T_4a48ce92_0beb_11eb_96a0_acde48001122row55_col1\" class=\"data row55 col1\" >0.000000</td>\n",
       "            </tr>\n",
       "            <tr>\n",
       "                        <th id=\"T_4a48ce92_0beb_11eb_96a0_acde48001122level0_row56\" class=\"row_heading level0 row56\" >96</th>\n",
       "                        <td id=\"T_4a48ce92_0beb_11eb_96a0_acde48001122row56_col0\" class=\"data row56 col0\" >t_shotgun</td>\n",
       "                        <td id=\"T_4a48ce92_0beb_11eb_96a0_acde48001122row56_col1\" class=\"data row56 col1\" >0.000000</td>\n",
       "            </tr>\n",
       "            <tr>\n",
       "                        <th id=\"T_4a48ce92_0beb_11eb_96a0_acde48001122level0_row57\" class=\"row_heading level0 row57\" >107</th>\n",
       "                        <td id=\"T_4a48ce92_0beb_11eb_96a0_acde48001122row57_col0\" class=\"data row57 col0\" >round_count</td>\n",
       "                        <td id=\"T_4a48ce92_0beb_11eb_96a0_acde48001122row57_col1\" class=\"data row57 col1\" >0.000000</td>\n",
       "            </tr>\n",
       "            <tr>\n",
       "                        <th id=\"T_4a48ce92_0beb_11eb_96a0_acde48001122level0_row58\" class=\"row_heading level0 row58\" >122</th>\n",
       "                        <td id=\"T_4a48ce92_0beb_11eb_96a0_acde48001122row58_col0\" class=\"data row58 col0\" >ct_money_cat_value_low</td>\n",
       "                        <td id=\"T_4a48ce92_0beb_11eb_96a0_acde48001122row58_col1\" class=\"data row58 col1\" >0.000000</td>\n",
       "            </tr>\n",
       "            <tr>\n",
       "                        <th id=\"T_4a48ce92_0beb_11eb_96a0_acde48001122level0_row59\" class=\"row_heading level0 row59\" >46</th>\n",
       "                        <td id=\"T_4a48ce92_0beb_11eb_96a0_acde48001122row59_col0\" class=\"data row59 col0\" >t_weapon_mp9</td>\n",
       "                        <td id=\"T_4a48ce92_0beb_11eb_96a0_acde48001122row59_col1\" class=\"data row59 col1\" >-0.000000</td>\n",
       "            </tr>\n",
       "            <tr>\n",
       "                        <th id=\"T_4a48ce92_0beb_11eb_96a0_acde48001122level0_row60\" class=\"row_heading level0 row60\" >21</th>\n",
       "                        <td id=\"T_4a48ce92_0beb_11eb_96a0_acde48001122row60_col0\" class=\"data row60 col0\" >t_weapon_bizon</td>\n",
       "                        <td id=\"T_4a48ce92_0beb_11eb_96a0_acde48001122row60_col1\" class=\"data row60 col1\" >0.000000</td>\n",
       "            </tr>\n",
       "            <tr>\n",
       "                        <th id=\"T_4a48ce92_0beb_11eb_96a0_acde48001122level0_row61\" class=\"row_heading level0 row61\" >12</th>\n",
       "                        <td id=\"T_4a48ce92_0beb_11eb_96a0_acde48001122row61_col0\" class=\"data row61 col0\" >ct_defuse_kits</td>\n",
       "                        <td id=\"T_4a48ce92_0beb_11eb_96a0_acde48001122row61_col1\" class=\"data row61 col1\" >-0.000000</td>\n",
       "            </tr>\n",
       "            <tr>\n",
       "                        <th id=\"T_4a48ce92_0beb_11eb_96a0_acde48001122level0_row62\" class=\"row_heading level0 row62\" >28</th>\n",
       "                        <td id=\"T_4a48ce92_0beb_11eb_96a0_acde48001122row62_col0\" class=\"data row62 col0\" >t_weapon_g3sg1</td>\n",
       "                        <td id=\"T_4a48ce92_0beb_11eb_96a0_acde48001122row62_col1\" class=\"data row62 col1\" >-0.000000</td>\n",
       "            </tr>\n",
       "            <tr>\n",
       "                        <th id=\"T_4a48ce92_0beb_11eb_96a0_acde48001122level0_row63\" class=\"row_heading level0 row63\" >41</th>\n",
       "                        <td id=\"T_4a48ce92_0beb_11eb_96a0_acde48001122row63_col0\" class=\"data row63 col0\" >ct_weapon_mp5sd</td>\n",
       "                        <td id=\"T_4a48ce92_0beb_11eb_96a0_acde48001122row63_col1\" class=\"data row63 col1\" >0.000000</td>\n",
       "            </tr>\n",
       "            <tr>\n",
       "                        <th id=\"T_4a48ce92_0beb_11eb_96a0_acde48001122level0_row64\" class=\"row_heading level0 row64\" >55</th>\n",
       "                        <td id=\"T_4a48ce92_0beb_11eb_96a0_acde48001122row64_col0\" class=\"data row64 col0\" >t_weapon_scar20</td>\n",
       "                        <td id=\"T_4a48ce92_0beb_11eb_96a0_acde48001122row64_col1\" class=\"data row64 col1\" >0.000000</td>\n",
       "            </tr>\n",
       "            <tr>\n",
       "                        <th id=\"T_4a48ce92_0beb_11eb_96a0_acde48001122level0_row65\" class=\"row_heading level0 row65\" >10</th>\n",
       "                        <td id=\"T_4a48ce92_0beb_11eb_96a0_acde48001122row65_col0\" class=\"data row65 col0\" >ct_helmets</td>\n",
       "                        <td id=\"T_4a48ce92_0beb_11eb_96a0_acde48001122row65_col1\" class=\"data row65 col1\" >0.000000</td>\n",
       "            </tr>\n",
       "            <tr>\n",
       "                        <th id=\"T_4a48ce92_0beb_11eb_96a0_acde48001122level0_row66\" class=\"row_heading level0 row66\" >74</th>\n",
       "                        <td id=\"T_4a48ce92_0beb_11eb_96a0_acde48001122row66_col0\" class=\"data row66 col0\" >ct_weapon_tec9</td>\n",
       "                        <td id=\"T_4a48ce92_0beb_11eb_96a0_acde48001122row66_col1\" class=\"data row66 col1\" >-0.010000</td>\n",
       "            </tr>\n",
       "            <tr>\n",
       "                        <th id=\"T_4a48ce92_0beb_11eb_96a0_acde48001122level0_row67\" class=\"row_heading level0 row67\" >123</th>\n",
       "                        <td id=\"T_4a48ce92_0beb_11eb_96a0_acde48001122row67_col0\" class=\"data row67 col0\" >ct_money_cat_value_midlow</td>\n",
       "                        <td id=\"T_4a48ce92_0beb_11eb_96a0_acde48001122row67_col1\" class=\"data row67 col1\" >-0.010000</td>\n",
       "            </tr>\n",
       "            <tr>\n",
       "                        <th id=\"T_4a48ce92_0beb_11eb_96a0_acde48001122level0_row68\" class=\"row_heading level0 row68\" >18</th>\n",
       "                        <td id=\"T_4a48ce92_0beb_11eb_96a0_acde48001122row68_col0\" class=\"data row68 col0\" >t_weapon_aug</td>\n",
       "                        <td id=\"T_4a48ce92_0beb_11eb_96a0_acde48001122row68_col1\" class=\"data row68 col1\" >-0.010000</td>\n",
       "            </tr>\n",
       "            <tr>\n",
       "                        <th id=\"T_4a48ce92_0beb_11eb_96a0_acde48001122level0_row69\" class=\"row_heading level0 row69\" >121</th>\n",
       "                        <td id=\"T_4a48ce92_0beb_11eb_96a0_acde48001122row69_col0\" class=\"data row69 col0\" >t_money_cat_value_high</td>\n",
       "                        <td id=\"T_4a48ce92_0beb_11eb_96a0_acde48001122row69_col1\" class=\"data row69 col1\" >-0.010000</td>\n",
       "            </tr>\n",
       "            <tr>\n",
       "                        <th id=\"T_4a48ce92_0beb_11eb_96a0_acde48001122level0_row70\" class=\"row_heading level0 row70\" >89</th>\n",
       "                        <td id=\"T_4a48ce92_0beb_11eb_96a0_acde48001122row70_col0\" class=\"data row70 col0\" >ct_pistols</td>\n",
       "                        <td id=\"T_4a48ce92_0beb_11eb_96a0_acde48001122row70_col1\" class=\"data row70 col1\" >-0.010000</td>\n",
       "            </tr>\n",
       "            <tr>\n",
       "                        <th id=\"T_4a48ce92_0beb_11eb_96a0_acde48001122level0_row71\" class=\"row_heading level0 row71\" >84</th>\n",
       "                        <td id=\"T_4a48ce92_0beb_11eb_96a0_acde48001122row71_col0\" class=\"data row71 col0\" >ct_grenade_molotovgrenade</td>\n",
       "                        <td id=\"T_4a48ce92_0beb_11eb_96a0_acde48001122row71_col1\" class=\"data row71 col1\" >-0.010000</td>\n",
       "            </tr>\n",
       "            <tr>\n",
       "                        <th id=\"T_4a48ce92_0beb_11eb_96a0_acde48001122level0_row72\" class=\"row_heading level0 row72\" >115</th>\n",
       "                        <td id=\"T_4a48ce92_0beb_11eb_96a0_acde48001122row72_col0\" class=\"data row72 col0\" >map_value_de_train</td>\n",
       "                        <td id=\"T_4a48ce92_0beb_11eb_96a0_acde48001122row72_col1\" class=\"data row72 col1\" >-0.010000</td>\n",
       "            </tr>\n",
       "            <tr>\n",
       "                        <th id=\"T_4a48ce92_0beb_11eb_96a0_acde48001122level0_row73\" class=\"row_heading level0 row73\" >76</th>\n",
       "                        <td id=\"T_4a48ce92_0beb_11eb_96a0_acde48001122row73_col0\" class=\"data row73 col0\" >ct_grenade_hegrenade</td>\n",
       "                        <td id=\"T_4a48ce92_0beb_11eb_96a0_acde48001122row73_col1\" class=\"data row73 col1\" >-0.010000</td>\n",
       "            </tr>\n",
       "            <tr>\n",
       "                        <th id=\"T_4a48ce92_0beb_11eb_96a0_acde48001122level0_row74\" class=\"row_heading level0 row74\" >101</th>\n",
       "                        <td id=\"T_4a48ce92_0beb_11eb_96a0_acde48001122row74_col0\" class=\"data row74 col0\" >t_all_assaults</td>\n",
       "                        <td id=\"T_4a48ce92_0beb_11eb_96a0_acde48001122row74_col1\" class=\"data row74 col1\" >-0.010000</td>\n",
       "            </tr>\n",
       "            <tr>\n",
       "                        <th id=\"T_4a48ce92_0beb_11eb_96a0_acde48001122level0_row75\" class=\"row_heading level0 row75\" >53</th>\n",
       "                        <td id=\"T_4a48ce92_0beb_11eb_96a0_acde48001122row75_col0\" class=\"data row75 col0\" >t_weapon_sawedoff</td>\n",
       "                        <td id=\"T_4a48ce92_0beb_11eb_96a0_acde48001122row75_col1\" class=\"data row75 col1\" >-0.010000</td>\n",
       "            </tr>\n",
       "            <tr>\n",
       "                        <th id=\"T_4a48ce92_0beb_11eb_96a0_acde48001122level0_row76\" class=\"row_heading level0 row76\" >43</th>\n",
       "                        <td id=\"T_4a48ce92_0beb_11eb_96a0_acde48001122row76_col0\" class=\"data row76 col0\" >ct_weapon_mp7</td>\n",
       "                        <td id=\"T_4a48ce92_0beb_11eb_96a0_acde48001122row76_col1\" class=\"data row76 col1\" >-0.010000</td>\n",
       "            </tr>\n",
       "            <tr>\n",
       "                        <th id=\"T_4a48ce92_0beb_11eb_96a0_acde48001122level0_row77\" class=\"row_heading level0 row77\" >71</th>\n",
       "                        <td id=\"T_4a48ce92_0beb_11eb_96a0_acde48001122row77_col0\" class=\"data row77 col0\" >t_weapon_p250</td>\n",
       "                        <td id=\"T_4a48ce92_0beb_11eb_96a0_acde48001122row77_col1\" class=\"data row77 col1\" >-0.010000</td>\n",
       "            </tr>\n",
       "            <tr>\n",
       "                        <th id=\"T_4a48ce92_0beb_11eb_96a0_acde48001122level0_row78\" class=\"row_heading level0 row78\" >100</th>\n",
       "                        <td id=\"T_4a48ce92_0beb_11eb_96a0_acde48001122row78_col0\" class=\"data row78 col0\" >ct_all_weapons</td>\n",
       "                        <td id=\"T_4a48ce92_0beb_11eb_96a0_acde48001122row78_col1\" class=\"data row78 col1\" >-0.010000</td>\n",
       "            </tr>\n",
       "            <tr>\n",
       "                        <th id=\"T_4a48ce92_0beb_11eb_96a0_acde48001122level0_row79\" class=\"row_heading level0 row79\" >66</th>\n",
       "                        <td id=\"T_4a48ce92_0beb_11eb_96a0_acde48001122row79_col0\" class=\"data row79 col0\" >ct_weapon_fiveseven</td>\n",
       "                        <td id=\"T_4a48ce92_0beb_11eb_96a0_acde48001122row79_col1\" class=\"data row79 col1\" >-0.010000</td>\n",
       "            </tr>\n",
       "            <tr>\n",
       "                        <th id=\"T_4a48ce92_0beb_11eb_96a0_acde48001122level0_row80\" class=\"row_heading level0 row80\" >73</th>\n",
       "                        <td id=\"T_4a48ce92_0beb_11eb_96a0_acde48001122row80_col0\" class=\"data row80 col0\" >t_weapon_p2000</td>\n",
       "                        <td id=\"T_4a48ce92_0beb_11eb_96a0_acde48001122row80_col1\" class=\"data row80 col1\" >-0.020000</td>\n",
       "            </tr>\n",
       "            <tr>\n",
       "                        <th id=\"T_4a48ce92_0beb_11eb_96a0_acde48001122level0_row81\" class=\"row_heading level0 row81\" >54</th>\n",
       "                        <td id=\"T_4a48ce92_0beb_11eb_96a0_acde48001122row81_col0\" class=\"data row81 col0\" >ct_weapon_scar20</td>\n",
       "                        <td id=\"T_4a48ce92_0beb_11eb_96a0_acde48001122row81_col1\" class=\"data row81 col1\" >-0.020000</td>\n",
       "            </tr>\n",
       "            <tr>\n",
       "                        <th id=\"T_4a48ce92_0beb_11eb_96a0_acde48001122level0_row82\" class=\"row_heading level0 row82\" >2</th>\n",
       "                        <td id=\"T_4a48ce92_0beb_11eb_96a0_acde48001122row82_col0\" class=\"data row82 col0\" >t_score</td>\n",
       "                        <td id=\"T_4a48ce92_0beb_11eb_96a0_acde48001122row82_col1\" class=\"data row82 col1\" >-0.020000</td>\n",
       "            </tr>\n",
       "            <tr>\n",
       "                        <th id=\"T_4a48ce92_0beb_11eb_96a0_acde48001122level0_row83\" class=\"row_heading level0 row83\" >51</th>\n",
       "                        <td id=\"T_4a48ce92_0beb_11eb_96a0_acde48001122row83_col0\" class=\"data row83 col0\" >t_weapon_p90</td>\n",
       "                        <td id=\"T_4a48ce92_0beb_11eb_96a0_acde48001122row83_col1\" class=\"data row83 col1\" >-0.020000</td>\n",
       "            </tr>\n",
       "            <tr>\n",
       "                        <th id=\"T_4a48ce92_0beb_11eb_96a0_acde48001122level0_row84\" class=\"row_heading level0 row84\" >25</th>\n",
       "                        <td id=\"T_4a48ce92_0beb_11eb_96a0_acde48001122row84_col0\" class=\"data row84 col0\" >t_weapon_elite</td>\n",
       "                        <td id=\"T_4a48ce92_0beb_11eb_96a0_acde48001122row84_col1\" class=\"data row84 col1\" >-0.020000</td>\n",
       "            </tr>\n",
       "            <tr>\n",
       "                        <th id=\"T_4a48ce92_0beb_11eb_96a0_acde48001122level0_row85\" class=\"row_heading level0 row85\" >68</th>\n",
       "                        <td id=\"T_4a48ce92_0beb_11eb_96a0_acde48001122row85_col0\" class=\"data row85 col0\" >ct_weapon_usps</td>\n",
       "                        <td id=\"T_4a48ce92_0beb_11eb_96a0_acde48001122row85_col1\" class=\"data row85 col1\" >-0.020000</td>\n",
       "            </tr>\n",
       "            <tr>\n",
       "                        <th id=\"T_4a48ce92_0beb_11eb_96a0_acde48001122level0_row86\" class=\"row_heading level0 row86\" >40</th>\n",
       "                        <td id=\"T_4a48ce92_0beb_11eb_96a0_acde48001122row86_col0\" class=\"data row86 col0\" >t_weapon_mag7</td>\n",
       "                        <td id=\"T_4a48ce92_0beb_11eb_96a0_acde48001122row86_col1\" class=\"data row86 col1\" >-0.020000</td>\n",
       "            </tr>\n",
       "            <tr>\n",
       "                        <th id=\"T_4a48ce92_0beb_11eb_96a0_acde48001122level0_row87\" class=\"row_heading level0 row87\" >30</th>\n",
       "                        <td id=\"T_4a48ce92_0beb_11eb_96a0_acde48001122row87_col0\" class=\"data row87 col0\" >t_weapon_galilar</td>\n",
       "                        <td id=\"T_4a48ce92_0beb_11eb_96a0_acde48001122row87_col1\" class=\"data row87 col1\" >-0.020000</td>\n",
       "            </tr>\n",
       "            <tr>\n",
       "                        <th id=\"T_4a48ce92_0beb_11eb_96a0_acde48001122level0_row88\" class=\"row_heading level0 row88\" >36</th>\n",
       "                        <td id=\"T_4a48ce92_0beb_11eb_96a0_acde48001122row88_col0\" class=\"data row88 col0\" >t_weapon_m4a4</td>\n",
       "                        <td id=\"T_4a48ce92_0beb_11eb_96a0_acde48001122row88_col1\" class=\"data row88 col1\" >-0.020000</td>\n",
       "            </tr>\n",
       "            <tr>\n",
       "                        <th id=\"T_4a48ce92_0beb_11eb_96a0_acde48001122level0_row89\" class=\"row_heading level0 row89\" >127</th>\n",
       "                        <td id=\"T_4a48ce92_0beb_11eb_96a0_acde48001122row89_col0\" class=\"data row89 col0\" >time_quarter_value_Q2</td>\n",
       "                        <td id=\"T_4a48ce92_0beb_11eb_96a0_acde48001122row89_col1\" class=\"data row89 col1\" >-0.020000</td>\n",
       "            </tr>\n",
       "            <tr>\n",
       "                        <th id=\"T_4a48ce92_0beb_11eb_96a0_acde48001122level0_row90\" class=\"row_heading level0 row90\" >77</th>\n",
       "                        <td id=\"T_4a48ce92_0beb_11eb_96a0_acde48001122row90_col0\" class=\"data row90 col0\" >t_grenade_hegrenade</td>\n",
       "                        <td id=\"T_4a48ce92_0beb_11eb_96a0_acde48001122row90_col1\" class=\"data row90 col1\" >-0.020000</td>\n",
       "            </tr>\n",
       "            <tr>\n",
       "                        <th id=\"T_4a48ce92_0beb_11eb_96a0_acde48001122level0_row91\" class=\"row_heading level0 row91\" >111</th>\n",
       "                        <td id=\"T_4a48ce92_0beb_11eb_96a0_acde48001122row91_col0\" class=\"data row91 col0\" >map_value_de_dust2</td>\n",
       "                        <td id=\"T_4a48ce92_0beb_11eb_96a0_acde48001122row91_col1\" class=\"data row91 col1\" >-0.020000</td>\n",
       "            </tr>\n",
       "            <tr>\n",
       "                        <th id=\"T_4a48ce92_0beb_11eb_96a0_acde48001122level0_row92\" class=\"row_heading level0 row92\" >129</th>\n",
       "                        <td id=\"T_4a48ce92_0beb_11eb_96a0_acde48001122row92_col0\" class=\"data row92 col0\" >time_quarter_value_Q3</td>\n",
       "                        <td id=\"T_4a48ce92_0beb_11eb_96a0_acde48001122row92_col1\" class=\"data row92 col1\" >-0.020000</td>\n",
       "            </tr>\n",
       "            <tr>\n",
       "                        <th id=\"T_4a48ce92_0beb_11eb_96a0_acde48001122level0_row93\" class=\"row_heading level0 row93\" >128</th>\n",
       "                        <td id=\"T_4a48ce92_0beb_11eb_96a0_acde48001122row93_col0\" class=\"data row93 col0\" >time_quarter_value_Q4</td>\n",
       "                        <td id=\"T_4a48ce92_0beb_11eb_96a0_acde48001122row93_col1\" class=\"data row93 col1\" >-0.030000</td>\n",
       "            </tr>\n",
       "            <tr>\n",
       "                        <th id=\"T_4a48ce92_0beb_11eb_96a0_acde48001122level0_row94\" class=\"row_heading level0 row94\" >31</th>\n",
       "                        <td id=\"T_4a48ce92_0beb_11eb_96a0_acde48001122row94_col0\" class=\"data row94 col0\" >ct_weapon_glock</td>\n",
       "                        <td id=\"T_4a48ce92_0beb_11eb_96a0_acde48001122row94_col1\" class=\"data row94 col1\" >-0.030000</td>\n",
       "            </tr>\n",
       "            <tr>\n",
       "                        <th id=\"T_4a48ce92_0beb_11eb_96a0_acde48001122level0_row95\" class=\"row_heading level0 row95\" >92</th>\n",
       "                        <td id=\"T_4a48ce92_0beb_11eb_96a0_acde48001122row95_col0\" class=\"data row95 col0\" >t_smg</td>\n",
       "                        <td id=\"T_4a48ce92_0beb_11eb_96a0_acde48001122row95_col1\" class=\"data row95 col1\" >-0.030000</td>\n",
       "            </tr>\n",
       "            <tr>\n",
       "                        <th id=\"T_4a48ce92_0beb_11eb_96a0_acde48001122level0_row96\" class=\"row_heading level0 row96\" >23</th>\n",
       "                        <td id=\"T_4a48ce92_0beb_11eb_96a0_acde48001122row96_col0\" class=\"data row96 col0\" >t_weapon_cz75auto</td>\n",
       "                        <td id=\"T_4a48ce92_0beb_11eb_96a0_acde48001122row96_col1\" class=\"data row96 col1\" >-0.030000</td>\n",
       "            </tr>\n",
       "            <tr>\n",
       "                        <th id=\"T_4a48ce92_0beb_11eb_96a0_acde48001122level0_row97\" class=\"row_heading level0 row97\" >38</th>\n",
       "                        <td id=\"T_4a48ce92_0beb_11eb_96a0_acde48001122row97_col0\" class=\"data row97 col0\" >t_weapon_mac10</td>\n",
       "                        <td id=\"T_4a48ce92_0beb_11eb_96a0_acde48001122row97_col1\" class=\"data row97 col1\" >-0.030000</td>\n",
       "            </tr>\n",
       "            <tr>\n",
       "                        <th id=\"T_4a48ce92_0beb_11eb_96a0_acde48001122level0_row98\" class=\"row_heading level0 row98\" >72</th>\n",
       "                        <td id=\"T_4a48ce92_0beb_11eb_96a0_acde48001122row98_col0\" class=\"data row98 col0\" >ct_weapon_p2000</td>\n",
       "                        <td id=\"T_4a48ce92_0beb_11eb_96a0_acde48001122row98_col1\" class=\"data row98 col1\" >-0.030000</td>\n",
       "            </tr>\n",
       "            <tr>\n",
       "                        <th id=\"T_4a48ce92_0beb_11eb_96a0_acde48001122level0_row99\" class=\"row_heading level0 row99\" >70</th>\n",
       "                        <td id=\"T_4a48ce92_0beb_11eb_96a0_acde48001122row99_col0\" class=\"data row99 col0\" >ct_weapon_p250</td>\n",
       "                        <td id=\"T_4a48ce92_0beb_11eb_96a0_acde48001122row99_col1\" class=\"data row99 col1\" >-0.030000</td>\n",
       "            </tr>\n",
       "            <tr>\n",
       "                        <th id=\"T_4a48ce92_0beb_11eb_96a0_acde48001122level0_row100\" class=\"row_heading level0 row100\" >42</th>\n",
       "                        <td id=\"T_4a48ce92_0beb_11eb_96a0_acde48001122row100_col0\" class=\"data row100 col0\" >t_weapon_mp5sd</td>\n",
       "                        <td id=\"T_4a48ce92_0beb_11eb_96a0_acde48001122row100_col1\" class=\"data row100 col1\" >-0.030000</td>\n",
       "            </tr>\n",
       "            <tr>\n",
       "                        <th id=\"T_4a48ce92_0beb_11eb_96a0_acde48001122level0_row101\" class=\"row_heading level0 row101\" >61</th>\n",
       "                        <td id=\"T_4a48ce92_0beb_11eb_96a0_acde48001122row101_col0\" class=\"data row101 col0\" >t_weapon_ump45</td>\n",
       "                        <td id=\"T_4a48ce92_0beb_11eb_96a0_acde48001122row101_col1\" class=\"data row101 col1\" >-0.030000</td>\n",
       "            </tr>\n",
       "            <tr>\n",
       "                        <th id=\"T_4a48ce92_0beb_11eb_96a0_acde48001122level0_row102\" class=\"row_heading level0 row102\" >116</th>\n",
       "                        <td id=\"T_4a48ce92_0beb_11eb_96a0_acde48001122row102_col0\" class=\"data row102 col0\" >map_value_de_vertigo</td>\n",
       "                        <td id=\"T_4a48ce92_0beb_11eb_96a0_acde48001122row102_col1\" class=\"data row102 col1\" >-0.040000</td>\n",
       "            </tr>\n",
       "            <tr>\n",
       "                        <th id=\"T_4a48ce92_0beb_11eb_96a0_acde48001122level0_row103\" class=\"row_heading level0 row103\" >118</th>\n",
       "                        <td id=\"T_4a48ce92_0beb_11eb_96a0_acde48001122row103_col0\" class=\"data row103 col0\" >t_money_cat_value_low</td>\n",
       "                        <td id=\"T_4a48ce92_0beb_11eb_96a0_acde48001122row103_col1\" class=\"data row103 col1\" >-0.040000</td>\n",
       "            </tr>\n",
       "            <tr>\n",
       "                        <th id=\"T_4a48ce92_0beb_11eb_96a0_acde48001122level0_row104\" class=\"row_heading level0 row104\" >0</th>\n",
       "                        <td id=\"T_4a48ce92_0beb_11eb_96a0_acde48001122row104_col0\" class=\"data row104 col0\" >time_left</td>\n",
       "                        <td id=\"T_4a48ce92_0beb_11eb_96a0_acde48001122row104_col1\" class=\"data row104 col1\" >-0.040000</td>\n",
       "            </tr>\n",
       "            <tr>\n",
       "                        <th id=\"T_4a48ce92_0beb_11eb_96a0_acde48001122level0_row105\" class=\"row_heading level0 row105\" >65</th>\n",
       "                        <td id=\"T_4a48ce92_0beb_11eb_96a0_acde48001122row105_col0\" class=\"data row105 col0\" >t_weapon_deagle</td>\n",
       "                        <td id=\"T_4a48ce92_0beb_11eb_96a0_acde48001122row105_col1\" class=\"data row105 col1\" >-0.040000</td>\n",
       "            </tr>\n",
       "            <tr>\n",
       "                        <th id=\"T_4a48ce92_0beb_11eb_96a0_acde48001122level0_row106\" class=\"row_heading level0 row106\" >87</th>\n",
       "                        <td id=\"T_4a48ce92_0beb_11eb_96a0_acde48001122row106_col0\" class=\"data row106 col0\" >t_grenade_decoygrenade</td>\n",
       "                        <td id=\"T_4a48ce92_0beb_11eb_96a0_acde48001122row106_col1\" class=\"data row106 col1\" >-0.040000</td>\n",
       "            </tr>\n",
       "            <tr>\n",
       "                        <th id=\"T_4a48ce92_0beb_11eb_96a0_acde48001122level0_row107\" class=\"row_heading level0 row107\" >27</th>\n",
       "                        <td id=\"T_4a48ce92_0beb_11eb_96a0_acde48001122row107_col0\" class=\"data row107 col0\" >t_weapon_famas</td>\n",
       "                        <td id=\"T_4a48ce92_0beb_11eb_96a0_acde48001122row107_col1\" class=\"data row107 col1\" >-0.040000</td>\n",
       "            </tr>\n",
       "            <tr>\n",
       "                        <th id=\"T_4a48ce92_0beb_11eb_96a0_acde48001122level0_row108\" class=\"row_heading level0 row108\" >69</th>\n",
       "                        <td id=\"T_4a48ce92_0beb_11eb_96a0_acde48001122row108_col0\" class=\"data row108 col0\" >t_weapon_usps</td>\n",
       "                        <td id=\"T_4a48ce92_0beb_11eb_96a0_acde48001122row108_col1\" class=\"data row108 col1\" >-0.050000</td>\n",
       "            </tr>\n",
       "            <tr>\n",
       "                        <th id=\"T_4a48ce92_0beb_11eb_96a0_acde48001122level0_row109\" class=\"row_heading level0 row109\" >34</th>\n",
       "                        <td id=\"T_4a48ce92_0beb_11eb_96a0_acde48001122row109_col0\" class=\"data row109 col0\" >t_weapon_m4a1s</td>\n",
       "                        <td id=\"T_4a48ce92_0beb_11eb_96a0_acde48001122row109_col1\" class=\"data row109 col1\" >-0.060000</td>\n",
       "            </tr>\n",
       "            <tr>\n",
       "                        <th id=\"T_4a48ce92_0beb_11eb_96a0_acde48001122level0_row110\" class=\"row_heading level0 row110\" >113</th>\n",
       "                        <td id=\"T_4a48ce92_0beb_11eb_96a0_acde48001122row110_col0\" class=\"data row110 col0\" >map_value_de_mirage</td>\n",
       "                        <td id=\"T_4a48ce92_0beb_11eb_96a0_acde48001122row110_col1\" class=\"data row110 col1\" >-0.060000</td>\n",
       "            </tr>\n",
       "            <tr>\n",
       "                        <th id=\"T_4a48ce92_0beb_11eb_96a0_acde48001122level0_row111\" class=\"row_heading level0 row111\" >99</th>\n",
       "                        <td id=\"T_4a48ce92_0beb_11eb_96a0_acde48001122row111_col0\" class=\"data row111 col0\" >ct_explosives</td>\n",
       "                        <td id=\"T_4a48ce92_0beb_11eb_96a0_acde48001122row111_col1\" class=\"data row111 col1\" >-0.060000</td>\n",
       "            </tr>\n",
       "            <tr>\n",
       "                        <th id=\"T_4a48ce92_0beb_11eb_96a0_acde48001122level0_row112\" class=\"row_heading level0 row112\" >105</th>\n",
       "                        <td id=\"T_4a48ce92_0beb_11eb_96a0_acde48001122row112_col0\" class=\"data row112 col0\" >t_smallmap_sniper</td>\n",
       "                        <td id=\"T_4a48ce92_0beb_11eb_96a0_acde48001122row112_col1\" class=\"data row112 col1\" >-0.060000</td>\n",
       "            </tr>\n",
       "            <tr>\n",
       "                        <th id=\"T_4a48ce92_0beb_11eb_96a0_acde48001122level0_row113\" class=\"row_heading level0 row113\" >80</th>\n",
       "                        <td id=\"T_4a48ce92_0beb_11eb_96a0_acde48001122row113_col0\" class=\"data row113 col0\" >ct_grenade_smokegrenade</td>\n",
       "                        <td id=\"T_4a48ce92_0beb_11eb_96a0_acde48001122row113_col1\" class=\"data row113 col1\" >-0.070000</td>\n",
       "            </tr>\n",
       "            <tr>\n",
       "                        <th id=\"T_4a48ce92_0beb_11eb_96a0_acde48001122level0_row114\" class=\"row_heading level0 row114\" >104</th>\n",
       "                        <td id=\"T_4a48ce92_0beb_11eb_96a0_acde48001122row114_col0\" class=\"data row114 col0\" >ct_largemap_sniper</td>\n",
       "                        <td id=\"T_4a48ce92_0beb_11eb_96a0_acde48001122row114_col1\" class=\"data row114 col1\" >-0.070000</td>\n",
       "            </tr>\n",
       "            <tr>\n",
       "                        <th id=\"T_4a48ce92_0beb_11eb_96a0_acde48001122level0_row115\" class=\"row_heading level0 row115\" >94</th>\n",
       "                        <td id=\"T_4a48ce92_0beb_11eb_96a0_acde48001122row115_col0\" class=\"data row115 col0\" >t_sniper</td>\n",
       "                        <td id=\"T_4a48ce92_0beb_11eb_96a0_acde48001122row115_col1\" class=\"data row115 col1\" >-0.080000</td>\n",
       "            </tr>\n",
       "            <tr>\n",
       "                        <th id=\"T_4a48ce92_0beb_11eb_96a0_acde48001122level0_row116\" class=\"row_heading level0 row116\" >20</th>\n",
       "                        <td id=\"T_4a48ce92_0beb_11eb_96a0_acde48001122row116_col0\" class=\"data row116 col0\" >t_weapon_awp</td>\n",
       "                        <td id=\"T_4a48ce92_0beb_11eb_96a0_acde48001122row116_col1\" class=\"data row116 col1\" >-0.090000</td>\n",
       "            </tr>\n",
       "            <tr>\n",
       "                        <th id=\"T_4a48ce92_0beb_11eb_96a0_acde48001122level0_row117\" class=\"row_heading level0 row117\" >82</th>\n",
       "                        <td id=\"T_4a48ce92_0beb_11eb_96a0_acde48001122row117_col0\" class=\"data row117 col0\" >ct_grenade_incendiarygrenade</td>\n",
       "                        <td id=\"T_4a48ce92_0beb_11eb_96a0_acde48001122row117_col1\" class=\"data row117 col1\" >-0.130000</td>\n",
       "            </tr>\n",
       "            <tr>\n",
       "                        <th id=\"T_4a48ce92_0beb_11eb_96a0_acde48001122level0_row118\" class=\"row_heading level0 row118\" >110</th>\n",
       "                        <td id=\"T_4a48ce92_0beb_11eb_96a0_acde48001122row118_col0\" class=\"data row118 col0\" >map_value_de_inferno</td>\n",
       "                        <td id=\"T_4a48ce92_0beb_11eb_96a0_acde48001122row118_col1\" class=\"data row118 col1\" >-0.140000</td>\n",
       "            </tr>\n",
       "            <tr>\n",
       "                        <th id=\"T_4a48ce92_0beb_11eb_96a0_acde48001122level0_row119\" class=\"row_heading level0 row119\" >103</th>\n",
       "                        <td id=\"T_4a48ce92_0beb_11eb_96a0_acde48001122row119_col0\" class=\"data row119 col0\" >t_largemap_sniper</td>\n",
       "                        <td id=\"T_4a48ce92_0beb_11eb_96a0_acde48001122row119_col1\" class=\"data row119 col1\" >-0.170000</td>\n",
       "            </tr>\n",
       "            <tr>\n",
       "                        <th id=\"T_4a48ce92_0beb_11eb_96a0_acde48001122level0_row120\" class=\"row_heading level0 row120\" >109</th>\n",
       "                        <td id=\"T_4a48ce92_0beb_11eb_96a0_acde48001122row120_col0\" class=\"data row120 col0\" >ct_all_alive</td>\n",
       "                        <td id=\"T_4a48ce92_0beb_11eb_96a0_acde48001122row120_col1\" class=\"data row120 col1\" >-0.180000</td>\n",
       "            </tr>\n",
       "            <tr>\n",
       "                        <th id=\"T_4a48ce92_0beb_11eb_96a0_acde48001122level0_row121\" class=\"row_heading level0 row121\" >57</th>\n",
       "                        <td id=\"T_4a48ce92_0beb_11eb_96a0_acde48001122row121_col0\" class=\"data row121 col0\" >t_weapon_sg553</td>\n",
       "                        <td id=\"T_4a48ce92_0beb_11eb_96a0_acde48001122row121_col1\" class=\"data row121 col1\" >-0.250000</td>\n",
       "            </tr>\n",
       "            <tr>\n",
       "                        <th id=\"T_4a48ce92_0beb_11eb_96a0_acde48001122level0_row122\" class=\"row_heading level0 row122\" >16</th>\n",
       "                        <td id=\"T_4a48ce92_0beb_11eb_96a0_acde48001122row122_col0\" class=\"data row122 col0\" >t_weapon_ak47</td>\n",
       "                        <td id=\"T_4a48ce92_0beb_11eb_96a0_acde48001122row122_col1\" class=\"data row122 col1\" >-0.250000</td>\n",
       "            </tr>\n",
       "            <tr>\n",
       "                        <th id=\"T_4a48ce92_0beb_11eb_96a0_acde48001122level0_row123\" class=\"row_heading level0 row123\" >9</th>\n",
       "                        <td id=\"T_4a48ce92_0beb_11eb_96a0_acde48001122row123_col0\" class=\"data row123 col0\" >t_money</td>\n",
       "                        <td id=\"T_4a48ce92_0beb_11eb_96a0_acde48001122row123_col1\" class=\"data row123 col1\" >-0.250000</td>\n",
       "            </tr>\n",
       "            <tr>\n",
       "                        <th id=\"T_4a48ce92_0beb_11eb_96a0_acde48001122level0_row124\" class=\"row_heading level0 row124\" >11</th>\n",
       "                        <td id=\"T_4a48ce92_0beb_11eb_96a0_acde48001122row124_col0\" class=\"data row124 col0\" >t_helmets</td>\n",
       "                        <td id=\"T_4a48ce92_0beb_11eb_96a0_acde48001122row124_col1\" class=\"data row124 col1\" >-0.310000</td>\n",
       "            </tr>\n",
       "            <tr>\n",
       "                        <th id=\"T_4a48ce92_0beb_11eb_96a0_acde48001122level0_row125\" class=\"row_heading level0 row125\" >3</th>\n",
       "                        <td id=\"T_4a48ce92_0beb_11eb_96a0_acde48001122row125_col0\" class=\"data row125 col0\" >bomb_planted</td>\n",
       "                        <td id=\"T_4a48ce92_0beb_11eb_96a0_acde48001122row125_col1\" class=\"data row125 col1\" >-0.350000</td>\n",
       "            </tr>\n",
       "            <tr>\n",
       "                        <th id=\"T_4a48ce92_0beb_11eb_96a0_acde48001122level0_row126\" class=\"row_heading level0 row126\" >90</th>\n",
       "                        <td id=\"T_4a48ce92_0beb_11eb_96a0_acde48001122row126_col0\" class=\"data row126 col0\" >t_assault</td>\n",
       "                        <td id=\"T_4a48ce92_0beb_11eb_96a0_acde48001122row126_col1\" class=\"data row126 col1\" >-0.360000</td>\n",
       "            </tr>\n",
       "            <tr>\n",
       "                        <th id=\"T_4a48ce92_0beb_11eb_96a0_acde48001122level0_row127\" class=\"row_heading level0 row127\" >7</th>\n",
       "                        <td id=\"T_4a48ce92_0beb_11eb_96a0_acde48001122row127_col0\" class=\"data row127 col0\" >t_armor</td>\n",
       "                        <td id=\"T_4a48ce92_0beb_11eb_96a0_acde48001122row127_col1\" class=\"data row127 col1\" >-0.510000</td>\n",
       "            </tr>\n",
       "            <tr>\n",
       "                        <th id=\"T_4a48ce92_0beb_11eb_96a0_acde48001122level0_row128\" class=\"row_heading level0 row128\" >14</th>\n",
       "                        <td id=\"T_4a48ce92_0beb_11eb_96a0_acde48001122row128_col0\" class=\"data row128 col0\" >t_players_alive</td>\n",
       "                        <td id=\"T_4a48ce92_0beb_11eb_96a0_acde48001122row128_col1\" class=\"data row128 col1\" >-0.670000</td>\n",
       "            </tr>\n",
       "            <tr>\n",
       "                        <th id=\"T_4a48ce92_0beb_11eb_96a0_acde48001122level0_row129\" class=\"row_heading level0 row129\" >5</th>\n",
       "                        <td id=\"T_4a48ce92_0beb_11eb_96a0_acde48001122row129_col0\" class=\"data row129 col0\" >t_health</td>\n",
       "                        <td id=\"T_4a48ce92_0beb_11eb_96a0_acde48001122row129_col1\" class=\"data row129 col1\" >-0.770000</td>\n",
       "            </tr>\n",
       "    </tbody></table>"
      ],
      "text/plain": [
       "<pandas.io.formats.style.Styler at 0x7fa2f75aac10>"
      ]
     },
     "execution_count": 71,
     "metadata": {},
     "output_type": "execute_result"
    }
   ],
   "source": [
    "def feature_importance_LM(model, feature_names):\n",
    "    return pd.DataFrame({'variable': feature_names, # Feature names\n",
    "                         'coefficient': model.coef_[0] # Feature Coeficients\n",
    "                    }) \\\n",
    "    .round(decimals=2) \\\n",
    "    .sort_values('coefficient', ascending=False) \\\n",
    "    .style.bar(color=['red', 'green'], align='zero')\n",
    "\n",
    "feature_importance_LM(first_lm,train_X.columns)"
   ]
  },
  {
   "cell_type": "markdown",
   "metadata": {
    "id": "Z-BrxXmJ8LeY"
   },
   "source": [
    "## 3.2 Filtering Methods"
   ]
  },
  {
   "cell_type": "markdown",
   "metadata": {
    "id": "UT_5oBSi8LeY"
   },
   "source": [
    "### 3.2.1 CHI-SQUARED"
   ]
  },
  {
   "cell_type": "markdown",
   "metadata": {
    "id": "Qwb2QdW48LeY"
   },
   "source": [
    "Chi-squared to check for significant associations of feature with target variable\n",
    "\n",
    "pros: quick ranking, simple implementation\n",
    "\n",
    "cons: does NOT consider interactions between variables"
   ]
  },
  {
   "cell_type": "code",
   "execution_count": 140,
   "metadata": {
    "id": "GdKsVUX08LeZ"
   },
   "outputs": [],
   "source": [
    "if set_Chi2:\n",
    "    \n",
    "    # Check all the columns with unique values\n",
    "    lista = []\n",
    "    for col in train_X.columns:\n",
    "        lista.append(len(train_X.loc[:,col].unique()))\n",
    "\n",
    "    filter_unique= pd.Series(lista) !=1.0\n",
    "\n",
    "    #If in the beginning of the script we take out the variables, then would also work \n",
    "    train_X_chi2 = train_X.loc[:,train_X.columns[filter_unique]]\n",
    "    val_X_chi2 = val_X.loc[:,val_X.columns[filter_unique]]\n",
    "\n",
    "    from sklearn.feature_selection import SelectKBest, chi2\n",
    "    from math import log\n",
    "\n",
    "    X, y = train_X_chi2, train_y ## check for all X DFs\n",
    "\n",
    "    chi2_selector = SelectKBest(score_func=chi2,k=10).fit(X,y)\n",
    "\n",
    "    # Get the indices sorted by most important to least important\n",
    "    indices = np.argsort(chi2_selector.scores_)[::-1]\n",
    "\n",
    "    chi2_features = []\n",
    "    for i in range(len(X.columns)):\n",
    "        chi2_features.append(X.columns[indices[i]])\n",
    "\n",
    "    # Select the number n of top-n features\n",
    "    chi2_features = chi2_features[0:40] # n = 40\n",
    "\n",
    "    # Bar plot in Log-Scale\n",
    "\n",
    "    plt.figure(figsize=(10,10))\n",
    "    plt.yticks(rotation='horizontal',fontsize=16)\n",
    "    plt.barh(chi2_features, np.log(chi2_selector.scores_[indices[range(sum(X.columns.isin(chi2_features)))]]), color='r', align='center')\n",
    "    #plt.barh(chi2_features, chi2_selector.scores_[indices[range(sum(X.columns.isin(chi2_features)))]], color='r', align='center')\n",
    "    plt.gca().invert_yaxis()\n",
    "    plt.show()\n",
    "\n",
    "    train_X = train_X.loc[:,chi2_features]\n",
    "    val_X = val_X.loc[:,chi2_features]\n",
    "    \n",
    "else:\n",
    "    pass"
   ]
  },
  {
   "cell_type": "code",
   "execution_count": 142,
   "metadata": {
    "id": "ag9gdisd8Lec",
    "scrolled": true
   },
   "outputs": [],
   "source": [
    "# rerun BM logit model\n",
    "\n",
    "if set_Chi2:\n",
    "    \n",
    "    first_lm.fit(train_X, train_y) # refit on selected features\n",
    "    \n",
    "    print(\"Accuracy = {0:.4f}\".format(accuracy_score(val_y,first_lm.predict(val_X))))\n",
    "    plot_confusion_matrix(first_lm, val_X, val_y, val_y.unique(), cmap=plt.cm.Blues)\n",
    "    \n",
    "    results_df.loc[len(results_df)] = ['Logistic Model - CHI2', accuracy_score(val_y,first_lm.predict(val_X))]\n",
    "    \n",
    "else:\n",
    "    pass"
   ]
  },
  {
   "cell_type": "code",
   "execution_count": 143,
   "metadata": {
    "colab": {
     "base_uri": "https://localhost:8080/",
     "height": 80
    },
    "id": "VAyHs8Qn8Lef",
    "outputId": "605dbd9f-bb87-4e45-b092-3546a0300d9a"
   },
   "outputs": [
    {
     "data": {
      "text/html": [
       "<div>\n",
       "<style scoped>\n",
       "    .dataframe tbody tr th:only-of-type {\n",
       "        vertical-align: middle;\n",
       "    }\n",
       "\n",
       "    .dataframe tbody tr th {\n",
       "        vertical-align: top;\n",
       "    }\n",
       "\n",
       "    .dataframe thead th {\n",
       "        text-align: right;\n",
       "    }\n",
       "</style>\n",
       "<table border=\"1\" class=\"dataframe\">\n",
       "  <thead>\n",
       "    <tr style=\"text-align: right;\">\n",
       "      <th></th>\n",
       "      <th>Approach</th>\n",
       "      <th>Accuracy</th>\n",
       "    </tr>\n",
       "  </thead>\n",
       "  <tbody>\n",
       "    <tr>\n",
       "      <th>0</th>\n",
       "      <td>Logistic Model - STD</td>\n",
       "      <td>0.75096</td>\n",
       "    </tr>\n",
       "  </tbody>\n",
       "</table>\n",
       "</div>"
      ],
      "text/plain": [
       "               Approach  Accuracy\n",
       "0  Logistic Model - STD   0.75096"
      ]
     },
     "execution_count": 143,
     "metadata": {
      "tags": []
     },
     "output_type": "execute_result"
    }
   ],
   "source": [
    "results_df"
   ]
  },
  {
   "cell_type": "markdown",
   "metadata": {
    "id": "r-Xq7J2v8Leh"
   },
   "source": [
    "### 3.2.2 INFORMATION GAIN"
   ]
  },
  {
   "cell_type": "markdown",
   "metadata": {
    "id": "ouO28Swi8Leh"
   },
   "source": [
    "For all the numerical variables"
   ]
  },
  {
   "cell_type": "code",
   "execution_count": 144,
   "metadata": {
    "id": "MKSdWaaQ8Leh"
   },
   "outputs": [],
   "source": [
    "if set_IG:\n",
    "\n",
    "    from sklearn.feature_selection import SelectKBest, mutual_info_classif\n",
    "\n",
    "    ig_selector = SelectKBest(score_func=mutual_info_classif).fit(train_X,train_y)\n",
    "\n",
    "    # Get the indices sorted by most important to least important\n",
    "    indices = np.argsort(ig_selector.scores_)[::-1]\n",
    "\n",
    "    ig_features = []\n",
    "    for i in range(len(train_X.columns)):\n",
    "        ig_features.append(train_X.columns[indices[i]])\n",
    "\n",
    "    # Now plot\n",
    "    plt.figure(figsize=(10,10))\n",
    "    plt.yticks(rotation='horizontal',fontsize=16)\n",
    "    plt.barh(ig_features, ig_selector.scores_[indices[range(len(train_X.columns))]], color='r', align='center')\n",
    "    plt.gca().invert_yaxis()\n",
    "    plt.show()\n",
    "\n",
    "    # Select the number n of top-n features ## could move this and apply the filter already for the plot\n",
    "    ig_features = ig_features[0:40] # n = 40\n",
    "    \n",
    "    train_X = train_X.loc[:,ig_features]\n",
    "    val_X = val_X.loc[:,ig_features]\n",
    "    \n",
    "else:\n",
    "    pass "
   ]
  },
  {
   "cell_type": "code",
   "execution_count": 145,
   "metadata": {
    "id": "6YVMjw6p8Lej",
    "scrolled": true
   },
   "outputs": [],
   "source": [
    "# rerun BM logit model\n",
    "\n",
    "if set_IG:\n",
    "    \n",
    "    first_lm.fit(train_X, train_y) # refit on selected features\n",
    "    \n",
    "    print(\"Accuracy = {0:.4f}\".format(accuracy_score(val_y,first_lm.predict(val_X))))\n",
    "    plot_confusion_matrix(first_lm, val_X, val_y, val_y.unique(), cmap=plt.cm.Blues)\n",
    "    \n",
    "    if set_standardize:\n",
    "        results_df.loc[len(results_df)] = ['Logistic Model - IG - STD', accuracy_score(val_y,first_lm.predict(val_X))]\n",
    "    else:\n",
    "        results_df.loc[len(results_df)] = ['Logistic Model - IG', accuracy_score(val_y,first_lm.predict(val_X))]\n",
    "else:\n",
    "    pass"
   ]
  },
  {
   "cell_type": "code",
   "execution_count": 146,
   "metadata": {
    "colab": {
     "base_uri": "https://localhost:8080/",
     "height": 80
    },
    "id": "1XPVkKax8Lel",
    "outputId": "cb22d15d-d89d-4d96-a672-a5bf8a56a1dc",
    "scrolled": false
   },
   "outputs": [
    {
     "data": {
      "text/html": [
       "<div>\n",
       "<style scoped>\n",
       "    .dataframe tbody tr th:only-of-type {\n",
       "        vertical-align: middle;\n",
       "    }\n",
       "\n",
       "    .dataframe tbody tr th {\n",
       "        vertical-align: top;\n",
       "    }\n",
       "\n",
       "    .dataframe thead th {\n",
       "        text-align: right;\n",
       "    }\n",
       "</style>\n",
       "<table border=\"1\" class=\"dataframe\">\n",
       "  <thead>\n",
       "    <tr style=\"text-align: right;\">\n",
       "      <th></th>\n",
       "      <th>Approach</th>\n",
       "      <th>Accuracy</th>\n",
       "    </tr>\n",
       "  </thead>\n",
       "  <tbody>\n",
       "    <tr>\n",
       "      <th>0</th>\n",
       "      <td>Logistic Model - STD</td>\n",
       "      <td>0.75096</td>\n",
       "    </tr>\n",
       "  </tbody>\n",
       "</table>\n",
       "</div>"
      ],
      "text/plain": [
       "               Approach  Accuracy\n",
       "0  Logistic Model - STD   0.75096"
      ]
     },
     "execution_count": 146,
     "metadata": {
      "tags": []
     },
     "output_type": "execute_result"
    }
   ],
   "source": [
    "results_df"
   ]
  },
  {
   "cell_type": "markdown",
   "metadata": {
    "id": "ZfihwB0L8Lem"
   },
   "source": [
    "## 3.3 Embedded Methods: Lasso Regression"
   ]
  },
  {
   "cell_type": "code",
   "execution_count": 72,
   "metadata": {
    "id": "LkS9mEv08Len"
   },
   "outputs": [
    {
     "name": "stdout",
     "output_type": "stream",
     "text": [
      "Original Number of Features = 130 --> Number of features selected by Lasso = 109\n",
      "Index(['time_left', 'ct_score', 't_score', 'bomb_planted', 'ct_health',\n",
      "       't_health', 'ct_armor', 't_armor', 'ct_money', 't_money',\n",
      "       ...\n",
      "       'map_value_de_vertigo', 'map_value_de_cache', 't_money_cat_value_low',\n",
      "       't_money_cat_value_midhigh', 't_money_cat_value_high',\n",
      "       'ct_money_cat_value_midlow', 'ct_money_cat_value_midhigh',\n",
      "       'ct_money_cat_value_high', 'time_quarter_value_Q1',\n",
      "       'time_quarter_value_Q4'],\n",
      "      dtype='object', length=109)\n"
     ]
    }
   ],
   "source": [
    "if set_Lasso:\n",
    "\n",
    "    from sklearn.feature_selection import SelectFromModel\n",
    "\n",
    "    alphas = 10**np.linspace(-1,-4,100)\n",
    "\n",
    "    lasso_mod_cv = linear_model.LogisticRegressionCV(max_iter=10000,penalty='l1',solver='liblinear',Cs=alphas,n_jobs=-3).fit(train_X, train_y)\n",
    "\n",
    "    model = SelectFromModel(lasso_mod_cv, prefit=True)\n",
    "    new_X = model.transform(train_X) \n",
    "    val_new_X = model.transform(val_X)\n",
    "    print(\"Original Number of Features = {} --> Number of features selected by Lasso = {}\".format(train_X.shape[1], new_X.shape[1]))\n",
    "    columns_lasso = train_X.columns[model.get_support()]\n",
    "    print(columns_lasso)\n",
    "\n",
    "    train_X = train_X.loc[:,columns_lasso]\n",
    "    val_X = val_X.loc[:,columns_lasso]\n",
    "    test_X = test_X.loc[:,columns_lasso]\n",
    "    \n",
    "else:\n",
    "    pass"
   ]
  },
  {
   "cell_type": "code",
   "execution_count": 148,
   "metadata": {
    "id": "lwig7Cnh8Lep",
    "scrolled": false
   },
   "outputs": [],
   "source": [
    "# rerun BM logit model\n",
    "\n",
    "if set_Lasso:\n",
    "    \n",
    "    first_lm.fit(train_X, train_y) # refit on selected features\n",
    "    \n",
    "    print(\"Accuracy = {0:.4f}\".format(accuracy_score(val_y,first_lm.predict(val_X))))\n",
    "    plot_confusion_matrix(first_lm, val_X, val_y, val_y.unique(), cmap=plt.cm.Blues)\n",
    "    \n",
    "    if set_standardize:\n",
    "        results_df.loc[len(results_df)] = ['Logistic Model - Lasso - STD', accuracy_score(val_y,first_lm.predict(val_X))]\n",
    "    else:\n",
    "        results_df.loc[len(results_df)] = ['Logistic Model - Lasso', accuracy_score(val_y,first_lm.predict(val_X))]\n",
    "    \n",
    "else:\n",
    "    pass"
   ]
  },
  {
   "cell_type": "code",
   "execution_count": 149,
   "metadata": {
    "colab": {
     "base_uri": "https://localhost:8080/",
     "height": 80
    },
    "id": "Or8uyfiQ8Ler",
    "outputId": "4562aee1-d560-489a-84ec-20966b8b952f",
    "scrolled": false
   },
   "outputs": [
    {
     "data": {
      "text/html": [
       "<div>\n",
       "<style scoped>\n",
       "    .dataframe tbody tr th:only-of-type {\n",
       "        vertical-align: middle;\n",
       "    }\n",
       "\n",
       "    .dataframe tbody tr th {\n",
       "        vertical-align: top;\n",
       "    }\n",
       "\n",
       "    .dataframe thead th {\n",
       "        text-align: right;\n",
       "    }\n",
       "</style>\n",
       "<table border=\"1\" class=\"dataframe\">\n",
       "  <thead>\n",
       "    <tr style=\"text-align: right;\">\n",
       "      <th></th>\n",
       "      <th>Approach</th>\n",
       "      <th>Accuracy</th>\n",
       "    </tr>\n",
       "  </thead>\n",
       "  <tbody>\n",
       "    <tr>\n",
       "      <th>0</th>\n",
       "      <td>Logistic Model - STD</td>\n",
       "      <td>0.75096</td>\n",
       "    </tr>\n",
       "  </tbody>\n",
       "</table>\n",
       "</div>"
      ],
      "text/plain": [
       "               Approach  Accuracy\n",
       "0  Logistic Model - STD   0.75096"
      ]
     },
     "execution_count": 149,
     "metadata": {
      "tags": []
     },
     "output_type": "execute_result"
    }
   ],
   "source": [
    "results_df"
   ]
  },
  {
   "cell_type": "markdown",
   "metadata": {},
   "source": [
    "Ridge regression was used to compare with Lasso, the team kept Lasso."
   ]
  },
  {
   "cell_type": "code",
   "execution_count": null,
   "metadata": {},
   "outputs": [],
   "source": [
    "# if set_Ridge:\n",
    "    \n",
    "#     from sklearn.feature_selection import SelectFromModel\n",
    "    \n",
    "#     alphas = 10**np.linspace(-1,-4,100)\n",
    "    \n",
    "#     ridge_mod_cv = linear_model.RidgeClassifierCV(alphas=alphas).fit(train_X, train_y) #Performs better\n",
    "    \n",
    "#     model = SelectFromModel(ridge_mod_cv, prefit=True)\n",
    "#     new_X = model.transform(train_X)\n",
    "#     val_new_X = model.transform(val_X)\n",
    "#     print(\"Original Number of Features = {} --> Number of features selected by Ridge = {}\".format(train_X.shape[1], new_X.shape[1]))\n",
    "#     columns_ridge = train_X.columns[model.get_support()]\n",
    "#     print(columns_ridge)\n",
    "#     train_X = train_X.loc[:,columns_ridge]\n",
    "#     val_X = val_X.loc[:,columns_ridge]\n",
    "    \n",
    "# else:\n",
    "#     pass"
   ]
  },
  {
   "cell_type": "code",
   "execution_count": null,
   "metadata": {},
   "outputs": [],
   "source": [
    "# # rerun BM logit model\n",
    "\n",
    "# if set_Lasso:\n",
    "#     first_lm.fit(train_X, train_y) # refit on selected features\n",
    "#     print(\"Accuracy = {0:.4f}\".format(accuracy_score(val_y,ridge_mod_cv.predict(val_X))))\n",
    "#     plot_confusion_matrix(ridge_mod_cv, val_X, val_y, val_y.unique(), cmap=plt.cm.Blues)\n",
    "    \n",
    "#     if set_standardize:\n",
    "#         results_df.loc[len(results_df)] = ['Logistic Model - Ridge - STD', accuracy_score(val_y,first_lm.predict(val_X))]\n",
    "#     else:\n",
    "#         results_df.loc[len(results_df)] = ['Logistic Model - Ridge', accuracy_score(val_y,first_lm.predict(val_X))]\n",
    "    \n",
    "# else:\n",
    "#     pass"
   ]
  },
  {
   "cell_type": "markdown",
   "metadata": {
    "id": "oMzC8zcCN2Ir"
   },
   "source": [
    "## 3.4 Absolute Correlation\n"
   ]
  },
  {
   "cell_type": "code",
   "execution_count": 153,
   "metadata": {
    "colab": {
     "base_uri": "https://localhost:8080/",
     "height": 594
    },
    "id": "uyyunyQmN2Iw",
    "outputId": "e6fb5c1a-b4e6-4493-950b-74670a054323"
   },
   "outputs": [
    {
     "data": {
      "image/png": "[encoded data removed]",
      "text/plain": [
       "<Figure size 720x720 with 1 Axes>"
      ]
     },
     "metadata": {
      "tags": []
     },
     "output_type": "display_data"
    }
   ],
   "source": [
    "if set_Corr:\n",
    "\n",
    "    from sklearn.feature_selection import SelectKBest, f_classif\n",
    "\n",
    "    f_selector = SelectKBest(score_func=f_classif).fit(train_X,train_y)\n",
    "\n",
    "    # Get the indices sorted by most important to least important\n",
    "    indices = np.argsort(f_selector.scores_)[::-1]\n",
    "\n",
    "    f_features = []\n",
    "    for i in range(len(train_X.columns)):\n",
    "        f_features.append(train_X.columns[indices[i]])\n",
    "\n",
    "    # Now plot\n",
    "    plt.figure(figsize=(10,10))\n",
    "    plt.yticks(rotation='horizontal',fontsize=16)\n",
    "    plt.barh(f_features, f_selector.scores_[indices[range(len(train_X.columns))]], color='r', align='center')\n",
    "    plt.gca().invert_yaxis()\n",
    "    plt.show()\n",
    "\n",
    "    # Select the number n of top-n features ## could move this and apply the filter already for the plot\n",
    "    f_features = f_features[0:40] # n = 40\n",
    "    \n",
    "    train_X = train_X.loc[:,f_features]\n",
    "    val_X = val_X.loc[:,f_features]\n",
    "    \n",
    "else:\n",
    "    pass "
   ]
  },
  {
   "cell_type": "code",
   "execution_count": 154,
   "metadata": {
    "colab": {
     "base_uri": "https://localhost:8080/",
     "height": 302
    },
    "id": "lOq-ybbeN2I1",
    "outputId": "e155dead-a054-4484-a371-ec479710ad0d",
    "scrolled": false
   },
   "outputs": [
    {
     "name": "stdout",
     "output_type": "stream",
     "text": [
      "Accuracy = 0.7447\n"
     ]
    },
    {
     "data": {
      "image/png": "[encoded data removed]",
      "text/plain": [
       "<Figure size 432x288 with 2 Axes>"
      ]
     },
     "metadata": {
      "tags": []
     },
     "output_type": "display_data"
    }
   ],
   "source": [
    "# rerun BM logit model\n",
    "\n",
    "if set_Corr:\n",
    "    \n",
    "    first_lm.fit(train_X, train_y) # refit on selected features\n",
    "    \n",
    "    print(\"Accuracy = {0:.4f}\".format(accuracy_score(val_y,first_lm.predict(val_X))))\n",
    "    plot_confusion_matrix(first_lm, val_X, val_y, val_y.unique(), cmap=plt.cm.Blues)\n",
    "    \n",
    "    if set_standardize:\n",
    "        results_df.loc[len(results_df)] = ['Logistic Model - F-Score - STD', accuracy_score(val_y,first_lm.predict(val_X))]\n",
    "    else:\n",
    "        results_df.loc[len(results_df)] = ['Logistic Model - F-Score', accuracy_score(val_y,first_lm.predict(val_X))]\n",
    "    \n",
    "else:\n",
    "    pass"
   ]
  },
  {
   "cell_type": "code",
   "execution_count": 155,
   "metadata": {
    "colab": {
     "base_uri": "https://localhost:8080/",
     "height": 111
    },
    "id": "w8f2LMMnN2I2",
    "outputId": "c4ab9eb3-1ef1-496d-e99f-bb6486ffa613",
    "scrolled": true
   },
   "outputs": [
    {
     "data": {
      "text/html": [
       "<div>\n",
       "<style scoped>\n",
       "    .dataframe tbody tr th:only-of-type {\n",
       "        vertical-align: middle;\n",
       "    }\n",
       "\n",
       "    .dataframe tbody tr th {\n",
       "        vertical-align: top;\n",
       "    }\n",
       "\n",
       "    .dataframe thead th {\n",
       "        text-align: right;\n",
       "    }\n",
       "</style>\n",
       "<table border=\"1\" class=\"dataframe\">\n",
       "  <thead>\n",
       "    <tr style=\"text-align: right;\">\n",
       "      <th></th>\n",
       "      <th>Approach</th>\n",
       "      <th>Accuracy</th>\n",
       "    </tr>\n",
       "  </thead>\n",
       "  <tbody>\n",
       "    <tr>\n",
       "      <th>0</th>\n",
       "      <td>Logistic Model - STD</td>\n",
       "      <td>0.750960</td>\n",
       "    </tr>\n",
       "    <tr>\n",
       "      <th>1</th>\n",
       "      <td>Logistic Model - F-Score - STD</td>\n",
       "      <td>0.744681</td>\n",
       "    </tr>\n",
       "  </tbody>\n",
       "</table>\n",
       "</div>"
      ],
      "text/plain": [
       "                         Approach  Accuracy\n",
       "0            Logistic Model - STD  0.750960\n",
       "1  Logistic Model - F-Score - STD  0.744681"
      ]
     },
     "execution_count": 155,
     "metadata": {
      "tags": []
     },
     "output_type": "execute_result"
    }
   ],
   "source": [
    "results_df"
   ]
  },
  {
   "cell_type": "markdown",
   "metadata": {
    "id": "8kEBcuBh8Le5"
   },
   "source": [
    "# 4. First Model - Linear Discriminant Analysis"
   ]
  },
  {
   "cell_type": "markdown",
   "metadata": {
    "id": "lrx-e7eH8Le6"
   },
   "source": [
    "To provide a solid first model, we estimate an LDA model. To work with a limited set up of features, we apply PCA as an additional pre-processing step.\n",
    "\n",
    "Since we have a lot of variables, with high correlations it makes sense toapply PCA to reduce number of dimensions, then run LDA to give best possinle linear representation between classes"
   ]
  },
  {
   "cell_type": "markdown",
   "metadata": {
    "id": "FWTjxdyb8Le6"
   },
   "source": [
    "## 4.1 DIMENSIONALITY REDUCTION - PCA"
   ]
  },
  {
   "cell_type": "code",
   "execution_count": null,
   "metadata": {},
   "outputs": [],
   "source": [
    "if set_PCA:\n",
    "    \n",
    "    from sklearn.decomposition import PCA\n",
    "    from sklearn.linear_model import LogisticRegression\n",
    "    from sklearn.pipeline import Pipeline\n",
    "    from sklearn.model_selection import GridSearchCV\n",
    "\n",
    "\n",
    "    # Define a pipeline to search for the best combination of PCA truncation\n",
    "    # and classifier regularization.\n",
    "    pca = PCA()\n",
    "    # set the tolerance to a large value to make the example faster\n",
    "    logistic = LogisticRegression(max_iter=10000, tol=0.1)\n",
    "    pipe = Pipeline(steps=[('pca', pca), ('logistic', logistic)])\n",
    "\n",
    "    # Parameters of pipelines can be set using ‘__’ separated parameter names:\n",
    "    param_grid = {\n",
    "        'pca__n_components': [5, 15, 25, 40, 64, 80,96],\n",
    "        'logistic__C': np.logspace(-4, 4, 4),\n",
    "    }\n",
    "    search = GridSearchCV(pipe, param_grid, n_jobs=-2)\n",
    "    search.fit(train_X, train_y)\n",
    "    print(\"Best parameter (CV score=%0.3f):\" % search.best_score_)\n",
    "    print(search.best_params_)\n",
    "\n",
    "    # Plot the PCA spectrum\n",
    "    pca.fit(train_X)\n",
    "\n",
    "    fig, (ax0, ax1) = plt.subplots(nrows=2, sharex=True, figsize=(6, 6))\n",
    "    ax0.plot(np.arange(1, pca.n_components_ + 1),\n",
    "            pca.explained_variance_ratio_, '+', linewidth=2)\n",
    "    ax0.set_ylabel('PCA explained variance ratio')\n",
    "\n",
    "    ax0.axvline(search.best_estimator_.named_steps['pca'].n_components,\n",
    "                linestyle=':', label='n_components chosen')\n",
    "    ax0.legend(prop=dict(size=12))\n",
    "\n",
    "    # For each number of components, find the best classifier results\n",
    "    results = pd.DataFrame(search.cv_results_)\n",
    "    components_col = 'param_pca__n_components'\n",
    "    best_clfs = results.groupby(components_col).apply(\n",
    "        lambda g: g.nlargest(1, 'mean_test_score'))\n",
    "\n",
    "    best_clfs.plot(x=components_col, y='mean_test_score', yerr='std_test_score',\n",
    "                  legend=False, ax=ax1)\n",
    "    ax1.set_ylabel('Classification accuracy (val)')\n",
    "    ax1.set_xlabel('n_components')\n",
    "\n",
    "    plt.xlim(-1, 70)\n",
    "\n",
    "    plt.tight_layout()\n",
    "    plt.show()\n",
    "\n",
    "    ## use 40 PCA components"
   ]
  },
  {
   "cell_type": "code",
   "execution_count": 156,
   "metadata": {
    "id": "GRVAije38Le6"
   },
   "outputs": [],
   "source": [
    "### standardization of data required\n",
    "\n",
    "if set_PCA:\n",
    "\n",
    "    from sklearn.decomposition import PCA \n",
    "    sklearn_pca = PCA()\n",
    "    Y_sklearn = sklearn_pca.fit_transform(train_X) # using scaled train data\n",
    "\n",
    "    VARIANCE_TO_KEEP = 0.90 # choose threshold of info to keep\n",
    "    \n",
    "    plt.bar(range(sklearn_pca.n_components_), sklearn_pca.explained_variance_ratio_, alpha=0.5, align='center',label='individual explained variance')\n",
    "    plt.step(range(sklearn_pca.n_components_), [sklearn_pca.explained_variance_ratio_[:y].sum() for y in range(1,sklearn_pca.n_components_+1)], alpha=0.5, where='mid',label='cumulative explained variance')\n",
    "    plt.axhline(y=VARIANCE_TO_KEEP, linewidth=2, color = 'r')\n",
    "    plt.ylabel('Explained variance ratio')\n",
    "    plt.xlabel('Principal components')\n",
    "    plt.xlim([0, sklearn_pca.n_components_])\n",
    "    plt.legend(loc='best')\n",
    "    plt.tight_layout()\n",
    "    \n",
    "    keep_recommend = [sklearn_pca.explained_variance_ratio_[:y].sum()>VARIANCE_TO_KEEP for y in range(1,sklearn_pca.n_components_+1)].count(False)\n",
    "    print(\"Number of components to keep to retain %s%% of the variance:\" % (100*VARIANCE_TO_KEEP), keep_recommend, \"out of the original\", sklearn_pca.n_components_)\n",
    "    \n",
    "    retained_components_number = keep_recommend # set the number of PCA variables to keep\n",
    "\n",
    "    sklearn_pca_final = PCA(n_components=retained_components_number)\n",
    "\n",
    "    Y_sklearn_final = sklearn_pca_final.fit_transform(train_X)\n",
    "    Y2_sklearn_final = sklearn_pca_final.transform(val_X)\n",
    "    \n",
    "    train_X = pd.DataFrame(Y_sklearn_final, columns=[('PCA ' + str(i+1)) for i in range(sklearn_pca_final.n_components)])\n",
    "    val_X = pd.DataFrame(Y2_sklearn_final, columns=[('PCA ' + str(i+1)) for i in range(sklearn_pca_final.n_components)])"
   ]
  },
  {
   "cell_type": "markdown",
   "metadata": {
    "id": "w-G9MiYP8Le9"
   },
   "source": [
    "## 4.2 Fit LDA Model"
   ]
  },
  {
   "cell_type": "code",
   "execution_count": 158,
   "metadata": {
    "id": "EOvtmGgs8Le-"
   },
   "outputs": [],
   "source": [
    "if set_PCA:\n",
    "\n",
    "    from sklearn.discriminant_analysis import LinearDiscriminantAnalysis\n",
    "\n",
    "    clf = LinearDiscriminantAnalysis()\n",
    "    clf.fit(train_X, train_y)\n",
    "\n",
    "    # show confusion matrix of benchmark prediction\n",
    "    from sklearn.metrics import plot_confusion_matrix, accuracy_score\n",
    "\n",
    "    print(\"Accuracy = {0:.4f}\".format(accuracy_score(val_y,clf.predict(val_X))))\n",
    "    plot_confusion_matrix(clf, val_X, val_y, val_y.unique(), cmap=plt.cm.Blues)\n",
    "    \n",
    "    results_df.loc[len(results_df)] = ['LDA Model - PCA/STD', accuracy_score(val_y,clf.predict(val_X))]\n"
   ]
  },
  {
   "cell_type": "code",
   "execution_count": 77,
   "metadata": {
    "colab": {
     "base_uri": "https://localhost:8080/",
     "height": 80
    },
    "id": "C3PMfo9f8Le_",
    "outputId": "fed853af-6471-4b0a-cf3d-e63f03ce3b61"
   },
   "outputs": [
    {
     "data": {
      "text/html": [
       "<div>\n",
       "<style scoped>\n",
       "    .dataframe tbody tr th:only-of-type {\n",
       "        vertical-align: middle;\n",
       "    }\n",
       "\n",
       "    .dataframe tbody tr th {\n",
       "        vertical-align: top;\n",
       "    }\n",
       "\n",
       "    .dataframe thead th {\n",
       "        text-align: right;\n",
       "    }\n",
       "</style>\n",
       "<table border=\"1\" class=\"dataframe\">\n",
       "  <thead>\n",
       "    <tr style=\"text-align: right;\">\n",
       "      <th></th>\n",
       "      <th>Approach</th>\n",
       "      <th>Accuracy</th>\n",
       "    </tr>\n",
       "  </thead>\n",
       "  <tbody>\n",
       "    <tr>\n",
       "      <th>0</th>\n",
       "      <td>Logistic Model - STD</td>\n",
       "      <td>0.75096</td>\n",
       "    </tr>\n",
       "  </tbody>\n",
       "</table>\n",
       "</div>"
      ],
      "text/plain": [
       "               Approach  Accuracy\n",
       "0  Logistic Model - STD   0.75096"
      ]
     },
     "execution_count": 77,
     "metadata": {
      "tags": []
     },
     "output_type": "execute_result"
    }
   ],
   "source": [
    "results_df"
   ]
  },
  {
   "cell_type": "markdown",
   "metadata": {
    "id": "YHSEzB1F8LfA"
   },
   "source": [
    "# 5. Challenger Models"
   ]
  },
  {
   "cell_type": "markdown",
   "metadata": {},
   "source": [
    "New models were built to beat the logistic regression accuracy. The best parameters were saved in a json document as well as the table with the accuracy including all the algorithms"
   ]
  },
  {
   "cell_type": "markdown",
   "metadata": {
    "id": "wqRoj5b98LfB"
   },
   "source": [
    "## 5.1 Random Forest"
   ]
  },
  {
   "cell_type": "code",
   "execution_count": null,
   "metadata": {
    "id": "jufrBBmR8LfB"
   },
   "outputs": [],
   "source": [
    "# from sklearn.tree import DecisionTreeClassifier\n",
    "\n",
    "# first_tree = DecisionTreeClassifier(random_state=42)\n",
    "# first_tree.fit(train_X, train_y);\n",
    "\n",
    "# from sklearn.metrics import accuracy_score\n",
    "\n",
    "# predictions = first_tree.predict(val_X)\n",
    "# print(\"Accuracy = {0:.4f}\".format(accuracy_score(val_y, predictions)))\n",
    "# # 0.79"
   ]
  },
  {
   "cell_type": "code",
   "execution_count": null,
   "metadata": {
    "id": "_28-H-sT8LfC"
   },
   "outputs": [],
   "source": [
    "# from sklearn.ensemble import RandomForestClassifier\n",
    "# from sklearn.metrics import accuracy_score\n",
    "\n",
    "# tree_bagging = RandomForestClassifier(random_state=42, max_features=len(train_X.columns))\n",
    "# tree_bagging.fit(train_X, train_y)\n",
    "\n",
    "# predictions = tree_bagging.predict(val_X)\n",
    "# print(\"Accuracy = {0:.4f}\".format(accuracy_score(val_y, predictions)))\n",
    "# #0.8547\n",
    "# #0.8349 unstd."
   ]
  },
  {
   "cell_type": "markdown",
   "metadata": {
    "id": "GA7k-DI78LfJ"
   },
   "source": [
    "## ExtraTrees"
   ]
  },
  {
   "cell_type": "code",
   "execution_count": null,
   "metadata": {
    "id": "r1PPiDfc8LfJ"
   },
   "outputs": [],
   "source": [
    "## OG\n",
    "\n",
    "from sklearn.ensemble import ExtraTreesClassifier\n",
    "tree_et = ExtraTreesClassifier(random_state=42)\n",
    "tree_et.fit(train_X, train_y)\n",
    "\n",
    "predictions = tree_et.predict(val_X)\n",
    "print(\"Accuracy = {0:.4f}\".format(accuracy_score(val_y, predictions)))\n",
    "# 0.8558\n",
    "#0.8317 unstd."
   ]
  },
  {
   "cell_type": "code",
   "execution_count": null,
   "metadata": {
    "id": "B7psEzP88LfL"
   },
   "outputs": [],
   "source": [
    "# show confusion matrix of ET prediction\n",
    "\n",
    "from sklearn.metrics import plot_confusion_matrix, accuracy_score\n",
    "\n",
    "print(\"Accuracy = {0:.4f}\".format(accuracy_score(val_y,tree_et.predict(val_X))))\n",
    "plot_confusion_matrix(tree_et, val_X, val_y, val_y.unique(), cmap=plt.cm.Blues)\n",
    "\n",
    "results_df.loc[len(results_df)] = ['ET Base Model', accuracy_score(val_y,tree_et.predict(val_X))]\n",
    "results_df"
   ]
  },
  {
   "cell_type": "code",
   "execution_count": null,
   "metadata": {
    "id": "CVq2XvOY8LfM"
   },
   "outputs": [],
   "source": [
    "from sklearn.model_selection import RandomizedSearchCV\n",
    "\n",
    "params = {\n",
    "    \"max_depth\": [int(x) for x in np.linspace(20, 100, num = 8)]+[None],\n",
    "    \"criterion\": ['gini', 'entropy'],\n",
    "    \"n_estimators\": [int(x) for x in np.linspace(start = 10, stop = 4000, num = 8)],\n",
    "    \"min_samples_split\": [2, 4, 6],\n",
    "    \"min_samples_leaf\": [1, 2, 3]\n",
    "}\n",
    "\n",
    "search_ET = RandomizedSearchCV(tree_et, param_distributions=params, random_state=42, n_iter=50, cv=5, verbose=1, n_jobs=-1, return_train_score=True)\n",
    "search_ET.fit(train_X, train_y)\n",
    "\n",
    "print(\"Best parameters set found on development set:\")\n",
    "print()\n",
    "print(search_ET.best_params_)\n",
    "print()\n",
    "print(\"Grid scores on development set:\")\n",
    "print()\n",
    "means = search_ET.cv_results_['mean_test_score']\n",
    "stds = search_ET.cv_results_['std_test_score']\n",
    "for mean, std, params in zip(means, stds, search_ET.cv_results_['params']):\n",
    "    print(\"Accuracy = %0.3f (+/%0.03f) for %r\" % (mean, std * 2, params))\n",
    "\n",
    "predictions = search_ET.best_estimator_.predict(val_X)\n",
    "\n",
    "import json\n",
    "\n",
    "json.dump(search_ET.best_params_, open('ExtraTrees_params.json', 'w'))\n",
    "#json.dump(search_ET.best_params_, open('/content/drive/Shared drives/ML2 project/ExtraTrees_params.json', 'w')) # for Collab"
   ]
  },
  {
   "cell_type": "code",
   "execution_count": null,
   "metadata": {
    "id": "lQiRZ16k8LfO"
   },
   "outputs": [],
   "source": [
    "# show confusion matrix of ET Randomized prediction\n",
    "\n",
    "from sklearn.metrics import plot_confusion_matrix, accuracy_score\n",
    "\n",
    "print(\"Accuracy = {0:.4f}\".format(accuracy_score(val_y,predictions)))\n",
    "plot_confusion_matrix(search_ET.best_estimator_, val_X, val_y, val_y.unique(), cmap=plt.cm.Blues)\n",
    "\n",
    "results_df.loc[len(results_df)] = ['ET Randomized Model', accuracy_score(val_y,search_ET.predict(val_X))]\n",
    "results_df"
   ]
  },
  {
   "cell_type": "markdown",
   "metadata": {
    "id": "fuwoYyHa8LfR"
   },
   "source": [
    "## 5.2  XGBoost"
   ]
  },
  {
   "cell_type": "markdown",
   "metadata": {
    "id": "ygpHV49Q8LfR"
   },
   "source": [
    "idea of boosted trees"
   ]
  },
  {
   "cell_type": "code",
   "execution_count": null,
   "metadata": {
    "id": "E7ehT3Lp8LfR"
   },
   "outputs": [],
   "source": [
    "#conda install -c conda-forge xgboost\n",
    "import xgboost\n",
    "xgb_tree = xgboost.XGBClassifier(objective=\"binary:logistic\", random_state=42)\n",
    "\n",
    "from scipy.stats import uniform, randint\n",
    "from sklearn.model_selection import RandomizedSearchCV\n",
    "\n",
    "params = {\n",
    "    \"colsample_bytree\": uniform(0.7, 0.3),\n",
    "    \"gamma\": uniform(0, 0.5),\n",
    "    \"learning_rate\": uniform(0.03, 0.3), # default 0.1 \n",
    "    \"max_depth\": randint(2, 6), # default 3\n",
    "    \"n_estimators\": randint(50, 200), # default 100\n",
    "    \"subsample\": uniform(0.6, 0.4)\n",
    "}\n",
    "\n",
    "search_XGB = RandomizedSearchCV(xgb_tree, param_distributions=params, random_state=42, n_iter=50, cv=5, verbose=1, n_jobs=-1, return_train_score=True)\n",
    "search_XGB.fit(train_X, train_y)\n",
    "\n",
    "print(\"Best parameters set found on development set:\")\n",
    "print()\n",
    "print(search_XGB.best_params_)\n",
    "print()\n",
    "print(\"Grid scores on development set:\")\n",
    "print()\n",
    "means = search_XGB.cv_results_['mean_test_score']\n",
    "stds = search_XGB.cv_results_['std_test_score']\n",
    "for mean, std, params in zip(means, stds, search_XGB.cv_results_['params']):\n",
    "    print(\"Accuracy = %0.3f (+/%0.03f) for %r\" % (mean, std * 2, params))\n",
    "    \n",
    "predictions = search_XGB.best_estimator_.predict(val_X)\n",
    "\n",
    "print(\"Accuracy = {0:.4f}\".format(accuracy_score(val_y,predictions)))\n",
    "plot_confusion_matrix(search_XGB.best_estimator_, val_X, val_y, val_y.unique(), cmap=plt.cm.Blues)\n",
    "\n",
    "import json\n",
    "\n",
    "json.dump(search_XGB.best_params_, open('XGBoost_params.json', 'w'))\n",
    "#json.dump(search_XGB.best_params_, open('/content/drive/Shared drives/ML2 project/XGBoost_params.json', 'w')) # for Collab\n",
    "\n",
    "results_df.loc[len(results_df)] = ['XGBoost Model', accuracy_score(val_y,predictions)]\n",
    "results_df"
   ]
  },
  {
   "cell_type": "markdown",
   "metadata": {
    "id": "piT9u_dX8LfT"
   },
   "source": [
    "## 5.3 Support Vector Machines [SVM]"
   ]
  },
  {
   "cell_type": "code",
   "execution_count": null,
   "metadata": {},
   "outputs": [],
   "source": [
    "from sklearn import svm\n",
    "from sklearn.model_selection import RandomizedSearchCV\n",
    "\n",
    "svm_basic = svm.SVC(random_state = 42)\n",
    "\n",
    "params = {\n",
    "     \"C\":[1,5,10,100], \n",
    "     \"gamma\":[0.01,0.0001,\"scale\",\"auto\"],\n",
    "     \"kernel\":[\"poly\",\"rbf\"],\n",
    "     \"degree\":[3,4],\n",
    " }\n",
    "\n",
    "search_SVM = RandomizedSearchCV(svm_basic, param_distributions=params, random_state=42, n_jobs=-1, n_iter=50, cv=5, verbose=1, return_train_score=True)\n",
    "search_SVM.fit(train_X, train_y)\n",
    "\n",
    "print(\"Best parameters set found on development set:\")\n",
    "print()\n",
    "print(search_SVM.best_params_)\n",
    "print()\n",
    "print(\"Grid scores on development set:\")\n",
    "print()\n",
    "means = search_SVM.cv_results_['mean_test_score']\n",
    "stds = search_SVM.cv_results_['std_test_score']\n",
    "for mean, std, params in zip(means, stds, search_SVM.cv_results_['params']):\n",
    "    print(\"Accuracy = %0.3f (+/%0.03f) for %r\" % (mean, std * 2, params))\n",
    "    \n",
    "predictions = search_SVM.best_estimator_.predict(val_X)\n",
    "\n",
    "print(\"Accuracy = {0:.4f}\".format(accuracy_score(val_y,predictions)))\n",
    "plot_confusion_matrix(search_SVM.best_estimator_, val_X, val_y, val_y.unique(), cmap=plt.cm.Blues)\n",
    "\n",
    "import json\n",
    "json.dump(search_SVM.best_params_, open('SVM_params.json', 'w'))\n",
    "#json.dump(search_SVM.best_params_, open('/content/drive/Shared drives/ML2 project/SVM_params.json', 'w')) # for Collab\n",
    "\n",
    "results_df.loc[len(results_df)] = ['SVM Model', accuracy_score(val_y,predictions)]\n",
    "results_df"
   ]
  },
  {
   "cell_type": "markdown",
   "metadata": {},
   "source": [
    "The team tried to define a customed kernel, but the accuracy did not improve"
   ]
  },
  {
   "cell_type": "code",
   "execution_count": 41,
   "metadata": {
    "id": "U7aFLfsh8LfV"
   },
   "outputs": [],
   "source": [
    "# from sklearn import svm, pipeline\n",
    "# from sklearn.kernel_approximation import Nystroem\n",
    "# from sklearn.model_selection import GridSearchCV\n",
    "\n",
    "# feature_map_nystroem = Nystroem(gamma=.1,\n",
    "#                                 random_state=42)\n",
    "\n",
    "# nystroem_SVM = pipeline.Pipeline([('kernel_map', feature_map_nystroem),\n",
    "#                                   ('SVM', svm.LinearSVC())])\n",
    "\n",
    "# param_grid = {\n",
    "#     'kernel_map__n_components': [int(x) for x in np.linspace(50, 350, num = 4)],\n",
    "#     'SVM__C': [1,5,10,100],\n",
    "#     #'SVM__gamma': [0.01,0.0001,0.00001]\n",
    "# }\n",
    "\n",
    "# searchSVM = GridSearchCV(nystroem_SVM, param_grid)\n",
    "# searchSVM.fit(train_X,train_y)\n",
    "\n",
    "# print(\"Best parameters set found on development set:\")\n",
    "# print()\n",
    "# print(searchSVM.best_params_)\n",
    "# print()\n",
    "# print(\"Grid scores on development set:\")\n",
    "# print()\n",
    "# means = searchSVM.cv_results_['mean_test_score']\n",
    "# stds = searchSVM.cv_results_['std_test_score']\n",
    "# for mean, std, params in zip(means, stds, searchSVM.cv_results_['params']):\n",
    "#     print(\"Accuracy = %0.3f (+/%0.03f) for %r\" % (mean, std * 2, params))\n",
    "\n",
    "# predictions = searchSVM.best_estimator_.predict(val_X)\n",
    "\n",
    "# print(\"Accuracy = {0:.4f}\".format(accuracy_score(val_y,predictions)))\n",
    "# plot_confusion_matrix(searchSVM.best_estimator_, val_X, val_y, val_y.unique(), cmap=plt.cm.Blues)"
   ]
  },
  {
   "cell_type": "markdown",
   "metadata": {
    "id": "d1xUCJgW8LfY"
   },
   "source": [
    "# 6. Ensemble Method"
   ]
  },
  {
   "cell_type": "markdown",
   "metadata": {
    "id": "voCO7W5r8LfY"
   },
   "source": [
    "Trend in many machine learning challenges and applications nowadays to work with a combination of ML approaches, weighting their predictions. For instance, majority vote or simple assignment of weights are frequently applied."
   ]
  },
  {
   "cell_type": "markdown",
   "metadata": {
    "id": "zrux9DQt8LfY"
   },
   "source": [
    "## 6.1 Voting Classifier"
   ]
  },
  {
   "cell_type": "markdown",
   "metadata": {
    "id": "6Hp9BE8J8LfY"
   },
   "source": [
    "#### TREND OF ENSEMBLE METHODS\n",
    "\n",
    "combination of previously estimated models"
   ]
  },
  {
   "cell_type": "code",
   "execution_count": null,
   "metadata": {
    "id": "UnPHymlm8Lfa",
    "scrolled": true
   },
   "outputs": [],
   "source": [
    "from sklearn.ensemble import VotingClassifier\n",
    "#from sklearn.naive_bayes import GaussianNB\n",
    "#from sklearn.linear_model import LogisticRegression\n",
    "\n",
    "clf1 = search_ET.best_estimator_\n",
    "clf2 = search_XGB.best_estimator_\n",
    "clf3 = search_SVM.best_estimator_\n",
    "#clf4 = #anyothermodel\n",
    "\n",
    "vote_hard = VotingClassifier(estimators=[\n",
    "        ('extraTrees', clf1), ('xgBoost', clf2), ('SVM', clf3)], voting='hard')\n",
    "vote_hard = vote_hard.fit(train_X, train_y)\n",
    "print(vote_hard.predict(val_X))\n",
    "\n",
    "#np.array_equal(vote_hard.named_estimators_.lr.predict(val_X),\n",
    "#               vote_hard.named_estimators_['lr'].predict(val_X))\n",
    "\n",
    "vote_soft = VotingClassifier(estimators=[\n",
    "        ('extraTrees', clf1), ('xgBoost', clf2), ('SVM', clf3)],\n",
    "        voting='soft')\n",
    "vote_soft = vote_soft.fit(train_X, train_y)\n",
    "#print(vote_soft.predict(val_X))\n",
    "\n",
    "##\n",
    "# FOR WEIGHTS, APPLY GRID-SEARCH\n",
    "##\n",
    "vote_weighted = VotingClassifier(estimators=[\n",
    "       ('extraTrees', clf1), ('xgBoost', clf2), ('SVM', clf3)],\n",
    "       voting='soft', weights=[2,1,2],\n",
    "       flatten_transform=True)\n",
    "vote_weighted = vote_weighted.fit(train_X, train_y)\n",
    "#print(vote_weighted.predict(val_X))\n",
    "\n",
    "#print(vote_weighted.transform(train_X).shape)"
   ]
  },
  {
   "cell_type": "code",
   "execution_count": null,
   "metadata": {
    "id": "Vqk_slbh8Lfc"
   },
   "outputs": [],
   "source": [
    "## hard voting 86% and weighted 84% work well"
   ]
  },
  {
   "cell_type": "code",
   "execution_count": null,
   "metadata": {
    "id": "rgbob5E18Lfd"
   },
   "outputs": [],
   "source": [
    "# show confusion matrix of vote 1 (hard)\n",
    "\n",
    "from sklearn.metrics import plot_confusion_matrix, accuracy_score\n",
    "\n",
    "print(\"Accuracy = {0:.4f}\".format(accuracy_score(val_y,vote_hard.predict(val_X))))\n",
    "plot_confusion_matrix(vote_hard, val_X, val_y, val_y.unique(), cmap=plt.cm.Blues)\n",
    "\n",
    "# 0.8606"
   ]
  },
  {
   "cell_type": "code",
   "execution_count": null,
   "metadata": {
    "id": "inRhVp298Lfi"
   },
   "outputs": [],
   "source": [
    "results_df.loc[len(results_df)] = ['Voting E-Model 1', accuracy_score(val_y,vote_hard.predict(val_X))]\n",
    "results_df"
   ]
  },
  {
   "cell_type": "code",
   "execution_count": null,
   "metadata": {
    "id": "H8lh9AUH8Lfj"
   },
   "outputs": [],
   "source": [
    "# show confusion matrix of vote 2 (soft)\n",
    "\n",
    "from sklearn.metrics import plot_confusion_matrix, accuracy_score\n",
    "\n",
    "print(\"Accuracy = {0:.4f}\".format(accuracy_score(val_y,vote_soft.predict(val_X))))\n",
    "plot_confusion_matrix(vote_soft, val_X, val_y, val_y.unique(), cmap=plt.cm.Blues)"
   ]
  },
  {
   "cell_type": "code",
   "execution_count": null,
   "metadata": {
    "id": "NXE8stph8Lfk"
   },
   "outputs": [],
   "source": [
    "results_df.loc[len(results_df)] = ['Voting E-Model 2', accuracy_score(val_y,vote_soft.predict(val_X))]\n",
    "results_df"
   ]
  },
  {
   "cell_type": "code",
   "execution_count": null,
   "metadata": {
    "id": "33Fx3Dz-8Lfl"
   },
   "outputs": [],
   "source": [
    "# show confusion matrix of vote 3 (weighted)\n",
    "\n",
    "from sklearn.metrics import plot_confusion_matrix, accuracy_score\n",
    "\n",
    "print(\"Accuracy = {0:.4f}\".format(accuracy_score(val_y,vote_weighted.predict(val_X))))\n",
    "plot_confusion_matrix(vote_weighted, val_X, val_y, val_y.unique(), cmap=plt.cm.Blues)"
   ]
  },
  {
   "cell_type": "code",
   "execution_count": null,
   "metadata": {
    "id": "cSmBwehz8Lfm",
    "scrolled": false
   },
   "outputs": [],
   "source": [
    "results_df.loc[len(results_df)] = ['Voting E-Model 3', accuracy_score(val_y,vote_weighted.predict(val_X))]\n",
    "results_df"
   ]
  },
  {
   "cell_type": "code",
   "execution_count": null,
   "metadata": {},
   "outputs": [],
   "source": [
    "import numpy as np\n",
    "import matplotlib.pyplot as plt\n",
    "\n",
    "eclf = vote_hard\n",
    "\n",
    "# predict class probabilities for all classifiers\n",
    "probas = [c.fit(X, y).predict_proba(X) for c in (clf1, clf2, clf3, eclf)]\n",
    "\n",
    "# get class probabilities for the first sample in the dataset\n",
    "class1_1 = [pr[0, 0] for pr in probas]\n",
    "class2_1 = [pr[0, 1] for pr in probas]\n",
    "\n",
    "\n",
    "# plotting\n",
    "\n",
    "N = 4  # number of groups\n",
    "ind = np.arange(N)  # group positions\n",
    "width = 0.35  # bar width\n",
    "\n",
    "fig, ax = plt.subplots()\n",
    "\n",
    "# bars for classifier 1-3\n",
    "p1 = ax.bar(ind, np.hstack(([class1_1[:-1], [0]])), width,\n",
    "            color='green', edgecolor='k')\n",
    "p2 = ax.bar(ind + width, np.hstack(([class2_1[:-1], [0]])), width,\n",
    "            color='lightgreen', edgecolor='k')\n",
    "\n",
    "# bars for VotingClassifier\n",
    "p3 = ax.bar(ind, [0, 0, 0, class1_1[-1]], width,\n",
    "            color='blue', edgecolor='k')\n",
    "p4 = ax.bar(ind + width, [0, 0, 0, class2_1[-1]], width,\n",
    "            color='steelblue', edgecolor='k')\n",
    "\n",
    "# plot annotations\n",
    "plt.axvline(2.8, color='k', linestyle='dashed')\n",
    "ax.set_xticks(ind + width)\n",
    "ax.set_xticklabels(['LogisticRegression\\nweight XXX',\n",
    "                    'GaussianNB\\nweight XXX',\n",
    "                    'RandomForestClassifier\\nweight XXX',\n",
    "                    'VotingClassifier\\n(average probabilities)'],\n",
    "                   rotation=40,\n",
    "                   ha='right')\n",
    "plt.ylim([0, 1])\n",
    "plt.title('Class probabilities for sample 1 by different classifiers')\n",
    "plt.legend([p1[0], p2[0]], ['class 1', 'class 2'], loc='upper left')\n",
    "plt.tight_layout()\n",
    "plt.show()"
   ]
  },
  {
   "cell_type": "markdown",
   "metadata": {
    "id": "DevxYBC18Lfn"
   },
   "source": [
    "## 6.2 Stacking Classifier"
   ]
  },
  {
   "cell_type": "code",
   "execution_count": null,
   "metadata": {},
   "outputs": [],
   "source": [
    "# conda install -c conda-forge xgboost -y"
   ]
  },
  {
   "cell_type": "code",
   "execution_count": null,
   "metadata": {
    "id": "0enkCgPL8Lfo"
   },
   "outputs": [],
   "source": [
    "from sklearn.ensemble import RandomForestClassifier\n",
    "from sklearn.svm import LinearSVC\n",
    "from sklearn.linear_model import LogisticRegression\n",
    "from sklearn.ensemble import StackingClassifier\n",
    "import xgboost\n",
    "\n",
    "estimators = [\n",
    "    ('rf', RandomForestClassifier(n_estimators=10, random_state=42)),\n",
    "    ('svr',LinearSVC(random_state=42)),\n",
    "    ('xgb',xgboost.XGBClassifier(objective=\"binary:logistic\", random_state=42))\n",
    "]\n",
    "\n",
    "stack1 = StackingClassifier(\n",
    "    estimators=estimators, final_estimator=LogisticRegression()\n",
    ")\n",
    "\n",
    "stack1.fit(train_X, train_y).score(val_X, val_y)"
   ]
  },
  {
   "cell_type": "code",
   "execution_count": null,
   "metadata": {
    "id": "KfH5M_k78Lfp"
   },
   "outputs": [],
   "source": [
    "# show confusion matrix of benchmark prediction\n",
    "\n",
    "from sklearn.metrics import plot_confusion_matrix, accuracy_score\n",
    "\n",
    "print(\"Accuracy = {0:.4f}\".format(accuracy_score(val_y,stack1.predict(val_X))))\n",
    "plot_confusion_matrix(stack1, val_X, val_y, val_y.unique(), cmap=plt.cm.Blues)\n",
    "\n",
    "# 0.8204"
   ]
  },
  {
   "cell_type": "code",
   "execution_count": null,
   "metadata": {
    "id": "glBcbh3D8Lfq",
    "scrolled": false
   },
   "outputs": [],
   "source": [
    "results_df.loc[len(results_df)] = ['Stacking E-Model', accuracy_score(val_y,stack1.predict(val_X))]\n",
    "results_df"
   ]
  },
  {
   "cell_type": "code",
   "execution_count": null,
   "metadata": {
    "id": "gJTvbbHv8Lfq"
   },
   "outputs": [],
   "source": [
    "# Export results_df ### make sure to adjust \n",
    "\n",
    "results_df.to_csv('FINAL results.csv', index=False)\n",
    "#results_df.to_csv(open('/content/drive/Shared drives/ML2 project/rFINAL esults.csv', 'w'), index=False)"
   ]
  },
  {
   "cell_type": "code",
   "execution_count": null,
   "metadata": {
    "id": "hF4w_YQ68Lfr"
   },
   "outputs": [],
   "source": [
    "# Display results_df\n",
    "\n",
    "models = pd.DataFrame(results_df.iloc[:,0])\n",
    "accuracy = pd.DataFrame(round(results_df.iloc[:,1],5))\n",
    "\n",
    "df = pd.concat([models,accuracy],axis=1)\n",
    "\n",
    "import pandas as pd\n",
    "import numpy as np\n",
    "import matplotlib.pyplot as plt\n",
    "import six\n",
    "\n",
    "def render_mpl_table(data, col_width=10.0, row_height=0.625, font_size=14,\n",
    "                     header_color='#40466e', row_colors=['#f1f1f2', 'w'], edge_color='w',\n",
    "                     bbox=[0, 0, 1, 1], header_columns=0,\n",
    "                     ax=None, **kwargs):\n",
    "    if ax is None:\n",
    "        size = (np.array(data.shape[::-1]) + np.array([0, 1])) * np.array([col_width, row_height])\n",
    "        fig, ax = plt.subplots(figsize=size)\n",
    "        ax.axis('off')\n",
    "\n",
    "    mpl_table = ax.table(cellText=data.values, cellLoc='center', bbox=bbox, colLabels=data.columns, **kwargs)\n",
    "\n",
    "    mpl_table.auto_set_font_size(False)\n",
    "    mpl_table.set_fontsize(font_size)\n",
    "\n",
    "    for k, cell in six.iteritems(mpl_table._cells):\n",
    "        cell.set_edgecolor(edge_color)\n",
    "        if k[0] == 0 or k[1] < header_columns:\n",
    "            cell.set_text_props(weight='bold', color='w')\n",
    "            cell.set_facecolor(header_color)\n",
    "        else:\n",
    "            cell.set_facecolor(row_colors[k[0]%len(row_colors) ])\n",
    "    return ax\n",
    "\n",
    "render_mpl_table(df, header_columns=0, col_width=5.0)\n",
    "\n",
    "plt.savefig('FINAL results_df.png') # not for Google Collab"
   ]
  },
  {
   "cell_type": "markdown",
   "metadata": {
    "id": "Rnl7HjAf8Lfs"
   },
   "source": [
    "## Obtain predictions in test set"
   ]
  },
  {
   "cell_type": "code",
   "execution_count": 74,
   "metadata": {},
   "outputs": [],
   "source": [
    "from sklearn.ensemble import ExtraTreesClassifier\n",
    "from sklearn.ensemble import VotingClassifier\n",
    "import xgboost\n",
    "from sklearn import svm\n",
    "\n",
    "clf1 = xgboost.XGBClassifier(colsample_bytree=0.8311989040672406,\n",
    "              gamma=0.02904180608409973, learning_rate=0.28985284373248055,\n",
    "              max_depth=5, n_estimators=153, \n",
    "              random_state=42, subsample=0.8832290311184181)\n",
    "clf2 = ExtraTreesClassifier(max_depth=88, n_estimators=1720, random_state=42)\n",
    "clf3 = svm.SVC(kernel= 'rbf', C=10, gamma=0.01, random_state=42)"
   ]
  },
  {
   "cell_type": "code",
   "execution_count": 75,
   "metadata": {},
   "outputs": [],
   "source": [
    "vote_hard = VotingClassifier(estimators=[\n",
    "        ('extraTrees', clf1), ('xgBoost', clf2), ('SVM', clf3)], voting='hard')\n",
    "vote_hard = vote_hard.fit(train_X, train_y)\n",
    "\n",
    "\n",
    "\n"
   ]
  },
  {
   "cell_type": "code",
   "execution_count": 76,
   "metadata": {},
   "outputs": [
    {
     "name": "stdout",
     "output_type": "stream",
     "text": [
      "Accuracy = 0.8453\n"
     ]
    },
    {
     "name": "stderr",
     "output_type": "stream",
     "text": [
      "/Users/franciscomansillanavarro/opt/anaconda3/lib/python3.7/site-packages/sklearn/utils/validation.py:70: FutureWarning: Pass labels=[0. 1.] as keyword args. From version 0.25 passing these as positional arguments will result in an error\n",
      "  FutureWarning)\n"
     ]
    },
    {
     "data": {
      "text/plain": [
       "<sklearn.metrics._plot.confusion_matrix.ConfusionMatrixDisplay at 0x7fa2934d5110>"
      ]
     },
     "execution_count": 76,
     "metadata": {},
     "output_type": "execute_result"
    },
    {
     "data": {
      "image/png": "[encoded data removed]",
      "text/plain": [
       "<Figure size 432x288 with 2 Axes>"
      ]
     },
     "metadata": {},
     "output_type": "display_data"
    }
   ],
   "source": [
    "# Check for validation\n",
    "print(\"Accuracy = {0:.4f}\".format(accuracy_score(val_y,vote_hard.predict(val_X))))\n",
    "plot_confusion_matrix(vote_hard, val_X, val_y, val_y.unique(), cmap=plt.cm.Blues)\n"
   ]
  },
  {
   "cell_type": "code",
   "execution_count": 77,
   "metadata": {},
   "outputs": [
    {
     "data": {
      "text/plain": [
       "array([1., 0., 1., ..., 1., 1., 1.])"
      ]
     },
     "execution_count": 77,
     "metadata": {},
     "output_type": "execute_result"
    }
   ],
   "source": [
    "predict_subm = vote_hard.predict(test_X)"
   ]
  },
  {
   "cell_type": "code",
   "execution_count": 79,
   "metadata": {},
   "outputs": [],
   "source": [
    "#predict_subm = _77"
   ]
  },
  {
   "cell_type": "code",
   "execution_count": 81,
   "metadata": {},
   "outputs": [
    {
     "data": {
      "text/plain": [
       "40396"
      ]
     },
     "execution_count": 81,
     "metadata": {},
     "output_type": "execute_result"
    }
   ],
   "source": [
    "len(predict_subm)"
   ]
  },
  {
   "cell_type": "code",
   "execution_count": 85,
   "metadata": {},
   "outputs": [],
   "source": [
    "predict_submDF = pd.DataFrame(predict_subm)"
   ]
  },
  {
   "cell_type": "code",
   "execution_count": 86,
   "metadata": {},
   "outputs": [],
   "source": [
    "predict_submDF.to_csv('predictions.csv', index=False)"
   ]
  }
 ],
 "metadata": {
  "accelerator": "TPU",
  "colab": {
   "collapsed_sections": [
    "WXHxzklD8LfW"
   ],
   "name": "Group_Assignment-2 v9-FINAL.ipynb",
   "provenance": [],
   "toc_visible": true
  },
  "kernelspec": {
   "display_name": "Python 3",
   "language": "python",
   "name": "python3"
  },
  "language_info": {
   "codemirror_mode": {
    "name": "ipython",
    "version": 3
   },
   "file_extension": ".py",
   "mimetype": "text/x-python",
   "name": "python",
   "nbconvert_exporter": "python",
   "pygments_lexer": "ipython3",
   "version": "3.7.6"
  }
 },
 "nbformat": 4,
 "nbformat_minor": 1
}
